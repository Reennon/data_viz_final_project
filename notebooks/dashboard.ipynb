{
 "cells": [
  {
   "cell_type": "code",
   "execution_count": 243,
   "outputs": [],
   "source": [
    "# Define Imports\n",
    "import os\n",
    "import googlemaps\n",
    "import pandas as pd\n",
    "import plotly.express as px\n",
    "import dash_bootstrap_components as dbc\n",
    "import pydeck as pdk\n",
    "from dash import Dash, dcc, html\n",
    "from dotenv import load_dotenv\n",
    "import numpy as np\n",
    "import requests\n",
    "import dash_deck\n",
    "import dash\n",
    "from dash import Output, Input"
   ],
   "metadata": {
    "collapsed": false,
    "ExecuteTime": {
     "end_time": "2024-08-01T15:03:47.679380Z",
     "start_time": "2024-08-01T15:03:47.531542Z"
    }
   }
  },
  {
   "cell_type": "code",
   "execution_count": 244,
   "outputs": [
    {
     "data": {
      "text/plain": "True"
     },
     "execution_count": 244,
     "metadata": {},
     "output_type": "execute_result"
    }
   ],
   "source": [
    "# Load ENV variables\n",
    "load_dotenv(dotenv_path='../.env')"
   ],
   "metadata": {
    "collapsed": false,
    "ExecuteTime": {
     "end_time": "2024-08-01T15:03:47.689999Z",
     "start_time": "2024-08-01T15:03:47.559692Z"
    }
   }
  },
  {
   "cell_type": "code",
   "execution_count": 245,
   "outputs": [
    {
     "data": {
      "text/plain": "    initiator_region item_classification submission_status  \\\n0               Lviv             kitchen           pending   \n1               Lviv             kitchen         withdrawn   \n2               Lviv             kitchen          approval   \n3               Lviv             kitchen          declined   \n4               Lviv             shelter           pending   \n..               ...                 ...               ...   \n239  Transcarpathian             kitchen          approval   \n240  Transcarpathian             shelter         withdrawn   \n241  Transcarpathian             kitchen            active   \n242  Transcarpathian             kitchen      unsuccessful   \n243  Transcarpathian             kitchen          declined   \n\n     number_of_submissions   latitude  longitude  \\\n0                       21  49.839683  24.029717   \n1                        5  49.839683  24.029717   \n2                        4  49.839683  24.029717   \n3                        1  49.839683  24.029717   \n4                        2  49.839683  24.029717   \n..                     ...        ...        ...   \n239                      0  48.620800  22.287883   \n240                      1  48.620800  22.287883   \n241                      0  48.620800  22.287883   \n242                      0  48.620800  22.287883   \n243                      0  48.620800  22.287883   \n\n     latitude_grid_item_classification  longitude_grid_item_classification  \\\n0                            49.999683                           23.869717   \n1                            49.999683                           23.869717   \n2                            49.999683                           23.869717   \n3                            49.999683                           23.869717   \n4                            49.999683                           24.029717   \n..                                 ...                                 ...   \n239                                NaN                                 NaN   \n240                                NaN                                 NaN   \n241                                NaN                                 NaN   \n242                                NaN                                 NaN   \n243                                NaN                                 NaN   \n\n         color  latitude_grid_submission_status  \\\n0          NaN                              NaN   \n1          NaN                              NaN   \n2          NaN                              NaN   \n3          NaN                              NaN   \n4          NaN                              NaN   \n..         ...                              ...   \n239  [0, 0, 0]                          48.7808   \n240        NaN                          48.7808   \n241  [0, 0, 0]                          48.7808   \n242  [0, 0, 0]                          48.7808   \n243  [0, 0, 0]                          48.7808   \n\n     longitude_grid_submission_status  \n0                                 NaN  \n1                                 NaN  \n2                                 NaN  \n3                                 NaN  \n4                                 NaN  \n..                                ...  \n239                         21.967883  \n240                         22.127883  \n241                         22.287883  \n242                         22.447883  \n243                         22.607883  \n\n[244 rows x 11 columns]",
      "text/html": "<div>\n<style scoped>\n    .dataframe tbody tr th:only-of-type {\n        vertical-align: middle;\n    }\n\n    .dataframe tbody tr th {\n        vertical-align: top;\n    }\n\n    .dataframe thead th {\n        text-align: right;\n    }\n</style>\n<table border=\"1\" class=\"dataframe\">\n  <thead>\n    <tr style=\"text-align: right;\">\n      <th></th>\n      <th>initiator_region</th>\n      <th>item_classification</th>\n      <th>submission_status</th>\n      <th>number_of_submissions</th>\n      <th>latitude</th>\n      <th>longitude</th>\n      <th>latitude_grid_item_classification</th>\n      <th>longitude_grid_item_classification</th>\n      <th>color</th>\n      <th>latitude_grid_submission_status</th>\n      <th>longitude_grid_submission_status</th>\n    </tr>\n  </thead>\n  <tbody>\n    <tr>\n      <th>0</th>\n      <td>Lviv</td>\n      <td>kitchen</td>\n      <td>pending</td>\n      <td>21</td>\n      <td>49.839683</td>\n      <td>24.029717</td>\n      <td>49.999683</td>\n      <td>23.869717</td>\n      <td>NaN</td>\n      <td>NaN</td>\n      <td>NaN</td>\n    </tr>\n    <tr>\n      <th>1</th>\n      <td>Lviv</td>\n      <td>kitchen</td>\n      <td>withdrawn</td>\n      <td>5</td>\n      <td>49.839683</td>\n      <td>24.029717</td>\n      <td>49.999683</td>\n      <td>23.869717</td>\n      <td>NaN</td>\n      <td>NaN</td>\n      <td>NaN</td>\n    </tr>\n    <tr>\n      <th>2</th>\n      <td>Lviv</td>\n      <td>kitchen</td>\n      <td>approval</td>\n      <td>4</td>\n      <td>49.839683</td>\n      <td>24.029717</td>\n      <td>49.999683</td>\n      <td>23.869717</td>\n      <td>NaN</td>\n      <td>NaN</td>\n      <td>NaN</td>\n    </tr>\n    <tr>\n      <th>3</th>\n      <td>Lviv</td>\n      <td>kitchen</td>\n      <td>declined</td>\n      <td>1</td>\n      <td>49.839683</td>\n      <td>24.029717</td>\n      <td>49.999683</td>\n      <td>23.869717</td>\n      <td>NaN</td>\n      <td>NaN</td>\n      <td>NaN</td>\n    </tr>\n    <tr>\n      <th>4</th>\n      <td>Lviv</td>\n      <td>shelter</td>\n      <td>pending</td>\n      <td>2</td>\n      <td>49.839683</td>\n      <td>24.029717</td>\n      <td>49.999683</td>\n      <td>24.029717</td>\n      <td>NaN</td>\n      <td>NaN</td>\n      <td>NaN</td>\n    </tr>\n    <tr>\n      <th>...</th>\n      <td>...</td>\n      <td>...</td>\n      <td>...</td>\n      <td>...</td>\n      <td>...</td>\n      <td>...</td>\n      <td>...</td>\n      <td>...</td>\n      <td>...</td>\n      <td>...</td>\n      <td>...</td>\n    </tr>\n    <tr>\n      <th>239</th>\n      <td>Transcarpathian</td>\n      <td>kitchen</td>\n      <td>approval</td>\n      <td>0</td>\n      <td>48.620800</td>\n      <td>22.287883</td>\n      <td>NaN</td>\n      <td>NaN</td>\n      <td>[0, 0, 0]</td>\n      <td>48.7808</td>\n      <td>21.967883</td>\n    </tr>\n    <tr>\n      <th>240</th>\n      <td>Transcarpathian</td>\n      <td>shelter</td>\n      <td>withdrawn</td>\n      <td>1</td>\n      <td>48.620800</td>\n      <td>22.287883</td>\n      <td>NaN</td>\n      <td>NaN</td>\n      <td>NaN</td>\n      <td>48.7808</td>\n      <td>22.127883</td>\n    </tr>\n    <tr>\n      <th>241</th>\n      <td>Transcarpathian</td>\n      <td>kitchen</td>\n      <td>active</td>\n      <td>0</td>\n      <td>48.620800</td>\n      <td>22.287883</td>\n      <td>NaN</td>\n      <td>NaN</td>\n      <td>[0, 0, 0]</td>\n      <td>48.7808</td>\n      <td>22.287883</td>\n    </tr>\n    <tr>\n      <th>242</th>\n      <td>Transcarpathian</td>\n      <td>kitchen</td>\n      <td>unsuccessful</td>\n      <td>0</td>\n      <td>48.620800</td>\n      <td>22.287883</td>\n      <td>NaN</td>\n      <td>NaN</td>\n      <td>[0, 0, 0]</td>\n      <td>48.7808</td>\n      <td>22.447883</td>\n    </tr>\n    <tr>\n      <th>243</th>\n      <td>Transcarpathian</td>\n      <td>kitchen</td>\n      <td>declined</td>\n      <td>0</td>\n      <td>48.620800</td>\n      <td>22.287883</td>\n      <td>NaN</td>\n      <td>NaN</td>\n      <td>[0, 0, 0]</td>\n      <td>48.7808</td>\n      <td>22.607883</td>\n    </tr>\n  </tbody>\n</table>\n<p>244 rows × 11 columns</p>\n</div>"
     },
     "execution_count": 245,
     "metadata": {},
     "output_type": "execute_result"
    }
   ],
   "source": [
    "# Read Golden Submissions Dataset\n",
    "submissions_golden_df = pd.read_csv(\"../data/submissions_golden.csv\")\n",
    "submissions_golden_df"
   ],
   "metadata": {
    "collapsed": false,
    "ExecuteTime": {
     "end_time": "2024-08-01T15:03:47.690881Z",
     "start_time": "2024-08-01T15:03:47.657192Z"
    }
   }
  },
  {
   "cell_type": "code",
   "execution_count": 246,
   "outputs": [
    {
     "data": {
      "text/plain": "     submission_code                   submission_date submission_status  \\\n0    010624-040A8668  2024-06-01 17:36:27.658298+00:00           pending   \n1    020624-2C34FAB7  2024-06-02 16:32:18.130273+00:00           pending   \n2    020624-9F163A6A  2024-06-02 18:06:32.388695+00:00           pending   \n3    020624-D8610EBB  2024-06-02 17:09:51.508281+00:00           pending   \n4    020624-E1B2F3B0  2024-06-02 16:20:55.533024+00:00           pending   \n..               ...                               ...               ...   \n483  310524-F8C525A4  2024-05-31 11:04:36.688246+00:00         withdrawn   \n484  310524-F9A91731  2024-05-31 15:20:47.521727+00:00          approval   \n485  310524-F9C0426D  2024-05-31 18:11:46.185941+00:00           pending   \n486  310524-FD0808D6  2024-05-31 11:34:02.120912+00:00         withdrawn   \n487  310524-FE2BD0D2  2024-05-31 13:15:55.786192+00:00           pending   \n\n                                submission_description initiator_id  \\\n0                              Харчоблок базової кухні      4394869   \n1                                            харчоблок      2146222   \n2                                            харчоблок      2146222   \n3                                            харчоблок      2146222   \n4                                            харчоблок      2146222   \n..                                                 ...          ...   \n483                    Харчоблок Сварицевицького ліцею     44153430   \n484  Капітальний ремонт харчоблоку (їдальні) ліцею ...     44084980   \n485  Капітальний ремонт харчоблоку Середньоберезівс...      4354255   \n486                      Капітальний ремонт харчоблоку      4412567   \n487  Харчоблок БОЛГРАДСЬКОГО ЛІЦЕЮ №2 БОЛГРАДСЬКОЇ ...      4057008   \n\n                                   initiator_legalname  \\\n0                        ВЕЛИКОБІРКІВСЬКА СЕЛИЩНА РАДА   \n1    УПРАВЛІННЯ ОСВІТИ, МОЛОДІ ТА СПОРТУ ЛОЗІВСЬКОЇ...   \n2    УПРАВЛІННЯ ОСВІТИ, МОЛОДІ ТА СПОРТУ ЛОЗІВСЬКОЇ...   \n3    УПРАВЛІННЯ ОСВІТИ, МОЛОДІ ТА СПОРТУ ЛОЗІВСЬКОЇ...   \n4    УПРАВЛІННЯ ОСВІТИ, МОЛОДІ ТА СПОРТУ ЛОЗІВСЬКОЇ...   \n..                                                 ...   \n483  ВІДДІЛ ОСВІТИ, КУЛЬТУРИ, ТУРИЗМУ, МОЛОДІ ТА СП...   \n484  ВІДДІЛ ОСВІТИ ПІДГОРОДНЕНСЬКОЇ МІСЬКОЇ РАДИ ДН...   \n485  ЯБЛУНІВСЬКА СЕЛИЩНА РАДА КОСІВСЬКОГО РАЙОНУ ІВ...   \n486                           ПОНОРНИЦЬКА СЕЛИЩНА РАДА   \n487           БОЛГРАДСЬКА МІСЬКА РАДА ОДЕСЬКОЇ ОБЛАСТІ   \n\n                                     initiator_address   initiator_region  \\\n0    Тернопільська обл., Тернопільський р-н, селище...      Тернопільська   \n1    Харківська обл., місто Лозова, МІКРОРАЙОН 1, б...         Харківська   \n2    Харківська обл., місто Лозова, МІКРОРАЙОН 1, б...         Харківська   \n3    Харківська обл., місто Лозова, МІКРОРАЙОН 1, б...         Харківська   \n4    Харківська обл., місто Лозова, МІКРОРАЙОН 1, б...         Харківська   \n..                                                 ...                ...   \n483  Рівненська обл., Дубровицький р-н, місто Дубро...         Рівненська   \n484  Дніпропетровська обл., Дніпровський р-н, місто...   Дніпропетровська   \n485  Івано-Франківська обл., Косівський р-н, селище...  Івано-Франківська   \n486  Чернігівська обл., Новгород-Сіверський р-н, се...       Чернігівська   \n487  Одеська обл., Болградський р-н, місто Болград,...            Одеська   \n\n     item_amount item_classification  \n0      3967203.0             kitchen  \n1      9607874.0             kitchen  \n2     16569763.0             kitchen  \n3     20051019.0             kitchen  \n4     16166182.0             kitchen  \n..           ...                 ...  \n483    8327800.0             kitchen  \n484   11745067.5             kitchen  \n485     870410.0             kitchen  \n486    3122988.0             kitchen  \n487    1908485.0             kitchen  \n\n[487 rows x 10 columns]",
      "text/html": "<div>\n<style scoped>\n    .dataframe tbody tr th:only-of-type {\n        vertical-align: middle;\n    }\n\n    .dataframe tbody tr th {\n        vertical-align: top;\n    }\n\n    .dataframe thead th {\n        text-align: right;\n    }\n</style>\n<table border=\"1\" class=\"dataframe\">\n  <thead>\n    <tr style=\"text-align: right;\">\n      <th></th>\n      <th>submission_code</th>\n      <th>submission_date</th>\n      <th>submission_status</th>\n      <th>submission_description</th>\n      <th>initiator_id</th>\n      <th>initiator_legalname</th>\n      <th>initiator_address</th>\n      <th>initiator_region</th>\n      <th>item_amount</th>\n      <th>item_classification</th>\n    </tr>\n  </thead>\n  <tbody>\n    <tr>\n      <th>0</th>\n      <td>010624-040A8668</td>\n      <td>2024-06-01 17:36:27.658298+00:00</td>\n      <td>pending</td>\n      <td>Харчоблок базової кухні</td>\n      <td>4394869</td>\n      <td>ВЕЛИКОБІРКІВСЬКА СЕЛИЩНА РАДА</td>\n      <td>Тернопільська обл., Тернопільський р-н, селище...</td>\n      <td>Тернопільська</td>\n      <td>3967203.0</td>\n      <td>kitchen</td>\n    </tr>\n    <tr>\n      <th>1</th>\n      <td>020624-2C34FAB7</td>\n      <td>2024-06-02 16:32:18.130273+00:00</td>\n      <td>pending</td>\n      <td>харчоблок</td>\n      <td>2146222</td>\n      <td>УПРАВЛІННЯ ОСВІТИ, МОЛОДІ ТА СПОРТУ ЛОЗІВСЬКОЇ...</td>\n      <td>Харківська обл., місто Лозова, МІКРОРАЙОН 1, б...</td>\n      <td>Харківська</td>\n      <td>9607874.0</td>\n      <td>kitchen</td>\n    </tr>\n    <tr>\n      <th>2</th>\n      <td>020624-9F163A6A</td>\n      <td>2024-06-02 18:06:32.388695+00:00</td>\n      <td>pending</td>\n      <td>харчоблок</td>\n      <td>2146222</td>\n      <td>УПРАВЛІННЯ ОСВІТИ, МОЛОДІ ТА СПОРТУ ЛОЗІВСЬКОЇ...</td>\n      <td>Харківська обл., місто Лозова, МІКРОРАЙОН 1, б...</td>\n      <td>Харківська</td>\n      <td>16569763.0</td>\n      <td>kitchen</td>\n    </tr>\n    <tr>\n      <th>3</th>\n      <td>020624-D8610EBB</td>\n      <td>2024-06-02 17:09:51.508281+00:00</td>\n      <td>pending</td>\n      <td>харчоблок</td>\n      <td>2146222</td>\n      <td>УПРАВЛІННЯ ОСВІТИ, МОЛОДІ ТА СПОРТУ ЛОЗІВСЬКОЇ...</td>\n      <td>Харківська обл., місто Лозова, МІКРОРАЙОН 1, б...</td>\n      <td>Харківська</td>\n      <td>20051019.0</td>\n      <td>kitchen</td>\n    </tr>\n    <tr>\n      <th>4</th>\n      <td>020624-E1B2F3B0</td>\n      <td>2024-06-02 16:20:55.533024+00:00</td>\n      <td>pending</td>\n      <td>харчоблок</td>\n      <td>2146222</td>\n      <td>УПРАВЛІННЯ ОСВІТИ, МОЛОДІ ТА СПОРТУ ЛОЗІВСЬКОЇ...</td>\n      <td>Харківська обл., місто Лозова, МІКРОРАЙОН 1, б...</td>\n      <td>Харківська</td>\n      <td>16166182.0</td>\n      <td>kitchen</td>\n    </tr>\n    <tr>\n      <th>...</th>\n      <td>...</td>\n      <td>...</td>\n      <td>...</td>\n      <td>...</td>\n      <td>...</td>\n      <td>...</td>\n      <td>...</td>\n      <td>...</td>\n      <td>...</td>\n      <td>...</td>\n    </tr>\n    <tr>\n      <th>483</th>\n      <td>310524-F8C525A4</td>\n      <td>2024-05-31 11:04:36.688246+00:00</td>\n      <td>withdrawn</td>\n      <td>Харчоблок Сварицевицького ліцею</td>\n      <td>44153430</td>\n      <td>ВІДДІЛ ОСВІТИ, КУЛЬТУРИ, ТУРИЗМУ, МОЛОДІ ТА СП...</td>\n      <td>Рівненська обл., Дубровицький р-н, місто Дубро...</td>\n      <td>Рівненська</td>\n      <td>8327800.0</td>\n      <td>kitchen</td>\n    </tr>\n    <tr>\n      <th>484</th>\n      <td>310524-F9A91731</td>\n      <td>2024-05-31 15:20:47.521727+00:00</td>\n      <td>approval</td>\n      <td>Капітальний ремонт харчоблоку (їдальні) ліцею ...</td>\n      <td>44084980</td>\n      <td>ВІДДІЛ ОСВІТИ ПІДГОРОДНЕНСЬКОЇ МІСЬКОЇ РАДИ ДН...</td>\n      <td>Дніпропетровська обл., Дніпровський р-н, місто...</td>\n      <td>Дніпропетровська</td>\n      <td>11745067.5</td>\n      <td>kitchen</td>\n    </tr>\n    <tr>\n      <th>485</th>\n      <td>310524-F9C0426D</td>\n      <td>2024-05-31 18:11:46.185941+00:00</td>\n      <td>pending</td>\n      <td>Капітальний ремонт харчоблоку Середньоберезівс...</td>\n      <td>4354255</td>\n      <td>ЯБЛУНІВСЬКА СЕЛИЩНА РАДА КОСІВСЬКОГО РАЙОНУ ІВ...</td>\n      <td>Івано-Франківська обл., Косівський р-н, селище...</td>\n      <td>Івано-Франківська</td>\n      <td>870410.0</td>\n      <td>kitchen</td>\n    </tr>\n    <tr>\n      <th>486</th>\n      <td>310524-FD0808D6</td>\n      <td>2024-05-31 11:34:02.120912+00:00</td>\n      <td>withdrawn</td>\n      <td>Капітальний ремонт харчоблоку</td>\n      <td>4412567</td>\n      <td>ПОНОРНИЦЬКА СЕЛИЩНА РАДА</td>\n      <td>Чернігівська обл., Новгород-Сіверський р-н, се...</td>\n      <td>Чернігівська</td>\n      <td>3122988.0</td>\n      <td>kitchen</td>\n    </tr>\n    <tr>\n      <th>487</th>\n      <td>310524-FE2BD0D2</td>\n      <td>2024-05-31 13:15:55.786192+00:00</td>\n      <td>pending</td>\n      <td>Харчоблок БОЛГРАДСЬКОГО ЛІЦЕЮ №2 БОЛГРАДСЬКОЇ ...</td>\n      <td>4057008</td>\n      <td>БОЛГРАДСЬКА МІСЬКА РАДА ОДЕСЬКОЇ ОБЛАСТІ</td>\n      <td>Одеська обл., Болградський р-н, місто Болград,...</td>\n      <td>Одеська</td>\n      <td>1908485.0</td>\n      <td>kitchen</td>\n    </tr>\n  </tbody>\n</table>\n<p>487 rows × 10 columns</p>\n</div>"
     },
     "execution_count": 246,
     "metadata": {},
     "output_type": "execute_result"
    }
   ],
   "source": [
    "# Read Raw Submissions Dataset (Needed for a time-line plot)\n",
    "submissions_raw_df = pd.read_csv(\"../data/submissions.csv\")\n",
    "submissions_raw_df = submissions_raw_df.dropna()\n",
    "submissions_raw_df.loc[:, 'submission_date'] = pd.to_datetime(submissions_raw_df.loc[:, 'submission_date'])\n",
    "submissions_raw_df"
   ],
   "metadata": {
    "collapsed": false,
    "ExecuteTime": {
     "end_time": "2024-08-01T15:03:47.818626Z",
     "start_time": "2024-08-01T15:03:47.690139Z"
    }
   }
  },
  {
   "cell_type": "code",
   "execution_count": 247,
   "outputs": [],
   "source": [
    "# Define a tooltip for map\n",
    "tooltip = {\n",
    "    'html': '<b>Initiator Region:</b> {initiator_region}<br>'\n",
    "            '<b>{tooltip_title}:</b> {tooltip_category}<br>'\n",
    "            '<b>Number of Submissions:</b> {number_of_submissions}',\n",
    "    'style': {\n",
    "        'color': 'white',\n",
    "        'z-index': 99\n",
    "    }\n",
    "}"
   ],
   "metadata": {
    "collapsed": false,
    "ExecuteTime": {
     "end_time": "2024-08-01T15:03:47.818822Z",
     "start_time": "2024-08-01T15:03:47.791618Z"
    }
   }
  },
  {
   "cell_type": "code",
   "execution_count": 248,
   "outputs": [],
   "source": [
    "# Define plot parameters\n",
    "BARPLOT_HEIGHT: int = 400\n",
    "LINEPLOT_HEIGHT: int = 300\n",
    "PYDECK_STATUS_MAP_COLOR_MAP: dict = {\n",
    "    'approval': [72, 143, 49],\n",
    "    'active': [142, 174, 84],\n",
    "    'pending': [202, 205, 128],\n",
    "    'withdrawn': [247, 188, 125],\n",
    "    'unsuccessful': [239, 131, 95],\n",
    "    'declined': [222, 66, 91],\n",
    "}\n",
    "# Transform rgb list which PyDeck use to RGB format for plotly\n",
    "# Henceforth, we stay consistent and easy to update\n",
    "PLOTLY_STATUS_BARPLOT_COLOR_MAP: dict = {\n",
    "    k: f\"rgb({r}, {g}, {b})\" for k, (r, g, b) in PYDECK_STATUS_MAP_COLOR_MAP.items()\n",
    "}\n",
    "PYDECK_ITEM_CLASSIFICATION_COLOR_MAP: dict = {\n",
    "    'kitchen': [124, 198, 116],\n",
    "    'shelter': [115, 197, 197]\n",
    "}\n",
    "PLOTLY_ITEM_CLASSIFICATION_COLOR_MAP: dict = {\n",
    "    k: f\"rgb({r}, {g}, {b})\" for k, (r, g, b) in PYDECK_ITEM_CLASSIFICATION_COLOR_MAP.items()\n",
    "}"
   ],
   "metadata": {
    "collapsed": false,
    "ExecuteTime": {
     "end_time": "2024-08-01T15:03:47.893619Z",
     "start_time": "2024-08-01T15:03:47.814205Z"
    }
   }
  },
  {
   "cell_type": "code",
   "execution_count": 249,
   "outputs": [],
   "source": [
    "# Add GeoJSON layer to visualize admin units\n",
    "geojson_url = \"https://github.com/wmgeolab/geoBoundaries/raw/905b0ba/releaseData/gbOpen/UKR/ADM1/geoBoundaries-UKR-ADM1_simplified.geojson\"\n",
    "response = requests.get(geojson_url)\n",
    "ukraine_geojson = response.json()\n",
    "\n",
    "geojson_layer = pdk.Layer(\n",
    "    'GeoJsonLayer',\n",
    "    data=ukraine_geojson,\n",
    "    stroked=True,\n",
    "    filled=True,\n",
    "    get_line_color=[255, 255, 255],\n",
    "    get_line_width=1000,\n",
    "    get_fill_color=[0, 0, 0, 20],\n",
    "    wireframe=True,\n",
    "    extruded=False,\n",
    ")"
   ],
   "metadata": {
    "collapsed": false,
    "ExecuteTime": {
     "end_time": "2024-08-01T15:03:48.639023Z",
     "start_time": "2024-08-01T15:03:47.839609Z"
    }
   }
  },
  {
   "cell_type": "code",
   "execution_count": 250,
   "outputs": [],
   "source": [
    "# Prepare a placeholders for a map\n",
    "# Set the viewport location\n",
    "view_state = pdk.ViewState(\n",
    "    latitude=submissions_golden_df['latitude'].mean(),\n",
    "    longitude=submissions_golden_df['longitude'].mean() + 4,\n",
    "    zoom=5,\n",
    "    pitch=33\n",
    ")\n",
    "# Create the initial Deck object\n",
    "initial_deck = pdk.Deck(\n",
    "    layers=[geojson_layer],\n",
    "    initial_view_state=view_state,\n",
    "    tooltip=tooltip,\n",
    "    map_style='mapbox://styles/mapbox/dark-v10',\n",
    ")\n",
    "\n",
    "# Create the DeckGL component\n",
    "deck_component = dash_deck.DeckGL(\n",
    "    initial_deck.to_json(),\n",
    "    id='deck-gl',\n",
    "    tooltip=tooltip,\n",
    "    mapboxKey=os.getenv(\"MAPBOX_API_KEY\"),\n",
    "    style={\"height\": '42.5vh', \"position\": 'relative'}\n",
    ")"
   ],
   "metadata": {
    "collapsed": false,
    "ExecuteTime": {
     "end_time": "2024-08-01T15:03:48.918671Z",
     "start_time": "2024-08-01T15:03:48.640321Z"
    }
   }
  },
  {
   "cell_type": "code",
   "execution_count": 251,
   "outputs": [
    {
     "data": {
      "application/vnd.plotly.v1+json": {
       "data": [
        {
         "alignmentgroup": "True",
         "hovertemplate": "Submission Status=%{x}<br>Count=%{y}<extra></extra>",
         "legendgroup": "pending",
         "marker": {
          "color": "rgb(202, 205, 128)",
          "pattern": {
           "shape": ""
          }
         },
         "name": "pending",
         "offsetgroup": "pending",
         "orientation": "v",
         "showlegend": true,
         "textposition": "auto",
         "x": [
          "pending"
         ],
         "xaxis": "x",
         "y": [
          72
         ],
         "yaxis": "y",
         "type": "bar"
        },
        {
         "alignmentgroup": "True",
         "hovertemplate": "Submission Status=%{x}<br>Count=%{y}<extra></extra>",
         "legendgroup": "withdrawn",
         "marker": {
          "color": "rgb(247, 188, 125)",
          "pattern": {
           "shape": ""
          }
         },
         "name": "withdrawn",
         "offsetgroup": "withdrawn",
         "orientation": "v",
         "showlegend": true,
         "textposition": "auto",
         "x": [
          "withdrawn"
         ],
         "xaxis": "x",
         "y": [
          53
         ],
         "yaxis": "y",
         "type": "bar"
        },
        {
         "alignmentgroup": "True",
         "hovertemplate": "Submission Status=%{x}<br>Count=%{y}<extra></extra>",
         "legendgroup": "approval",
         "marker": {
          "color": "rgb(72, 143, 49)",
          "pattern": {
           "shape": ""
          }
         },
         "name": "approval",
         "offsetgroup": "approval",
         "orientation": "v",
         "showlegend": true,
         "textposition": "auto",
         "x": [
          "approval"
         ],
         "xaxis": "x",
         "y": [
          39
         ],
         "yaxis": "y",
         "type": "bar"
        },
        {
         "alignmentgroup": "True",
         "hovertemplate": "Submission Status=%{x}<br>Count=%{y}<extra></extra>",
         "legendgroup": "active",
         "marker": {
          "color": "rgb(142, 174, 84)",
          "pattern": {
           "shape": ""
          }
         },
         "name": "active",
         "offsetgroup": "active",
         "orientation": "v",
         "showlegend": true,
         "textposition": "auto",
         "x": [
          "active"
         ],
         "xaxis": "x",
         "y": [
          30
         ],
         "yaxis": "y",
         "type": "bar"
        },
        {
         "alignmentgroup": "True",
         "hovertemplate": "Submission Status=%{x}<br>Count=%{y}<extra></extra>",
         "legendgroup": "unsuccessful",
         "marker": {
          "color": "rgb(239, 131, 95)",
          "pattern": {
           "shape": ""
          }
         },
         "name": "unsuccessful",
         "offsetgroup": "unsuccessful",
         "orientation": "v",
         "showlegend": true,
         "textposition": "auto",
         "x": [
          "unsuccessful"
         ],
         "xaxis": "x",
         "y": [
          26
         ],
         "yaxis": "y",
         "type": "bar"
        },
        {
         "alignmentgroup": "True",
         "hovertemplate": "Submission Status=%{x}<br>Count=%{y}<extra></extra>",
         "legendgroup": "declined",
         "marker": {
          "color": "rgb(222, 66, 91)",
          "pattern": {
           "shape": ""
          }
         },
         "name": "declined",
         "offsetgroup": "declined",
         "orientation": "v",
         "showlegend": true,
         "textposition": "auto",
         "x": [
          "declined"
         ],
         "xaxis": "x",
         "y": [
          24
         ],
         "yaxis": "y",
         "type": "bar"
        }
       ],
       "layout": {
        "template": {
         "data": {
          "histogram2dcontour": [
           {
            "type": "histogram2dcontour",
            "colorbar": {
             "outlinewidth": 0,
             "ticks": ""
            },
            "colorscale": [
             [
              0.0,
              "#0d0887"
             ],
             [
              0.1111111111111111,
              "#46039f"
             ],
             [
              0.2222222222222222,
              "#7201a8"
             ],
             [
              0.3333333333333333,
              "#9c179e"
             ],
             [
              0.4444444444444444,
              "#bd3786"
             ],
             [
              0.5555555555555556,
              "#d8576b"
             ],
             [
              0.6666666666666666,
              "#ed7953"
             ],
             [
              0.7777777777777778,
              "#fb9f3a"
             ],
             [
              0.8888888888888888,
              "#fdca26"
             ],
             [
              1.0,
              "#f0f921"
             ]
            ]
           }
          ],
          "choropleth": [
           {
            "type": "choropleth",
            "colorbar": {
             "outlinewidth": 0,
             "ticks": ""
            }
           }
          ],
          "histogram2d": [
           {
            "type": "histogram2d",
            "colorbar": {
             "outlinewidth": 0,
             "ticks": ""
            },
            "colorscale": [
             [
              0.0,
              "#0d0887"
             ],
             [
              0.1111111111111111,
              "#46039f"
             ],
             [
              0.2222222222222222,
              "#7201a8"
             ],
             [
              0.3333333333333333,
              "#9c179e"
             ],
             [
              0.4444444444444444,
              "#bd3786"
             ],
             [
              0.5555555555555556,
              "#d8576b"
             ],
             [
              0.6666666666666666,
              "#ed7953"
             ],
             [
              0.7777777777777778,
              "#fb9f3a"
             ],
             [
              0.8888888888888888,
              "#fdca26"
             ],
             [
              1.0,
              "#f0f921"
             ]
            ]
           }
          ],
          "heatmap": [
           {
            "type": "heatmap",
            "colorbar": {
             "outlinewidth": 0,
             "ticks": ""
            },
            "colorscale": [
             [
              0.0,
              "#0d0887"
             ],
             [
              0.1111111111111111,
              "#46039f"
             ],
             [
              0.2222222222222222,
              "#7201a8"
             ],
             [
              0.3333333333333333,
              "#9c179e"
             ],
             [
              0.4444444444444444,
              "#bd3786"
             ],
             [
              0.5555555555555556,
              "#d8576b"
             ],
             [
              0.6666666666666666,
              "#ed7953"
             ],
             [
              0.7777777777777778,
              "#fb9f3a"
             ],
             [
              0.8888888888888888,
              "#fdca26"
             ],
             [
              1.0,
              "#f0f921"
             ]
            ]
           }
          ],
          "heatmapgl": [
           {
            "type": "heatmapgl",
            "colorbar": {
             "outlinewidth": 0,
             "ticks": ""
            },
            "colorscale": [
             [
              0.0,
              "#0d0887"
             ],
             [
              0.1111111111111111,
              "#46039f"
             ],
             [
              0.2222222222222222,
              "#7201a8"
             ],
             [
              0.3333333333333333,
              "#9c179e"
             ],
             [
              0.4444444444444444,
              "#bd3786"
             ],
             [
              0.5555555555555556,
              "#d8576b"
             ],
             [
              0.6666666666666666,
              "#ed7953"
             ],
             [
              0.7777777777777778,
              "#fb9f3a"
             ],
             [
              0.8888888888888888,
              "#fdca26"
             ],
             [
              1.0,
              "#f0f921"
             ]
            ]
           }
          ],
          "contourcarpet": [
           {
            "type": "contourcarpet",
            "colorbar": {
             "outlinewidth": 0,
             "ticks": ""
            }
           }
          ],
          "contour": [
           {
            "type": "contour",
            "colorbar": {
             "outlinewidth": 0,
             "ticks": ""
            },
            "colorscale": [
             [
              0.0,
              "#0d0887"
             ],
             [
              0.1111111111111111,
              "#46039f"
             ],
             [
              0.2222222222222222,
              "#7201a8"
             ],
             [
              0.3333333333333333,
              "#9c179e"
             ],
             [
              0.4444444444444444,
              "#bd3786"
             ],
             [
              0.5555555555555556,
              "#d8576b"
             ],
             [
              0.6666666666666666,
              "#ed7953"
             ],
             [
              0.7777777777777778,
              "#fb9f3a"
             ],
             [
              0.8888888888888888,
              "#fdca26"
             ],
             [
              1.0,
              "#f0f921"
             ]
            ]
           }
          ],
          "surface": [
           {
            "type": "surface",
            "colorbar": {
             "outlinewidth": 0,
             "ticks": ""
            },
            "colorscale": [
             [
              0.0,
              "#0d0887"
             ],
             [
              0.1111111111111111,
              "#46039f"
             ],
             [
              0.2222222222222222,
              "#7201a8"
             ],
             [
              0.3333333333333333,
              "#9c179e"
             ],
             [
              0.4444444444444444,
              "#bd3786"
             ],
             [
              0.5555555555555556,
              "#d8576b"
             ],
             [
              0.6666666666666666,
              "#ed7953"
             ],
             [
              0.7777777777777778,
              "#fb9f3a"
             ],
             [
              0.8888888888888888,
              "#fdca26"
             ],
             [
              1.0,
              "#f0f921"
             ]
            ]
           }
          ],
          "mesh3d": [
           {
            "type": "mesh3d",
            "colorbar": {
             "outlinewidth": 0,
             "ticks": ""
            }
           }
          ],
          "scatter": [
           {
            "marker": {
             "line": {
              "color": "#283442"
             }
            },
            "type": "scatter"
           }
          ],
          "parcoords": [
           {
            "type": "parcoords",
            "line": {
             "colorbar": {
              "outlinewidth": 0,
              "ticks": ""
             }
            }
           }
          ],
          "scatterpolargl": [
           {
            "type": "scatterpolargl",
            "marker": {
             "colorbar": {
              "outlinewidth": 0,
              "ticks": ""
             }
            }
           }
          ],
          "bar": [
           {
            "error_x": {
             "color": "#f2f5fa"
            },
            "error_y": {
             "color": "#f2f5fa"
            },
            "marker": {
             "line": {
              "color": "rgb(17,17,17)",
              "width": 0.5
             },
             "pattern": {
              "fillmode": "overlay",
              "size": 10,
              "solidity": 0.2
             }
            },
            "type": "bar"
           }
          ],
          "scattergeo": [
           {
            "type": "scattergeo",
            "marker": {
             "colorbar": {
              "outlinewidth": 0,
              "ticks": ""
             }
            }
           }
          ],
          "scatterpolar": [
           {
            "type": "scatterpolar",
            "marker": {
             "colorbar": {
              "outlinewidth": 0,
              "ticks": ""
             }
            }
           }
          ],
          "histogram": [
           {
            "marker": {
             "pattern": {
              "fillmode": "overlay",
              "size": 10,
              "solidity": 0.2
             }
            },
            "type": "histogram"
           }
          ],
          "scattergl": [
           {
            "marker": {
             "line": {
              "color": "#283442"
             }
            },
            "type": "scattergl"
           }
          ],
          "scatter3d": [
           {
            "type": "scatter3d",
            "line": {
             "colorbar": {
              "outlinewidth": 0,
              "ticks": ""
             }
            },
            "marker": {
             "colorbar": {
              "outlinewidth": 0,
              "ticks": ""
             }
            }
           }
          ],
          "scattermapbox": [
           {
            "type": "scattermapbox",
            "marker": {
             "colorbar": {
              "outlinewidth": 0,
              "ticks": ""
             }
            }
           }
          ],
          "scatterternary": [
           {
            "type": "scatterternary",
            "marker": {
             "colorbar": {
              "outlinewidth": 0,
              "ticks": ""
             }
            }
           }
          ],
          "scattercarpet": [
           {
            "type": "scattercarpet",
            "marker": {
             "colorbar": {
              "outlinewidth": 0,
              "ticks": ""
             }
            }
           }
          ],
          "carpet": [
           {
            "aaxis": {
             "endlinecolor": "#A2B1C6",
             "gridcolor": "#506784",
             "linecolor": "#506784",
             "minorgridcolor": "#506784",
             "startlinecolor": "#A2B1C6"
            },
            "baxis": {
             "endlinecolor": "#A2B1C6",
             "gridcolor": "#506784",
             "linecolor": "#506784",
             "minorgridcolor": "#506784",
             "startlinecolor": "#A2B1C6"
            },
            "type": "carpet"
           }
          ],
          "table": [
           {
            "cells": {
             "fill": {
              "color": "#506784"
             },
             "line": {
              "color": "rgb(17,17,17)"
             }
            },
            "header": {
             "fill": {
              "color": "#2a3f5f"
             },
             "line": {
              "color": "rgb(17,17,17)"
             }
            },
            "type": "table"
           }
          ],
          "barpolar": [
           {
            "marker": {
             "line": {
              "color": "rgb(17,17,17)",
              "width": 0.5
             },
             "pattern": {
              "fillmode": "overlay",
              "size": 10,
              "solidity": 0.2
             }
            },
            "type": "barpolar"
           }
          ],
          "pie": [
           {
            "automargin": true,
            "type": "pie"
           }
          ]
         },
         "layout": {
          "autotypenumbers": "strict",
          "colorway": [
           "#636efa",
           "#EF553B",
           "#00cc96",
           "#ab63fa",
           "#FFA15A",
           "#19d3f3",
           "#FF6692",
           "#B6E880",
           "#FF97FF",
           "#FECB52"
          ],
          "font": {
           "color": "#f2f5fa"
          },
          "hovermode": "closest",
          "hoverlabel": {
           "align": "left"
          },
          "paper_bgcolor": "rgb(17,17,17)",
          "plot_bgcolor": "rgb(17,17,17)",
          "polar": {
           "bgcolor": "rgb(17,17,17)",
           "angularaxis": {
            "gridcolor": "#506784",
            "linecolor": "#506784",
            "ticks": ""
           },
           "radialaxis": {
            "gridcolor": "#506784",
            "linecolor": "#506784",
            "ticks": ""
           }
          },
          "ternary": {
           "bgcolor": "rgb(17,17,17)",
           "aaxis": {
            "gridcolor": "#506784",
            "linecolor": "#506784",
            "ticks": ""
           },
           "baxis": {
            "gridcolor": "#506784",
            "linecolor": "#506784",
            "ticks": ""
           },
           "caxis": {
            "gridcolor": "#506784",
            "linecolor": "#506784",
            "ticks": ""
           }
          },
          "coloraxis": {
           "colorbar": {
            "outlinewidth": 0,
            "ticks": ""
           }
          },
          "colorscale": {
           "sequential": [
            [
             0.0,
             "#0d0887"
            ],
            [
             0.1111111111111111,
             "#46039f"
            ],
            [
             0.2222222222222222,
             "#7201a8"
            ],
            [
             0.3333333333333333,
             "#9c179e"
            ],
            [
             0.4444444444444444,
             "#bd3786"
            ],
            [
             0.5555555555555556,
             "#d8576b"
            ],
            [
             0.6666666666666666,
             "#ed7953"
            ],
            [
             0.7777777777777778,
             "#fb9f3a"
            ],
            [
             0.8888888888888888,
             "#fdca26"
            ],
            [
             1.0,
             "#f0f921"
            ]
           ],
           "sequentialminus": [
            [
             0.0,
             "#0d0887"
            ],
            [
             0.1111111111111111,
             "#46039f"
            ],
            [
             0.2222222222222222,
             "#7201a8"
            ],
            [
             0.3333333333333333,
             "#9c179e"
            ],
            [
             0.4444444444444444,
             "#bd3786"
            ],
            [
             0.5555555555555556,
             "#d8576b"
            ],
            [
             0.6666666666666666,
             "#ed7953"
            ],
            [
             0.7777777777777778,
             "#fb9f3a"
            ],
            [
             0.8888888888888888,
             "#fdca26"
            ],
            [
             1.0,
             "#f0f921"
            ]
           ],
           "diverging": [
            [
             0,
             "#8e0152"
            ],
            [
             0.1,
             "#c51b7d"
            ],
            [
             0.2,
             "#de77ae"
            ],
            [
             0.3,
             "#f1b6da"
            ],
            [
             0.4,
             "#fde0ef"
            ],
            [
             0.5,
             "#f7f7f7"
            ],
            [
             0.6,
             "#e6f5d0"
            ],
            [
             0.7,
             "#b8e186"
            ],
            [
             0.8,
             "#7fbc41"
            ],
            [
             0.9,
             "#4d9221"
            ],
            [
             1,
             "#276419"
            ]
           ]
          },
          "xaxis": {
           "gridcolor": "#283442",
           "linecolor": "#506784",
           "ticks": "",
           "title": {
            "standoff": 15
           },
           "zerolinecolor": "#283442",
           "automargin": true,
           "zerolinewidth": 2
          },
          "yaxis": {
           "gridcolor": "#283442",
           "linecolor": "#506784",
           "ticks": "",
           "title": {
            "standoff": 15
           },
           "zerolinecolor": "#283442",
           "automargin": true,
           "zerolinewidth": 2
          },
          "scene": {
           "xaxis": {
            "backgroundcolor": "rgb(17,17,17)",
            "gridcolor": "#506784",
            "linecolor": "#506784",
            "showbackground": true,
            "ticks": "",
            "zerolinecolor": "#C8D4E3",
            "gridwidth": 2
           },
           "yaxis": {
            "backgroundcolor": "rgb(17,17,17)",
            "gridcolor": "#506784",
            "linecolor": "#506784",
            "showbackground": true,
            "ticks": "",
            "zerolinecolor": "#C8D4E3",
            "gridwidth": 2
           },
           "zaxis": {
            "backgroundcolor": "rgb(17,17,17)",
            "gridcolor": "#506784",
            "linecolor": "#506784",
            "showbackground": true,
            "ticks": "",
            "zerolinecolor": "#C8D4E3",
            "gridwidth": 2
           }
          },
          "shapedefaults": {
           "line": {
            "color": "#f2f5fa"
           }
          },
          "annotationdefaults": {
           "arrowcolor": "#f2f5fa",
           "arrowhead": 0,
           "arrowwidth": 1
          },
          "geo": {
           "bgcolor": "rgb(17,17,17)",
           "landcolor": "rgb(17,17,17)",
           "subunitcolor": "#506784",
           "showland": true,
           "showlakes": true,
           "lakecolor": "rgb(17,17,17)"
          },
          "title": {
           "x": 0.05
          },
          "updatemenudefaults": {
           "bgcolor": "#506784",
           "borderwidth": 0
          },
          "sliderdefaults": {
           "bgcolor": "#C8D4E3",
           "borderwidth": 1,
           "bordercolor": "rgb(17,17,17)",
           "tickwidth": 0
          },
          "mapbox": {
           "style": "dark"
          }
         }
        },
        "xaxis": {
         "anchor": "y",
         "domain": [
          0.0,
          1.0
         ],
         "title": {
          "text": "Submission Status"
         },
         "categoryorder": "array",
         "categoryarray": [
          "pending",
          "withdrawn",
          "approval",
          "active",
          "unsuccessful",
          "declined"
         ]
        },
        "yaxis": {
         "anchor": "x",
         "domain": [
          0.0,
          1.0
         ],
         "title": {
          "text": "Count"
         }
        },
        "legend": {
         "title": {
          "text": "Submission Status"
         },
         "tracegroupgap": 0,
         "x": 1.05,
         "y": 1,
         "traceorder": "normal",
         "bgcolor": "rgba(255, 255, 255, 0)",
         "bordercolor": "rgba(255, 255, 255, 0)"
        },
        "title": {
         "text": "Distribution of Submissions by Status"
        },
        "barmode": "relative",
        "height": 400,
        "margin": {
         "r": 150
        },
        "font": {
         "family": "Helvetica",
         "size": 14,
         "color": "white"
        }
       },
       "config": {
        "plotlyServerURL": "https://plot.ly"
       }
      },
      "text/html": "<div>                            <div id=\"0f5dfae5-22fd-4636-b7a9-0a2e6db58852\" class=\"plotly-graph-div\" style=\"height:400px; width:100%;\"></div>            <script type=\"text/javascript\">                require([\"plotly\"], function(Plotly) {                    window.PLOTLYENV=window.PLOTLYENV || {};                                    if (document.getElementById(\"0f5dfae5-22fd-4636-b7a9-0a2e6db58852\")) {                    Plotly.newPlot(                        \"0f5dfae5-22fd-4636-b7a9-0a2e6db58852\",                        [{\"alignmentgroup\":\"True\",\"hovertemplate\":\"Submission Status=%{x}\\u003cbr\\u003eCount=%{y}\\u003cextra\\u003e\\u003c\\u002fextra\\u003e\",\"legendgroup\":\"pending\",\"marker\":{\"color\":\"rgb(202, 205, 128)\",\"pattern\":{\"shape\":\"\"}},\"name\":\"pending\",\"offsetgroup\":\"pending\",\"orientation\":\"v\",\"showlegend\":true,\"textposition\":\"auto\",\"x\":[\"pending\"],\"xaxis\":\"x\",\"y\":[72],\"yaxis\":\"y\",\"type\":\"bar\"},{\"alignmentgroup\":\"True\",\"hovertemplate\":\"Submission Status=%{x}\\u003cbr\\u003eCount=%{y}\\u003cextra\\u003e\\u003c\\u002fextra\\u003e\",\"legendgroup\":\"withdrawn\",\"marker\":{\"color\":\"rgb(247, 188, 125)\",\"pattern\":{\"shape\":\"\"}},\"name\":\"withdrawn\",\"offsetgroup\":\"withdrawn\",\"orientation\":\"v\",\"showlegend\":true,\"textposition\":\"auto\",\"x\":[\"withdrawn\"],\"xaxis\":\"x\",\"y\":[53],\"yaxis\":\"y\",\"type\":\"bar\"},{\"alignmentgroup\":\"True\",\"hovertemplate\":\"Submission Status=%{x}\\u003cbr\\u003eCount=%{y}\\u003cextra\\u003e\\u003c\\u002fextra\\u003e\",\"legendgroup\":\"approval\",\"marker\":{\"color\":\"rgb(72, 143, 49)\",\"pattern\":{\"shape\":\"\"}},\"name\":\"approval\",\"offsetgroup\":\"approval\",\"orientation\":\"v\",\"showlegend\":true,\"textposition\":\"auto\",\"x\":[\"approval\"],\"xaxis\":\"x\",\"y\":[39],\"yaxis\":\"y\",\"type\":\"bar\"},{\"alignmentgroup\":\"True\",\"hovertemplate\":\"Submission Status=%{x}\\u003cbr\\u003eCount=%{y}\\u003cextra\\u003e\\u003c\\u002fextra\\u003e\",\"legendgroup\":\"active\",\"marker\":{\"color\":\"rgb(142, 174, 84)\",\"pattern\":{\"shape\":\"\"}},\"name\":\"active\",\"offsetgroup\":\"active\",\"orientation\":\"v\",\"showlegend\":true,\"textposition\":\"auto\",\"x\":[\"active\"],\"xaxis\":\"x\",\"y\":[30],\"yaxis\":\"y\",\"type\":\"bar\"},{\"alignmentgroup\":\"True\",\"hovertemplate\":\"Submission Status=%{x}\\u003cbr\\u003eCount=%{y}\\u003cextra\\u003e\\u003c\\u002fextra\\u003e\",\"legendgroup\":\"unsuccessful\",\"marker\":{\"color\":\"rgb(239, 131, 95)\",\"pattern\":{\"shape\":\"\"}},\"name\":\"unsuccessful\",\"offsetgroup\":\"unsuccessful\",\"orientation\":\"v\",\"showlegend\":true,\"textposition\":\"auto\",\"x\":[\"unsuccessful\"],\"xaxis\":\"x\",\"y\":[26],\"yaxis\":\"y\",\"type\":\"bar\"},{\"alignmentgroup\":\"True\",\"hovertemplate\":\"Submission Status=%{x}\\u003cbr\\u003eCount=%{y}\\u003cextra\\u003e\\u003c\\u002fextra\\u003e\",\"legendgroup\":\"declined\",\"marker\":{\"color\":\"rgb(222, 66, 91)\",\"pattern\":{\"shape\":\"\"}},\"name\":\"declined\",\"offsetgroup\":\"declined\",\"orientation\":\"v\",\"showlegend\":true,\"textposition\":\"auto\",\"x\":[\"declined\"],\"xaxis\":\"x\",\"y\":[24],\"yaxis\":\"y\",\"type\":\"bar\"}],                        {\"template\":{\"data\":{\"histogram2dcontour\":[{\"type\":\"histogram2dcontour\",\"colorbar\":{\"outlinewidth\":0,\"ticks\":\"\"},\"colorscale\":[[0.0,\"#0d0887\"],[0.1111111111111111,\"#46039f\"],[0.2222222222222222,\"#7201a8\"],[0.3333333333333333,\"#9c179e\"],[0.4444444444444444,\"#bd3786\"],[0.5555555555555556,\"#d8576b\"],[0.6666666666666666,\"#ed7953\"],[0.7777777777777778,\"#fb9f3a\"],[0.8888888888888888,\"#fdca26\"],[1.0,\"#f0f921\"]]}],\"choropleth\":[{\"type\":\"choropleth\",\"colorbar\":{\"outlinewidth\":0,\"ticks\":\"\"}}],\"histogram2d\":[{\"type\":\"histogram2d\",\"colorbar\":{\"outlinewidth\":0,\"ticks\":\"\"},\"colorscale\":[[0.0,\"#0d0887\"],[0.1111111111111111,\"#46039f\"],[0.2222222222222222,\"#7201a8\"],[0.3333333333333333,\"#9c179e\"],[0.4444444444444444,\"#bd3786\"],[0.5555555555555556,\"#d8576b\"],[0.6666666666666666,\"#ed7953\"],[0.7777777777777778,\"#fb9f3a\"],[0.8888888888888888,\"#fdca26\"],[1.0,\"#f0f921\"]]}],\"heatmap\":[{\"type\":\"heatmap\",\"colorbar\":{\"outlinewidth\":0,\"ticks\":\"\"},\"colorscale\":[[0.0,\"#0d0887\"],[0.1111111111111111,\"#46039f\"],[0.2222222222222222,\"#7201a8\"],[0.3333333333333333,\"#9c179e\"],[0.4444444444444444,\"#bd3786\"],[0.5555555555555556,\"#d8576b\"],[0.6666666666666666,\"#ed7953\"],[0.7777777777777778,\"#fb9f3a\"],[0.8888888888888888,\"#fdca26\"],[1.0,\"#f0f921\"]]}],\"heatmapgl\":[{\"type\":\"heatmapgl\",\"colorbar\":{\"outlinewidth\":0,\"ticks\":\"\"},\"colorscale\":[[0.0,\"#0d0887\"],[0.1111111111111111,\"#46039f\"],[0.2222222222222222,\"#7201a8\"],[0.3333333333333333,\"#9c179e\"],[0.4444444444444444,\"#bd3786\"],[0.5555555555555556,\"#d8576b\"],[0.6666666666666666,\"#ed7953\"],[0.7777777777777778,\"#fb9f3a\"],[0.8888888888888888,\"#fdca26\"],[1.0,\"#f0f921\"]]}],\"contourcarpet\":[{\"type\":\"contourcarpet\",\"colorbar\":{\"outlinewidth\":0,\"ticks\":\"\"}}],\"contour\":[{\"type\":\"contour\",\"colorbar\":{\"outlinewidth\":0,\"ticks\":\"\"},\"colorscale\":[[0.0,\"#0d0887\"],[0.1111111111111111,\"#46039f\"],[0.2222222222222222,\"#7201a8\"],[0.3333333333333333,\"#9c179e\"],[0.4444444444444444,\"#bd3786\"],[0.5555555555555556,\"#d8576b\"],[0.6666666666666666,\"#ed7953\"],[0.7777777777777778,\"#fb9f3a\"],[0.8888888888888888,\"#fdca26\"],[1.0,\"#f0f921\"]]}],\"surface\":[{\"type\":\"surface\",\"colorbar\":{\"outlinewidth\":0,\"ticks\":\"\"},\"colorscale\":[[0.0,\"#0d0887\"],[0.1111111111111111,\"#46039f\"],[0.2222222222222222,\"#7201a8\"],[0.3333333333333333,\"#9c179e\"],[0.4444444444444444,\"#bd3786\"],[0.5555555555555556,\"#d8576b\"],[0.6666666666666666,\"#ed7953\"],[0.7777777777777778,\"#fb9f3a\"],[0.8888888888888888,\"#fdca26\"],[1.0,\"#f0f921\"]]}],\"mesh3d\":[{\"type\":\"mesh3d\",\"colorbar\":{\"outlinewidth\":0,\"ticks\":\"\"}}],\"scatter\":[{\"marker\":{\"line\":{\"color\":\"#283442\"}},\"type\":\"scatter\"}],\"parcoords\":[{\"type\":\"parcoords\",\"line\":{\"colorbar\":{\"outlinewidth\":0,\"ticks\":\"\"}}}],\"scatterpolargl\":[{\"type\":\"scatterpolargl\",\"marker\":{\"colorbar\":{\"outlinewidth\":0,\"ticks\":\"\"}}}],\"bar\":[{\"error_x\":{\"color\":\"#f2f5fa\"},\"error_y\":{\"color\":\"#f2f5fa\"},\"marker\":{\"line\":{\"color\":\"rgb(17,17,17)\",\"width\":0.5},\"pattern\":{\"fillmode\":\"overlay\",\"size\":10,\"solidity\":0.2}},\"type\":\"bar\"}],\"scattergeo\":[{\"type\":\"scattergeo\",\"marker\":{\"colorbar\":{\"outlinewidth\":0,\"ticks\":\"\"}}}],\"scatterpolar\":[{\"type\":\"scatterpolar\",\"marker\":{\"colorbar\":{\"outlinewidth\":0,\"ticks\":\"\"}}}],\"histogram\":[{\"marker\":{\"pattern\":{\"fillmode\":\"overlay\",\"size\":10,\"solidity\":0.2}},\"type\":\"histogram\"}],\"scattergl\":[{\"marker\":{\"line\":{\"color\":\"#283442\"}},\"type\":\"scattergl\"}],\"scatter3d\":[{\"type\":\"scatter3d\",\"line\":{\"colorbar\":{\"outlinewidth\":0,\"ticks\":\"\"}},\"marker\":{\"colorbar\":{\"outlinewidth\":0,\"ticks\":\"\"}}}],\"scattermapbox\":[{\"type\":\"scattermapbox\",\"marker\":{\"colorbar\":{\"outlinewidth\":0,\"ticks\":\"\"}}}],\"scatterternary\":[{\"type\":\"scatterternary\",\"marker\":{\"colorbar\":{\"outlinewidth\":0,\"ticks\":\"\"}}}],\"scattercarpet\":[{\"type\":\"scattercarpet\",\"marker\":{\"colorbar\":{\"outlinewidth\":0,\"ticks\":\"\"}}}],\"carpet\":[{\"aaxis\":{\"endlinecolor\":\"#A2B1C6\",\"gridcolor\":\"#506784\",\"linecolor\":\"#506784\",\"minorgridcolor\":\"#506784\",\"startlinecolor\":\"#A2B1C6\"},\"baxis\":{\"endlinecolor\":\"#A2B1C6\",\"gridcolor\":\"#506784\",\"linecolor\":\"#506784\",\"minorgridcolor\":\"#506784\",\"startlinecolor\":\"#A2B1C6\"},\"type\":\"carpet\"}],\"table\":[{\"cells\":{\"fill\":{\"color\":\"#506784\"},\"line\":{\"color\":\"rgb(17,17,17)\"}},\"header\":{\"fill\":{\"color\":\"#2a3f5f\"},\"line\":{\"color\":\"rgb(17,17,17)\"}},\"type\":\"table\"}],\"barpolar\":[{\"marker\":{\"line\":{\"color\":\"rgb(17,17,17)\",\"width\":0.5},\"pattern\":{\"fillmode\":\"overlay\",\"size\":10,\"solidity\":0.2}},\"type\":\"barpolar\"}],\"pie\":[{\"automargin\":true,\"type\":\"pie\"}]},\"layout\":{\"autotypenumbers\":\"strict\",\"colorway\":[\"#636efa\",\"#EF553B\",\"#00cc96\",\"#ab63fa\",\"#FFA15A\",\"#19d3f3\",\"#FF6692\",\"#B6E880\",\"#FF97FF\",\"#FECB52\"],\"font\":{\"color\":\"#f2f5fa\"},\"hovermode\":\"closest\",\"hoverlabel\":{\"align\":\"left\"},\"paper_bgcolor\":\"rgb(17,17,17)\",\"plot_bgcolor\":\"rgb(17,17,17)\",\"polar\":{\"bgcolor\":\"rgb(17,17,17)\",\"angularaxis\":{\"gridcolor\":\"#506784\",\"linecolor\":\"#506784\",\"ticks\":\"\"},\"radialaxis\":{\"gridcolor\":\"#506784\",\"linecolor\":\"#506784\",\"ticks\":\"\"}},\"ternary\":{\"bgcolor\":\"rgb(17,17,17)\",\"aaxis\":{\"gridcolor\":\"#506784\",\"linecolor\":\"#506784\",\"ticks\":\"\"},\"baxis\":{\"gridcolor\":\"#506784\",\"linecolor\":\"#506784\",\"ticks\":\"\"},\"caxis\":{\"gridcolor\":\"#506784\",\"linecolor\":\"#506784\",\"ticks\":\"\"}},\"coloraxis\":{\"colorbar\":{\"outlinewidth\":0,\"ticks\":\"\"}},\"colorscale\":{\"sequential\":[[0.0,\"#0d0887\"],[0.1111111111111111,\"#46039f\"],[0.2222222222222222,\"#7201a8\"],[0.3333333333333333,\"#9c179e\"],[0.4444444444444444,\"#bd3786\"],[0.5555555555555556,\"#d8576b\"],[0.6666666666666666,\"#ed7953\"],[0.7777777777777778,\"#fb9f3a\"],[0.8888888888888888,\"#fdca26\"],[1.0,\"#f0f921\"]],\"sequentialminus\":[[0.0,\"#0d0887\"],[0.1111111111111111,\"#46039f\"],[0.2222222222222222,\"#7201a8\"],[0.3333333333333333,\"#9c179e\"],[0.4444444444444444,\"#bd3786\"],[0.5555555555555556,\"#d8576b\"],[0.6666666666666666,\"#ed7953\"],[0.7777777777777778,\"#fb9f3a\"],[0.8888888888888888,\"#fdca26\"],[1.0,\"#f0f921\"]],\"diverging\":[[0,\"#8e0152\"],[0.1,\"#c51b7d\"],[0.2,\"#de77ae\"],[0.3,\"#f1b6da\"],[0.4,\"#fde0ef\"],[0.5,\"#f7f7f7\"],[0.6,\"#e6f5d0\"],[0.7,\"#b8e186\"],[0.8,\"#7fbc41\"],[0.9,\"#4d9221\"],[1,\"#276419\"]]},\"xaxis\":{\"gridcolor\":\"#283442\",\"linecolor\":\"#506784\",\"ticks\":\"\",\"title\":{\"standoff\":15},\"zerolinecolor\":\"#283442\",\"automargin\":true,\"zerolinewidth\":2},\"yaxis\":{\"gridcolor\":\"#283442\",\"linecolor\":\"#506784\",\"ticks\":\"\",\"title\":{\"standoff\":15},\"zerolinecolor\":\"#283442\",\"automargin\":true,\"zerolinewidth\":2},\"scene\":{\"xaxis\":{\"backgroundcolor\":\"rgb(17,17,17)\",\"gridcolor\":\"#506784\",\"linecolor\":\"#506784\",\"showbackground\":true,\"ticks\":\"\",\"zerolinecolor\":\"#C8D4E3\",\"gridwidth\":2},\"yaxis\":{\"backgroundcolor\":\"rgb(17,17,17)\",\"gridcolor\":\"#506784\",\"linecolor\":\"#506784\",\"showbackground\":true,\"ticks\":\"\",\"zerolinecolor\":\"#C8D4E3\",\"gridwidth\":2},\"zaxis\":{\"backgroundcolor\":\"rgb(17,17,17)\",\"gridcolor\":\"#506784\",\"linecolor\":\"#506784\",\"showbackground\":true,\"ticks\":\"\",\"zerolinecolor\":\"#C8D4E3\",\"gridwidth\":2}},\"shapedefaults\":{\"line\":{\"color\":\"#f2f5fa\"}},\"annotationdefaults\":{\"arrowcolor\":\"#f2f5fa\",\"arrowhead\":0,\"arrowwidth\":1},\"geo\":{\"bgcolor\":\"rgb(17,17,17)\",\"landcolor\":\"rgb(17,17,17)\",\"subunitcolor\":\"#506784\",\"showland\":true,\"showlakes\":true,\"lakecolor\":\"rgb(17,17,17)\"},\"title\":{\"x\":0.05},\"updatemenudefaults\":{\"bgcolor\":\"#506784\",\"borderwidth\":0},\"sliderdefaults\":{\"bgcolor\":\"#C8D4E3\",\"borderwidth\":1,\"bordercolor\":\"rgb(17,17,17)\",\"tickwidth\":0},\"mapbox\":{\"style\":\"dark\"}}},\"xaxis\":{\"anchor\":\"y\",\"domain\":[0.0,1.0],\"title\":{\"text\":\"Submission Status\"},\"categoryorder\":\"array\",\"categoryarray\":[\"pending\",\"withdrawn\",\"approval\",\"active\",\"unsuccessful\",\"declined\"]},\"yaxis\":{\"anchor\":\"x\",\"domain\":[0.0,1.0],\"title\":{\"text\":\"Count\"}},\"legend\":{\"title\":{\"text\":\"Submission Status\"},\"tracegroupgap\":0,\"x\":1.05,\"y\":1,\"traceorder\":\"normal\",\"bgcolor\":\"rgba(255, 255, 255, 0)\",\"bordercolor\":\"rgba(255, 255, 255, 0)\"},\"title\":{\"text\":\"Distribution of Submissions by Status\"},\"barmode\":\"relative\",\"height\":400,\"margin\":{\"r\":150},\"font\":{\"family\":\"Helvetica\",\"size\":14,\"color\":\"white\"}},                        {\"responsive\": true}                    ).then(function(){\n                            \nvar gd = document.getElementById('0f5dfae5-22fd-4636-b7a9-0a2e6db58852');\nvar x = new MutationObserver(function (mutations, observer) {{\n        var display = window.getComputedStyle(gd).display;\n        if (!display || display === 'none') {{\n            console.log([gd, 'removed!']);\n            Plotly.purge(gd);\n            observer.disconnect();\n        }}\n}});\n\n// Listen for the removal of the full notebook cells\nvar notebookContainer = gd.closest('#notebook-container');\nif (notebookContainer) {{\n    x.observe(notebookContainer, {childList: true});\n}}\n\n// Listen for the clearing of the current output cell\nvar outputEl = gd.closest('.output');\nif (outputEl) {{\n    x.observe(outputEl, {childList: true});\n}}\n\n                        })                };                });            </script>        </div>"
     },
     "metadata": {},
     "output_type": "display_data"
    }
   ],
   "source": [
    "# Prepare Bar Plot and Annotations\n",
    "# Create the bar plot\n",
    "status_counts = submissions_golden_df.loc[:,\n",
    "                    'submission_status'\n",
    "                ].value_counts(\n",
    "                ).reset_index()\n",
    "status_counts.columns = ['submission_status', 'count']\n",
    "status_fig = px.bar(\n",
    "    status_counts,\n",
    "    x='submission_status',\n",
    "    y='count',\n",
    "    title='Distribution of Submissions by Status',\n",
    "    labels={\n",
    "        'submission_status': 'Submission Status',\n",
    "        'count': 'Count'\n",
    "    },\n",
    "    color='submission_status',\n",
    "    color_discrete_map=PLOTLY_STATUS_BARPLOT_COLOR_MAP,\n",
    "    height=BARPLOT_HEIGHT,\n",
    "    template='plotly_dark',\n",
    ")\n",
    "status_fig.update_layout(\n",
    "    legend_title_text='Submission Status',\n",
    "    legend=dict(\n",
    "        x=1.05,\n",
    "        y=1,\n",
    "        traceorder='normal',\n",
    "        bgcolor='rgba(255, 255, 255, 0)',\n",
    "        bordercolor='rgba(255, 255, 255, 0)'\n",
    "    ),\n",
    "    margin=dict(r=150),\n",
    "    font=dict(\n",
    "        family=\"Helvetica\",\n",
    "        size=14,\n",
    "        color=\"white\"\n",
    "    )\n",
    ")\n",
    "status_fig.show()"
   ],
   "metadata": {
    "collapsed": false,
    "ExecuteTime": {
     "end_time": "2024-08-01T15:03:49.155530Z",
     "start_time": "2024-08-01T15:03:48.952105Z"
    }
   }
  },
  {
   "cell_type": "code",
   "execution_count": 252,
   "outputs": [
    {
     "data": {
      "application/vnd.plotly.v1+json": {
       "data": [
        {
         "alignmentgroup": "True",
         "hovertemplate": "Item Classification=%{x}<br>Count=%{y}<extra></extra>",
         "legendgroup": "kitchen",
         "marker": {
          "color": "rgb(124, 198, 116)",
          "pattern": {
           "shape": ""
          }
         },
         "name": "kitchen",
         "offsetgroup": "kitchen",
         "orientation": "v",
         "showlegend": true,
         "textposition": "auto",
         "x": [
          "kitchen"
         ],
         "xaxis": "x",
         "y": [
          154
         ],
         "yaxis": "y",
         "type": "bar"
        },
        {
         "alignmentgroup": "True",
         "hovertemplate": "Item Classification=%{x}<br>Count=%{y}<extra></extra>",
         "legendgroup": "shelter",
         "marker": {
          "color": "rgb(115, 197, 197)",
          "pattern": {
           "shape": ""
          }
         },
         "name": "shelter",
         "offsetgroup": "shelter",
         "orientation": "v",
         "showlegend": true,
         "textposition": "auto",
         "x": [
          "shelter"
         ],
         "xaxis": "x",
         "y": [
          90
         ],
         "yaxis": "y",
         "type": "bar"
        }
       ],
       "layout": {
        "template": {
         "data": {
          "histogram2dcontour": [
           {
            "type": "histogram2dcontour",
            "colorbar": {
             "outlinewidth": 0,
             "ticks": ""
            },
            "colorscale": [
             [
              0.0,
              "#0d0887"
             ],
             [
              0.1111111111111111,
              "#46039f"
             ],
             [
              0.2222222222222222,
              "#7201a8"
             ],
             [
              0.3333333333333333,
              "#9c179e"
             ],
             [
              0.4444444444444444,
              "#bd3786"
             ],
             [
              0.5555555555555556,
              "#d8576b"
             ],
             [
              0.6666666666666666,
              "#ed7953"
             ],
             [
              0.7777777777777778,
              "#fb9f3a"
             ],
             [
              0.8888888888888888,
              "#fdca26"
             ],
             [
              1.0,
              "#f0f921"
             ]
            ]
           }
          ],
          "choropleth": [
           {
            "type": "choropleth",
            "colorbar": {
             "outlinewidth": 0,
             "ticks": ""
            }
           }
          ],
          "histogram2d": [
           {
            "type": "histogram2d",
            "colorbar": {
             "outlinewidth": 0,
             "ticks": ""
            },
            "colorscale": [
             [
              0.0,
              "#0d0887"
             ],
             [
              0.1111111111111111,
              "#46039f"
             ],
             [
              0.2222222222222222,
              "#7201a8"
             ],
             [
              0.3333333333333333,
              "#9c179e"
             ],
             [
              0.4444444444444444,
              "#bd3786"
             ],
             [
              0.5555555555555556,
              "#d8576b"
             ],
             [
              0.6666666666666666,
              "#ed7953"
             ],
             [
              0.7777777777777778,
              "#fb9f3a"
             ],
             [
              0.8888888888888888,
              "#fdca26"
             ],
             [
              1.0,
              "#f0f921"
             ]
            ]
           }
          ],
          "heatmap": [
           {
            "type": "heatmap",
            "colorbar": {
             "outlinewidth": 0,
             "ticks": ""
            },
            "colorscale": [
             [
              0.0,
              "#0d0887"
             ],
             [
              0.1111111111111111,
              "#46039f"
             ],
             [
              0.2222222222222222,
              "#7201a8"
             ],
             [
              0.3333333333333333,
              "#9c179e"
             ],
             [
              0.4444444444444444,
              "#bd3786"
             ],
             [
              0.5555555555555556,
              "#d8576b"
             ],
             [
              0.6666666666666666,
              "#ed7953"
             ],
             [
              0.7777777777777778,
              "#fb9f3a"
             ],
             [
              0.8888888888888888,
              "#fdca26"
             ],
             [
              1.0,
              "#f0f921"
             ]
            ]
           }
          ],
          "heatmapgl": [
           {
            "type": "heatmapgl",
            "colorbar": {
             "outlinewidth": 0,
             "ticks": ""
            },
            "colorscale": [
             [
              0.0,
              "#0d0887"
             ],
             [
              0.1111111111111111,
              "#46039f"
             ],
             [
              0.2222222222222222,
              "#7201a8"
             ],
             [
              0.3333333333333333,
              "#9c179e"
             ],
             [
              0.4444444444444444,
              "#bd3786"
             ],
             [
              0.5555555555555556,
              "#d8576b"
             ],
             [
              0.6666666666666666,
              "#ed7953"
             ],
             [
              0.7777777777777778,
              "#fb9f3a"
             ],
             [
              0.8888888888888888,
              "#fdca26"
             ],
             [
              1.0,
              "#f0f921"
             ]
            ]
           }
          ],
          "contourcarpet": [
           {
            "type": "contourcarpet",
            "colorbar": {
             "outlinewidth": 0,
             "ticks": ""
            }
           }
          ],
          "contour": [
           {
            "type": "contour",
            "colorbar": {
             "outlinewidth": 0,
             "ticks": ""
            },
            "colorscale": [
             [
              0.0,
              "#0d0887"
             ],
             [
              0.1111111111111111,
              "#46039f"
             ],
             [
              0.2222222222222222,
              "#7201a8"
             ],
             [
              0.3333333333333333,
              "#9c179e"
             ],
             [
              0.4444444444444444,
              "#bd3786"
             ],
             [
              0.5555555555555556,
              "#d8576b"
             ],
             [
              0.6666666666666666,
              "#ed7953"
             ],
             [
              0.7777777777777778,
              "#fb9f3a"
             ],
             [
              0.8888888888888888,
              "#fdca26"
             ],
             [
              1.0,
              "#f0f921"
             ]
            ]
           }
          ],
          "surface": [
           {
            "type": "surface",
            "colorbar": {
             "outlinewidth": 0,
             "ticks": ""
            },
            "colorscale": [
             [
              0.0,
              "#0d0887"
             ],
             [
              0.1111111111111111,
              "#46039f"
             ],
             [
              0.2222222222222222,
              "#7201a8"
             ],
             [
              0.3333333333333333,
              "#9c179e"
             ],
             [
              0.4444444444444444,
              "#bd3786"
             ],
             [
              0.5555555555555556,
              "#d8576b"
             ],
             [
              0.6666666666666666,
              "#ed7953"
             ],
             [
              0.7777777777777778,
              "#fb9f3a"
             ],
             [
              0.8888888888888888,
              "#fdca26"
             ],
             [
              1.0,
              "#f0f921"
             ]
            ]
           }
          ],
          "mesh3d": [
           {
            "type": "mesh3d",
            "colorbar": {
             "outlinewidth": 0,
             "ticks": ""
            }
           }
          ],
          "scatter": [
           {
            "marker": {
             "line": {
              "color": "#283442"
             }
            },
            "type": "scatter"
           }
          ],
          "parcoords": [
           {
            "type": "parcoords",
            "line": {
             "colorbar": {
              "outlinewidth": 0,
              "ticks": ""
             }
            }
           }
          ],
          "scatterpolargl": [
           {
            "type": "scatterpolargl",
            "marker": {
             "colorbar": {
              "outlinewidth": 0,
              "ticks": ""
             }
            }
           }
          ],
          "bar": [
           {
            "error_x": {
             "color": "#f2f5fa"
            },
            "error_y": {
             "color": "#f2f5fa"
            },
            "marker": {
             "line": {
              "color": "rgb(17,17,17)",
              "width": 0.5
             },
             "pattern": {
              "fillmode": "overlay",
              "size": 10,
              "solidity": 0.2
             }
            },
            "type": "bar"
           }
          ],
          "scattergeo": [
           {
            "type": "scattergeo",
            "marker": {
             "colorbar": {
              "outlinewidth": 0,
              "ticks": ""
             }
            }
           }
          ],
          "scatterpolar": [
           {
            "type": "scatterpolar",
            "marker": {
             "colorbar": {
              "outlinewidth": 0,
              "ticks": ""
             }
            }
           }
          ],
          "histogram": [
           {
            "marker": {
             "pattern": {
              "fillmode": "overlay",
              "size": 10,
              "solidity": 0.2
             }
            },
            "type": "histogram"
           }
          ],
          "scattergl": [
           {
            "marker": {
             "line": {
              "color": "#283442"
             }
            },
            "type": "scattergl"
           }
          ],
          "scatter3d": [
           {
            "type": "scatter3d",
            "line": {
             "colorbar": {
              "outlinewidth": 0,
              "ticks": ""
             }
            },
            "marker": {
             "colorbar": {
              "outlinewidth": 0,
              "ticks": ""
             }
            }
           }
          ],
          "scattermapbox": [
           {
            "type": "scattermapbox",
            "marker": {
             "colorbar": {
              "outlinewidth": 0,
              "ticks": ""
             }
            }
           }
          ],
          "scatterternary": [
           {
            "type": "scatterternary",
            "marker": {
             "colorbar": {
              "outlinewidth": 0,
              "ticks": ""
             }
            }
           }
          ],
          "scattercarpet": [
           {
            "type": "scattercarpet",
            "marker": {
             "colorbar": {
              "outlinewidth": 0,
              "ticks": ""
             }
            }
           }
          ],
          "carpet": [
           {
            "aaxis": {
             "endlinecolor": "#A2B1C6",
             "gridcolor": "#506784",
             "linecolor": "#506784",
             "minorgridcolor": "#506784",
             "startlinecolor": "#A2B1C6"
            },
            "baxis": {
             "endlinecolor": "#A2B1C6",
             "gridcolor": "#506784",
             "linecolor": "#506784",
             "minorgridcolor": "#506784",
             "startlinecolor": "#A2B1C6"
            },
            "type": "carpet"
           }
          ],
          "table": [
           {
            "cells": {
             "fill": {
              "color": "#506784"
             },
             "line": {
              "color": "rgb(17,17,17)"
             }
            },
            "header": {
             "fill": {
              "color": "#2a3f5f"
             },
             "line": {
              "color": "rgb(17,17,17)"
             }
            },
            "type": "table"
           }
          ],
          "barpolar": [
           {
            "marker": {
             "line": {
              "color": "rgb(17,17,17)",
              "width": 0.5
             },
             "pattern": {
              "fillmode": "overlay",
              "size": 10,
              "solidity": 0.2
             }
            },
            "type": "barpolar"
           }
          ],
          "pie": [
           {
            "automargin": true,
            "type": "pie"
           }
          ]
         },
         "layout": {
          "autotypenumbers": "strict",
          "colorway": [
           "#636efa",
           "#EF553B",
           "#00cc96",
           "#ab63fa",
           "#FFA15A",
           "#19d3f3",
           "#FF6692",
           "#B6E880",
           "#FF97FF",
           "#FECB52"
          ],
          "font": {
           "color": "#f2f5fa"
          },
          "hovermode": "closest",
          "hoverlabel": {
           "align": "left"
          },
          "paper_bgcolor": "rgb(17,17,17)",
          "plot_bgcolor": "rgb(17,17,17)",
          "polar": {
           "bgcolor": "rgb(17,17,17)",
           "angularaxis": {
            "gridcolor": "#506784",
            "linecolor": "#506784",
            "ticks": ""
           },
           "radialaxis": {
            "gridcolor": "#506784",
            "linecolor": "#506784",
            "ticks": ""
           }
          },
          "ternary": {
           "bgcolor": "rgb(17,17,17)",
           "aaxis": {
            "gridcolor": "#506784",
            "linecolor": "#506784",
            "ticks": ""
           },
           "baxis": {
            "gridcolor": "#506784",
            "linecolor": "#506784",
            "ticks": ""
           },
           "caxis": {
            "gridcolor": "#506784",
            "linecolor": "#506784",
            "ticks": ""
           }
          },
          "coloraxis": {
           "colorbar": {
            "outlinewidth": 0,
            "ticks": ""
           }
          },
          "colorscale": {
           "sequential": [
            [
             0.0,
             "#0d0887"
            ],
            [
             0.1111111111111111,
             "#46039f"
            ],
            [
             0.2222222222222222,
             "#7201a8"
            ],
            [
             0.3333333333333333,
             "#9c179e"
            ],
            [
             0.4444444444444444,
             "#bd3786"
            ],
            [
             0.5555555555555556,
             "#d8576b"
            ],
            [
             0.6666666666666666,
             "#ed7953"
            ],
            [
             0.7777777777777778,
             "#fb9f3a"
            ],
            [
             0.8888888888888888,
             "#fdca26"
            ],
            [
             1.0,
             "#f0f921"
            ]
           ],
           "sequentialminus": [
            [
             0.0,
             "#0d0887"
            ],
            [
             0.1111111111111111,
             "#46039f"
            ],
            [
             0.2222222222222222,
             "#7201a8"
            ],
            [
             0.3333333333333333,
             "#9c179e"
            ],
            [
             0.4444444444444444,
             "#bd3786"
            ],
            [
             0.5555555555555556,
             "#d8576b"
            ],
            [
             0.6666666666666666,
             "#ed7953"
            ],
            [
             0.7777777777777778,
             "#fb9f3a"
            ],
            [
             0.8888888888888888,
             "#fdca26"
            ],
            [
             1.0,
             "#f0f921"
            ]
           ],
           "diverging": [
            [
             0,
             "#8e0152"
            ],
            [
             0.1,
             "#c51b7d"
            ],
            [
             0.2,
             "#de77ae"
            ],
            [
             0.3,
             "#f1b6da"
            ],
            [
             0.4,
             "#fde0ef"
            ],
            [
             0.5,
             "#f7f7f7"
            ],
            [
             0.6,
             "#e6f5d0"
            ],
            [
             0.7,
             "#b8e186"
            ],
            [
             0.8,
             "#7fbc41"
            ],
            [
             0.9,
             "#4d9221"
            ],
            [
             1,
             "#276419"
            ]
           ]
          },
          "xaxis": {
           "gridcolor": "#283442",
           "linecolor": "#506784",
           "ticks": "",
           "title": {
            "standoff": 15
           },
           "zerolinecolor": "#283442",
           "automargin": true,
           "zerolinewidth": 2
          },
          "yaxis": {
           "gridcolor": "#283442",
           "linecolor": "#506784",
           "ticks": "",
           "title": {
            "standoff": 15
           },
           "zerolinecolor": "#283442",
           "automargin": true,
           "zerolinewidth": 2
          },
          "scene": {
           "xaxis": {
            "backgroundcolor": "rgb(17,17,17)",
            "gridcolor": "#506784",
            "linecolor": "#506784",
            "showbackground": true,
            "ticks": "",
            "zerolinecolor": "#C8D4E3",
            "gridwidth": 2
           },
           "yaxis": {
            "backgroundcolor": "rgb(17,17,17)",
            "gridcolor": "#506784",
            "linecolor": "#506784",
            "showbackground": true,
            "ticks": "",
            "zerolinecolor": "#C8D4E3",
            "gridwidth": 2
           },
           "zaxis": {
            "backgroundcolor": "rgb(17,17,17)",
            "gridcolor": "#506784",
            "linecolor": "#506784",
            "showbackground": true,
            "ticks": "",
            "zerolinecolor": "#C8D4E3",
            "gridwidth": 2
           }
          },
          "shapedefaults": {
           "line": {
            "color": "#f2f5fa"
           }
          },
          "annotationdefaults": {
           "arrowcolor": "#f2f5fa",
           "arrowhead": 0,
           "arrowwidth": 1
          },
          "geo": {
           "bgcolor": "rgb(17,17,17)",
           "landcolor": "rgb(17,17,17)",
           "subunitcolor": "#506784",
           "showland": true,
           "showlakes": true,
           "lakecolor": "rgb(17,17,17)"
          },
          "title": {
           "x": 0.05
          },
          "updatemenudefaults": {
           "bgcolor": "#506784",
           "borderwidth": 0
          },
          "sliderdefaults": {
           "bgcolor": "#C8D4E3",
           "borderwidth": 1,
           "bordercolor": "rgb(17,17,17)",
           "tickwidth": 0
          },
          "mapbox": {
           "style": "dark"
          }
         }
        },
        "xaxis": {
         "anchor": "y",
         "domain": [
          0.0,
          1.0
         ],
         "title": {
          "text": "Item Classification"
         },
         "categoryorder": "array",
         "categoryarray": [
          "kitchen",
          "shelter"
         ]
        },
        "yaxis": {
         "anchor": "x",
         "domain": [
          0.0,
          1.0
         ],
         "title": {
          "text": "Count"
         }
        },
        "legend": {
         "title": {
          "text": "Item Classification"
         },
         "tracegroupgap": 0,
         "x": 1.05,
         "y": 1,
         "traceorder": "normal",
         "bgcolor": "rgba(255, 255, 255, 0)",
         "bordercolor": "rgba(255, 255, 255, 0)"
        },
        "title": {
         "text": "Distribution of Submissions by Item Classification"
        },
        "barmode": "relative",
        "height": 400,
        "margin": {
         "r": 150
        },
        "font": {
         "family": "Helvetica",
         "size": 14,
         "color": "white"
        }
       },
       "config": {
        "plotlyServerURL": "https://plot.ly"
       }
      },
      "text/html": "<div>                            <div id=\"5160de9a-4924-403a-a662-a4244e16031e\" class=\"plotly-graph-div\" style=\"height:400px; width:100%;\"></div>            <script type=\"text/javascript\">                require([\"plotly\"], function(Plotly) {                    window.PLOTLYENV=window.PLOTLYENV || {};                                    if (document.getElementById(\"5160de9a-4924-403a-a662-a4244e16031e\")) {                    Plotly.newPlot(                        \"5160de9a-4924-403a-a662-a4244e16031e\",                        [{\"alignmentgroup\":\"True\",\"hovertemplate\":\"Item Classification=%{x}\\u003cbr\\u003eCount=%{y}\\u003cextra\\u003e\\u003c\\u002fextra\\u003e\",\"legendgroup\":\"kitchen\",\"marker\":{\"color\":\"rgb(124, 198, 116)\",\"pattern\":{\"shape\":\"\"}},\"name\":\"kitchen\",\"offsetgroup\":\"kitchen\",\"orientation\":\"v\",\"showlegend\":true,\"textposition\":\"auto\",\"x\":[\"kitchen\"],\"xaxis\":\"x\",\"y\":[154],\"yaxis\":\"y\",\"type\":\"bar\"},{\"alignmentgroup\":\"True\",\"hovertemplate\":\"Item Classification=%{x}\\u003cbr\\u003eCount=%{y}\\u003cextra\\u003e\\u003c\\u002fextra\\u003e\",\"legendgroup\":\"shelter\",\"marker\":{\"color\":\"rgb(115, 197, 197)\",\"pattern\":{\"shape\":\"\"}},\"name\":\"shelter\",\"offsetgroup\":\"shelter\",\"orientation\":\"v\",\"showlegend\":true,\"textposition\":\"auto\",\"x\":[\"shelter\"],\"xaxis\":\"x\",\"y\":[90],\"yaxis\":\"y\",\"type\":\"bar\"}],                        {\"template\":{\"data\":{\"histogram2dcontour\":[{\"type\":\"histogram2dcontour\",\"colorbar\":{\"outlinewidth\":0,\"ticks\":\"\"},\"colorscale\":[[0.0,\"#0d0887\"],[0.1111111111111111,\"#46039f\"],[0.2222222222222222,\"#7201a8\"],[0.3333333333333333,\"#9c179e\"],[0.4444444444444444,\"#bd3786\"],[0.5555555555555556,\"#d8576b\"],[0.6666666666666666,\"#ed7953\"],[0.7777777777777778,\"#fb9f3a\"],[0.8888888888888888,\"#fdca26\"],[1.0,\"#f0f921\"]]}],\"choropleth\":[{\"type\":\"choropleth\",\"colorbar\":{\"outlinewidth\":0,\"ticks\":\"\"}}],\"histogram2d\":[{\"type\":\"histogram2d\",\"colorbar\":{\"outlinewidth\":0,\"ticks\":\"\"},\"colorscale\":[[0.0,\"#0d0887\"],[0.1111111111111111,\"#46039f\"],[0.2222222222222222,\"#7201a8\"],[0.3333333333333333,\"#9c179e\"],[0.4444444444444444,\"#bd3786\"],[0.5555555555555556,\"#d8576b\"],[0.6666666666666666,\"#ed7953\"],[0.7777777777777778,\"#fb9f3a\"],[0.8888888888888888,\"#fdca26\"],[1.0,\"#f0f921\"]]}],\"heatmap\":[{\"type\":\"heatmap\",\"colorbar\":{\"outlinewidth\":0,\"ticks\":\"\"},\"colorscale\":[[0.0,\"#0d0887\"],[0.1111111111111111,\"#46039f\"],[0.2222222222222222,\"#7201a8\"],[0.3333333333333333,\"#9c179e\"],[0.4444444444444444,\"#bd3786\"],[0.5555555555555556,\"#d8576b\"],[0.6666666666666666,\"#ed7953\"],[0.7777777777777778,\"#fb9f3a\"],[0.8888888888888888,\"#fdca26\"],[1.0,\"#f0f921\"]]}],\"heatmapgl\":[{\"type\":\"heatmapgl\",\"colorbar\":{\"outlinewidth\":0,\"ticks\":\"\"},\"colorscale\":[[0.0,\"#0d0887\"],[0.1111111111111111,\"#46039f\"],[0.2222222222222222,\"#7201a8\"],[0.3333333333333333,\"#9c179e\"],[0.4444444444444444,\"#bd3786\"],[0.5555555555555556,\"#d8576b\"],[0.6666666666666666,\"#ed7953\"],[0.7777777777777778,\"#fb9f3a\"],[0.8888888888888888,\"#fdca26\"],[1.0,\"#f0f921\"]]}],\"contourcarpet\":[{\"type\":\"contourcarpet\",\"colorbar\":{\"outlinewidth\":0,\"ticks\":\"\"}}],\"contour\":[{\"type\":\"contour\",\"colorbar\":{\"outlinewidth\":0,\"ticks\":\"\"},\"colorscale\":[[0.0,\"#0d0887\"],[0.1111111111111111,\"#46039f\"],[0.2222222222222222,\"#7201a8\"],[0.3333333333333333,\"#9c179e\"],[0.4444444444444444,\"#bd3786\"],[0.5555555555555556,\"#d8576b\"],[0.6666666666666666,\"#ed7953\"],[0.7777777777777778,\"#fb9f3a\"],[0.8888888888888888,\"#fdca26\"],[1.0,\"#f0f921\"]]}],\"surface\":[{\"type\":\"surface\",\"colorbar\":{\"outlinewidth\":0,\"ticks\":\"\"},\"colorscale\":[[0.0,\"#0d0887\"],[0.1111111111111111,\"#46039f\"],[0.2222222222222222,\"#7201a8\"],[0.3333333333333333,\"#9c179e\"],[0.4444444444444444,\"#bd3786\"],[0.5555555555555556,\"#d8576b\"],[0.6666666666666666,\"#ed7953\"],[0.7777777777777778,\"#fb9f3a\"],[0.8888888888888888,\"#fdca26\"],[1.0,\"#f0f921\"]]}],\"mesh3d\":[{\"type\":\"mesh3d\",\"colorbar\":{\"outlinewidth\":0,\"ticks\":\"\"}}],\"scatter\":[{\"marker\":{\"line\":{\"color\":\"#283442\"}},\"type\":\"scatter\"}],\"parcoords\":[{\"type\":\"parcoords\",\"line\":{\"colorbar\":{\"outlinewidth\":0,\"ticks\":\"\"}}}],\"scatterpolargl\":[{\"type\":\"scatterpolargl\",\"marker\":{\"colorbar\":{\"outlinewidth\":0,\"ticks\":\"\"}}}],\"bar\":[{\"error_x\":{\"color\":\"#f2f5fa\"},\"error_y\":{\"color\":\"#f2f5fa\"},\"marker\":{\"line\":{\"color\":\"rgb(17,17,17)\",\"width\":0.5},\"pattern\":{\"fillmode\":\"overlay\",\"size\":10,\"solidity\":0.2}},\"type\":\"bar\"}],\"scattergeo\":[{\"type\":\"scattergeo\",\"marker\":{\"colorbar\":{\"outlinewidth\":0,\"ticks\":\"\"}}}],\"scatterpolar\":[{\"type\":\"scatterpolar\",\"marker\":{\"colorbar\":{\"outlinewidth\":0,\"ticks\":\"\"}}}],\"histogram\":[{\"marker\":{\"pattern\":{\"fillmode\":\"overlay\",\"size\":10,\"solidity\":0.2}},\"type\":\"histogram\"}],\"scattergl\":[{\"marker\":{\"line\":{\"color\":\"#283442\"}},\"type\":\"scattergl\"}],\"scatter3d\":[{\"type\":\"scatter3d\",\"line\":{\"colorbar\":{\"outlinewidth\":0,\"ticks\":\"\"}},\"marker\":{\"colorbar\":{\"outlinewidth\":0,\"ticks\":\"\"}}}],\"scattermapbox\":[{\"type\":\"scattermapbox\",\"marker\":{\"colorbar\":{\"outlinewidth\":0,\"ticks\":\"\"}}}],\"scatterternary\":[{\"type\":\"scatterternary\",\"marker\":{\"colorbar\":{\"outlinewidth\":0,\"ticks\":\"\"}}}],\"scattercarpet\":[{\"type\":\"scattercarpet\",\"marker\":{\"colorbar\":{\"outlinewidth\":0,\"ticks\":\"\"}}}],\"carpet\":[{\"aaxis\":{\"endlinecolor\":\"#A2B1C6\",\"gridcolor\":\"#506784\",\"linecolor\":\"#506784\",\"minorgridcolor\":\"#506784\",\"startlinecolor\":\"#A2B1C6\"},\"baxis\":{\"endlinecolor\":\"#A2B1C6\",\"gridcolor\":\"#506784\",\"linecolor\":\"#506784\",\"minorgridcolor\":\"#506784\",\"startlinecolor\":\"#A2B1C6\"},\"type\":\"carpet\"}],\"table\":[{\"cells\":{\"fill\":{\"color\":\"#506784\"},\"line\":{\"color\":\"rgb(17,17,17)\"}},\"header\":{\"fill\":{\"color\":\"#2a3f5f\"},\"line\":{\"color\":\"rgb(17,17,17)\"}},\"type\":\"table\"}],\"barpolar\":[{\"marker\":{\"line\":{\"color\":\"rgb(17,17,17)\",\"width\":0.5},\"pattern\":{\"fillmode\":\"overlay\",\"size\":10,\"solidity\":0.2}},\"type\":\"barpolar\"}],\"pie\":[{\"automargin\":true,\"type\":\"pie\"}]},\"layout\":{\"autotypenumbers\":\"strict\",\"colorway\":[\"#636efa\",\"#EF553B\",\"#00cc96\",\"#ab63fa\",\"#FFA15A\",\"#19d3f3\",\"#FF6692\",\"#B6E880\",\"#FF97FF\",\"#FECB52\"],\"font\":{\"color\":\"#f2f5fa\"},\"hovermode\":\"closest\",\"hoverlabel\":{\"align\":\"left\"},\"paper_bgcolor\":\"rgb(17,17,17)\",\"plot_bgcolor\":\"rgb(17,17,17)\",\"polar\":{\"bgcolor\":\"rgb(17,17,17)\",\"angularaxis\":{\"gridcolor\":\"#506784\",\"linecolor\":\"#506784\",\"ticks\":\"\"},\"radialaxis\":{\"gridcolor\":\"#506784\",\"linecolor\":\"#506784\",\"ticks\":\"\"}},\"ternary\":{\"bgcolor\":\"rgb(17,17,17)\",\"aaxis\":{\"gridcolor\":\"#506784\",\"linecolor\":\"#506784\",\"ticks\":\"\"},\"baxis\":{\"gridcolor\":\"#506784\",\"linecolor\":\"#506784\",\"ticks\":\"\"},\"caxis\":{\"gridcolor\":\"#506784\",\"linecolor\":\"#506784\",\"ticks\":\"\"}},\"coloraxis\":{\"colorbar\":{\"outlinewidth\":0,\"ticks\":\"\"}},\"colorscale\":{\"sequential\":[[0.0,\"#0d0887\"],[0.1111111111111111,\"#46039f\"],[0.2222222222222222,\"#7201a8\"],[0.3333333333333333,\"#9c179e\"],[0.4444444444444444,\"#bd3786\"],[0.5555555555555556,\"#d8576b\"],[0.6666666666666666,\"#ed7953\"],[0.7777777777777778,\"#fb9f3a\"],[0.8888888888888888,\"#fdca26\"],[1.0,\"#f0f921\"]],\"sequentialminus\":[[0.0,\"#0d0887\"],[0.1111111111111111,\"#46039f\"],[0.2222222222222222,\"#7201a8\"],[0.3333333333333333,\"#9c179e\"],[0.4444444444444444,\"#bd3786\"],[0.5555555555555556,\"#d8576b\"],[0.6666666666666666,\"#ed7953\"],[0.7777777777777778,\"#fb9f3a\"],[0.8888888888888888,\"#fdca26\"],[1.0,\"#f0f921\"]],\"diverging\":[[0,\"#8e0152\"],[0.1,\"#c51b7d\"],[0.2,\"#de77ae\"],[0.3,\"#f1b6da\"],[0.4,\"#fde0ef\"],[0.5,\"#f7f7f7\"],[0.6,\"#e6f5d0\"],[0.7,\"#b8e186\"],[0.8,\"#7fbc41\"],[0.9,\"#4d9221\"],[1,\"#276419\"]]},\"xaxis\":{\"gridcolor\":\"#283442\",\"linecolor\":\"#506784\",\"ticks\":\"\",\"title\":{\"standoff\":15},\"zerolinecolor\":\"#283442\",\"automargin\":true,\"zerolinewidth\":2},\"yaxis\":{\"gridcolor\":\"#283442\",\"linecolor\":\"#506784\",\"ticks\":\"\",\"title\":{\"standoff\":15},\"zerolinecolor\":\"#283442\",\"automargin\":true,\"zerolinewidth\":2},\"scene\":{\"xaxis\":{\"backgroundcolor\":\"rgb(17,17,17)\",\"gridcolor\":\"#506784\",\"linecolor\":\"#506784\",\"showbackground\":true,\"ticks\":\"\",\"zerolinecolor\":\"#C8D4E3\",\"gridwidth\":2},\"yaxis\":{\"backgroundcolor\":\"rgb(17,17,17)\",\"gridcolor\":\"#506784\",\"linecolor\":\"#506784\",\"showbackground\":true,\"ticks\":\"\",\"zerolinecolor\":\"#C8D4E3\",\"gridwidth\":2},\"zaxis\":{\"backgroundcolor\":\"rgb(17,17,17)\",\"gridcolor\":\"#506784\",\"linecolor\":\"#506784\",\"showbackground\":true,\"ticks\":\"\",\"zerolinecolor\":\"#C8D4E3\",\"gridwidth\":2}},\"shapedefaults\":{\"line\":{\"color\":\"#f2f5fa\"}},\"annotationdefaults\":{\"arrowcolor\":\"#f2f5fa\",\"arrowhead\":0,\"arrowwidth\":1},\"geo\":{\"bgcolor\":\"rgb(17,17,17)\",\"landcolor\":\"rgb(17,17,17)\",\"subunitcolor\":\"#506784\",\"showland\":true,\"showlakes\":true,\"lakecolor\":\"rgb(17,17,17)\"},\"title\":{\"x\":0.05},\"updatemenudefaults\":{\"bgcolor\":\"#506784\",\"borderwidth\":0},\"sliderdefaults\":{\"bgcolor\":\"#C8D4E3\",\"borderwidth\":1,\"bordercolor\":\"rgb(17,17,17)\",\"tickwidth\":0},\"mapbox\":{\"style\":\"dark\"}}},\"xaxis\":{\"anchor\":\"y\",\"domain\":[0.0,1.0],\"title\":{\"text\":\"Item Classification\"},\"categoryorder\":\"array\",\"categoryarray\":[\"kitchen\",\"shelter\"]},\"yaxis\":{\"anchor\":\"x\",\"domain\":[0.0,1.0],\"title\":{\"text\":\"Count\"}},\"legend\":{\"title\":{\"text\":\"Item Classification\"},\"tracegroupgap\":0,\"x\":1.05,\"y\":1,\"traceorder\":\"normal\",\"bgcolor\":\"rgba(255, 255, 255, 0)\",\"bordercolor\":\"rgba(255, 255, 255, 0)\"},\"title\":{\"text\":\"Distribution of Submissions by Item Classification\"},\"barmode\":\"relative\",\"height\":400,\"margin\":{\"r\":150},\"font\":{\"family\":\"Helvetica\",\"size\":14,\"color\":\"white\"}},                        {\"responsive\": true}                    ).then(function(){\n                            \nvar gd = document.getElementById('5160de9a-4924-403a-a662-a4244e16031e');\nvar x = new MutationObserver(function (mutations, observer) {{\n        var display = window.getComputedStyle(gd).display;\n        if (!display || display === 'none') {{\n            console.log([gd, 'removed!']);\n            Plotly.purge(gd);\n            observer.disconnect();\n        }}\n}});\n\n// Listen for the removal of the full notebook cells\nvar notebookContainer = gd.closest('#notebook-container');\nif (notebookContainer) {{\n    x.observe(notebookContainer, {childList: true});\n}}\n\n// Listen for the clearing of the current output cell\nvar outputEl = gd.closest('.output');\nif (outputEl) {{\n    x.observe(outputEl, {childList: true});\n}}\n\n                        })                };                });            </script>        </div>"
     },
     "metadata": {},
     "output_type": "display_data"
    }
   ],
   "source": [
    "# Prepare Bar Plot for Item Classification\n",
    "item_classification_counts = submissions_golden_df['item_classification'].value_counts().reset_index()\n",
    "item_classification_counts.columns = ['item_classification', 'count']\n",
    "\n",
    "# Create the bar plot\n",
    "item_classification_fig = px.bar(\n",
    "    item_classification_counts,\n",
    "    x='item_classification',\n",
    "    y='count',\n",
    "    title='Distribution of Submissions by Item Classification',\n",
    "    labels={\n",
    "        'item_classification': 'Item Classification',\n",
    "        'count': 'Count'\n",
    "    },\n",
    "    color='item_classification',\n",
    "    color_discrete_map={\n",
    "        'kitchen': 'rgb(124, 198, 116)',\n",
    "        'shelter': 'rgb(115, 197, 197)'\n",
    "    },\n",
    "    height=BARPLOT_HEIGHT,\n",
    "    template='plotly_dark',\n",
    ")\n",
    "\n",
    "item_classification_fig.update_layout(\n",
    "    legend_title_text='Item Classification',\n",
    "    legend=dict(\n",
    "        x=1.05,\n",
    "        y=1,\n",
    "        traceorder='normal',\n",
    "        bgcolor='rgba(255, 255, 255, 0)',\n",
    "        bordercolor='rgba(255, 255, 255, 0)'\n",
    "    ),\n",
    "    margin=dict(r=150),\n",
    "    font=dict(\n",
    "        family=\"Helvetica\",\n",
    "        size=14,\n",
    "        color=\"white\"\n",
    "    )\n",
    ")\n",
    "\n",
    "item_classification_fig.show()"
   ],
   "metadata": {
    "collapsed": false,
    "ExecuteTime": {
     "end_time": "2024-08-01T15:03:49.271932Z",
     "start_time": "2024-08-01T15:03:49.125040Z"
    }
   }
  },
  {
   "cell_type": "code",
   "execution_count": 253,
   "outputs": [
    {
     "name": "stderr",
     "output_type": "stream",
     "text": [
      "/Users/rkovalch/Library/Caches/pypoetry/virtualenvs/data-viz-final-project-wMDNdqrB-py3.12/lib/python3.12/site-packages/pandas/core/groupby/grouper.py:381: FutureWarning:\n",
      "\n",
      "Dtype inference on a pandas object (Series, Index, ExtensionArray) is deprecated. The Index constructor will keep the original dtype in the future. Call `infer_objects` on the result to get the old behavior.\n",
      "\n"
     ]
    },
    {
     "data": {
      "application/vnd.plotly.v1+json": {
       "data": [
        {
         "hovertemplate": "Submission Date=%{x}<br>Count=%{y}<extra></extra>",
         "legendgroup": "",
         "line": {
          "color": "skyblue",
          "dash": "solid"
         },
         "marker": {
          "symbol": "circle"
         },
         "mode": "lines+markers",
         "name": "",
         "orientation": "v",
         "showlegend": false,
         "x": [
          "2024-04-18T00:00:00+00:00",
          "2024-04-19T00:00:00+00:00",
          "2024-04-20T00:00:00+00:00",
          "2024-04-21T00:00:00+00:00",
          "2024-04-22T00:00:00+00:00",
          "2024-04-23T00:00:00+00:00",
          "2024-04-24T00:00:00+00:00",
          "2024-04-25T00:00:00+00:00",
          "2024-04-26T00:00:00+00:00",
          "2024-04-27T00:00:00+00:00",
          "2024-04-28T00:00:00+00:00",
          "2024-04-29T00:00:00+00:00",
          "2024-04-30T00:00:00+00:00",
          "2024-05-01T00:00:00+00:00",
          "2024-05-02T00:00:00+00:00",
          "2024-05-03T00:00:00+00:00",
          "2024-05-04T00:00:00+00:00",
          "2024-05-05T00:00:00+00:00",
          "2024-05-06T00:00:00+00:00",
          "2024-05-07T00:00:00+00:00",
          "2024-05-08T00:00:00+00:00",
          "2024-05-09T00:00:00+00:00",
          "2024-05-10T00:00:00+00:00",
          "2024-05-11T00:00:00+00:00",
          "2024-05-12T00:00:00+00:00",
          "2024-05-13T00:00:00+00:00",
          "2024-05-14T00:00:00+00:00",
          "2024-05-15T00:00:00+00:00",
          "2024-05-16T00:00:00+00:00",
          "2024-05-17T00:00:00+00:00",
          "2024-05-18T00:00:00+00:00",
          "2024-05-19T00:00:00+00:00",
          "2024-05-20T00:00:00+00:00",
          "2024-05-21T00:00:00+00:00",
          "2024-05-22T00:00:00+00:00",
          "2024-05-23T00:00:00+00:00",
          "2024-05-24T00:00:00+00:00",
          "2024-05-25T00:00:00+00:00",
          "2024-05-26T00:00:00+00:00",
          "2024-05-27T00:00:00+00:00",
          "2024-05-28T00:00:00+00:00",
          "2024-05-29T00:00:00+00:00",
          "2024-05-30T00:00:00+00:00",
          "2024-05-31T00:00:00+00:00",
          "2024-06-01T00:00:00+00:00",
          "2024-06-02T00:00:00+00:00",
          "2024-06-03T00:00:00+00:00",
          "2024-06-04T00:00:00+00:00",
          "2024-06-05T00:00:00+00:00",
          "2024-06-06T00:00:00+00:00"
         ],
         "xaxis": "x",
         "y": [
          1,
          3,
          1,
          0,
          7,
          16,
          26,
          38,
          42,
          0,
          0,
          2,
          3,
          0,
          0,
          2,
          0,
          0,
          0,
          0,
          0,
          0,
          0,
          0,
          0,
          0,
          0,
          0,
          0,
          0,
          0,
          0,
          0,
          0,
          0,
          1,
          1,
          0,
          0,
          4,
          8,
          43,
          70,
          194,
          5,
          6,
          10,
          3,
          0,
          1
         ],
         "yaxis": "y",
         "type": "scatter"
        }
       ],
       "layout": {
        "template": {
         "data": {
          "histogram2dcontour": [
           {
            "type": "histogram2dcontour",
            "colorbar": {
             "outlinewidth": 0,
             "ticks": ""
            },
            "colorscale": [
             [
              0.0,
              "#0d0887"
             ],
             [
              0.1111111111111111,
              "#46039f"
             ],
             [
              0.2222222222222222,
              "#7201a8"
             ],
             [
              0.3333333333333333,
              "#9c179e"
             ],
             [
              0.4444444444444444,
              "#bd3786"
             ],
             [
              0.5555555555555556,
              "#d8576b"
             ],
             [
              0.6666666666666666,
              "#ed7953"
             ],
             [
              0.7777777777777778,
              "#fb9f3a"
             ],
             [
              0.8888888888888888,
              "#fdca26"
             ],
             [
              1.0,
              "#f0f921"
             ]
            ]
           }
          ],
          "choropleth": [
           {
            "type": "choropleth",
            "colorbar": {
             "outlinewidth": 0,
             "ticks": ""
            }
           }
          ],
          "histogram2d": [
           {
            "type": "histogram2d",
            "colorbar": {
             "outlinewidth": 0,
             "ticks": ""
            },
            "colorscale": [
             [
              0.0,
              "#0d0887"
             ],
             [
              0.1111111111111111,
              "#46039f"
             ],
             [
              0.2222222222222222,
              "#7201a8"
             ],
             [
              0.3333333333333333,
              "#9c179e"
             ],
             [
              0.4444444444444444,
              "#bd3786"
             ],
             [
              0.5555555555555556,
              "#d8576b"
             ],
             [
              0.6666666666666666,
              "#ed7953"
             ],
             [
              0.7777777777777778,
              "#fb9f3a"
             ],
             [
              0.8888888888888888,
              "#fdca26"
             ],
             [
              1.0,
              "#f0f921"
             ]
            ]
           }
          ],
          "heatmap": [
           {
            "type": "heatmap",
            "colorbar": {
             "outlinewidth": 0,
             "ticks": ""
            },
            "colorscale": [
             [
              0.0,
              "#0d0887"
             ],
             [
              0.1111111111111111,
              "#46039f"
             ],
             [
              0.2222222222222222,
              "#7201a8"
             ],
             [
              0.3333333333333333,
              "#9c179e"
             ],
             [
              0.4444444444444444,
              "#bd3786"
             ],
             [
              0.5555555555555556,
              "#d8576b"
             ],
             [
              0.6666666666666666,
              "#ed7953"
             ],
             [
              0.7777777777777778,
              "#fb9f3a"
             ],
             [
              0.8888888888888888,
              "#fdca26"
             ],
             [
              1.0,
              "#f0f921"
             ]
            ]
           }
          ],
          "heatmapgl": [
           {
            "type": "heatmapgl",
            "colorbar": {
             "outlinewidth": 0,
             "ticks": ""
            },
            "colorscale": [
             [
              0.0,
              "#0d0887"
             ],
             [
              0.1111111111111111,
              "#46039f"
             ],
             [
              0.2222222222222222,
              "#7201a8"
             ],
             [
              0.3333333333333333,
              "#9c179e"
             ],
             [
              0.4444444444444444,
              "#bd3786"
             ],
             [
              0.5555555555555556,
              "#d8576b"
             ],
             [
              0.6666666666666666,
              "#ed7953"
             ],
             [
              0.7777777777777778,
              "#fb9f3a"
             ],
             [
              0.8888888888888888,
              "#fdca26"
             ],
             [
              1.0,
              "#f0f921"
             ]
            ]
           }
          ],
          "contourcarpet": [
           {
            "type": "contourcarpet",
            "colorbar": {
             "outlinewidth": 0,
             "ticks": ""
            }
           }
          ],
          "contour": [
           {
            "type": "contour",
            "colorbar": {
             "outlinewidth": 0,
             "ticks": ""
            },
            "colorscale": [
             [
              0.0,
              "#0d0887"
             ],
             [
              0.1111111111111111,
              "#46039f"
             ],
             [
              0.2222222222222222,
              "#7201a8"
             ],
             [
              0.3333333333333333,
              "#9c179e"
             ],
             [
              0.4444444444444444,
              "#bd3786"
             ],
             [
              0.5555555555555556,
              "#d8576b"
             ],
             [
              0.6666666666666666,
              "#ed7953"
             ],
             [
              0.7777777777777778,
              "#fb9f3a"
             ],
             [
              0.8888888888888888,
              "#fdca26"
             ],
             [
              1.0,
              "#f0f921"
             ]
            ]
           }
          ],
          "surface": [
           {
            "type": "surface",
            "colorbar": {
             "outlinewidth": 0,
             "ticks": ""
            },
            "colorscale": [
             [
              0.0,
              "#0d0887"
             ],
             [
              0.1111111111111111,
              "#46039f"
             ],
             [
              0.2222222222222222,
              "#7201a8"
             ],
             [
              0.3333333333333333,
              "#9c179e"
             ],
             [
              0.4444444444444444,
              "#bd3786"
             ],
             [
              0.5555555555555556,
              "#d8576b"
             ],
             [
              0.6666666666666666,
              "#ed7953"
             ],
             [
              0.7777777777777778,
              "#fb9f3a"
             ],
             [
              0.8888888888888888,
              "#fdca26"
             ],
             [
              1.0,
              "#f0f921"
             ]
            ]
           }
          ],
          "mesh3d": [
           {
            "type": "mesh3d",
            "colorbar": {
             "outlinewidth": 0,
             "ticks": ""
            }
           }
          ],
          "scatter": [
           {
            "marker": {
             "line": {
              "color": "#283442"
             }
            },
            "type": "scatter"
           }
          ],
          "parcoords": [
           {
            "type": "parcoords",
            "line": {
             "colorbar": {
              "outlinewidth": 0,
              "ticks": ""
             }
            }
           }
          ],
          "scatterpolargl": [
           {
            "type": "scatterpolargl",
            "marker": {
             "colorbar": {
              "outlinewidth": 0,
              "ticks": ""
             }
            }
           }
          ],
          "bar": [
           {
            "error_x": {
             "color": "#f2f5fa"
            },
            "error_y": {
             "color": "#f2f5fa"
            },
            "marker": {
             "line": {
              "color": "rgb(17,17,17)",
              "width": 0.5
             },
             "pattern": {
              "fillmode": "overlay",
              "size": 10,
              "solidity": 0.2
             }
            },
            "type": "bar"
           }
          ],
          "scattergeo": [
           {
            "type": "scattergeo",
            "marker": {
             "colorbar": {
              "outlinewidth": 0,
              "ticks": ""
             }
            }
           }
          ],
          "scatterpolar": [
           {
            "type": "scatterpolar",
            "marker": {
             "colorbar": {
              "outlinewidth": 0,
              "ticks": ""
             }
            }
           }
          ],
          "histogram": [
           {
            "marker": {
             "pattern": {
              "fillmode": "overlay",
              "size": 10,
              "solidity": 0.2
             }
            },
            "type": "histogram"
           }
          ],
          "scattergl": [
           {
            "marker": {
             "line": {
              "color": "#283442"
             }
            },
            "type": "scattergl"
           }
          ],
          "scatter3d": [
           {
            "type": "scatter3d",
            "line": {
             "colorbar": {
              "outlinewidth": 0,
              "ticks": ""
             }
            },
            "marker": {
             "colorbar": {
              "outlinewidth": 0,
              "ticks": ""
             }
            }
           }
          ],
          "scattermapbox": [
           {
            "type": "scattermapbox",
            "marker": {
             "colorbar": {
              "outlinewidth": 0,
              "ticks": ""
             }
            }
           }
          ],
          "scatterternary": [
           {
            "type": "scatterternary",
            "marker": {
             "colorbar": {
              "outlinewidth": 0,
              "ticks": ""
             }
            }
           }
          ],
          "scattercarpet": [
           {
            "type": "scattercarpet",
            "marker": {
             "colorbar": {
              "outlinewidth": 0,
              "ticks": ""
             }
            }
           }
          ],
          "carpet": [
           {
            "aaxis": {
             "endlinecolor": "#A2B1C6",
             "gridcolor": "#506784",
             "linecolor": "#506784",
             "minorgridcolor": "#506784",
             "startlinecolor": "#A2B1C6"
            },
            "baxis": {
             "endlinecolor": "#A2B1C6",
             "gridcolor": "#506784",
             "linecolor": "#506784",
             "minorgridcolor": "#506784",
             "startlinecolor": "#A2B1C6"
            },
            "type": "carpet"
           }
          ],
          "table": [
           {
            "cells": {
             "fill": {
              "color": "#506784"
             },
             "line": {
              "color": "rgb(17,17,17)"
             }
            },
            "header": {
             "fill": {
              "color": "#2a3f5f"
             },
             "line": {
              "color": "rgb(17,17,17)"
             }
            },
            "type": "table"
           }
          ],
          "barpolar": [
           {
            "marker": {
             "line": {
              "color": "rgb(17,17,17)",
              "width": 0.5
             },
             "pattern": {
              "fillmode": "overlay",
              "size": 10,
              "solidity": 0.2
             }
            },
            "type": "barpolar"
           }
          ],
          "pie": [
           {
            "automargin": true,
            "type": "pie"
           }
          ]
         },
         "layout": {
          "autotypenumbers": "strict",
          "colorway": [
           "#636efa",
           "#EF553B",
           "#00cc96",
           "#ab63fa",
           "#FFA15A",
           "#19d3f3",
           "#FF6692",
           "#B6E880",
           "#FF97FF",
           "#FECB52"
          ],
          "font": {
           "color": "#f2f5fa"
          },
          "hovermode": "closest",
          "hoverlabel": {
           "align": "left"
          },
          "paper_bgcolor": "rgb(17,17,17)",
          "plot_bgcolor": "rgb(17,17,17)",
          "polar": {
           "bgcolor": "rgb(17,17,17)",
           "angularaxis": {
            "gridcolor": "#506784",
            "linecolor": "#506784",
            "ticks": ""
           },
           "radialaxis": {
            "gridcolor": "#506784",
            "linecolor": "#506784",
            "ticks": ""
           }
          },
          "ternary": {
           "bgcolor": "rgb(17,17,17)",
           "aaxis": {
            "gridcolor": "#506784",
            "linecolor": "#506784",
            "ticks": ""
           },
           "baxis": {
            "gridcolor": "#506784",
            "linecolor": "#506784",
            "ticks": ""
           },
           "caxis": {
            "gridcolor": "#506784",
            "linecolor": "#506784",
            "ticks": ""
           }
          },
          "coloraxis": {
           "colorbar": {
            "outlinewidth": 0,
            "ticks": ""
           }
          },
          "colorscale": {
           "sequential": [
            [
             0.0,
             "#0d0887"
            ],
            [
             0.1111111111111111,
             "#46039f"
            ],
            [
             0.2222222222222222,
             "#7201a8"
            ],
            [
             0.3333333333333333,
             "#9c179e"
            ],
            [
             0.4444444444444444,
             "#bd3786"
            ],
            [
             0.5555555555555556,
             "#d8576b"
            ],
            [
             0.6666666666666666,
             "#ed7953"
            ],
            [
             0.7777777777777778,
             "#fb9f3a"
            ],
            [
             0.8888888888888888,
             "#fdca26"
            ],
            [
             1.0,
             "#f0f921"
            ]
           ],
           "sequentialminus": [
            [
             0.0,
             "#0d0887"
            ],
            [
             0.1111111111111111,
             "#46039f"
            ],
            [
             0.2222222222222222,
             "#7201a8"
            ],
            [
             0.3333333333333333,
             "#9c179e"
            ],
            [
             0.4444444444444444,
             "#bd3786"
            ],
            [
             0.5555555555555556,
             "#d8576b"
            ],
            [
             0.6666666666666666,
             "#ed7953"
            ],
            [
             0.7777777777777778,
             "#fb9f3a"
            ],
            [
             0.8888888888888888,
             "#fdca26"
            ],
            [
             1.0,
             "#f0f921"
            ]
           ],
           "diverging": [
            [
             0,
             "#8e0152"
            ],
            [
             0.1,
             "#c51b7d"
            ],
            [
             0.2,
             "#de77ae"
            ],
            [
             0.3,
             "#f1b6da"
            ],
            [
             0.4,
             "#fde0ef"
            ],
            [
             0.5,
             "#f7f7f7"
            ],
            [
             0.6,
             "#e6f5d0"
            ],
            [
             0.7,
             "#b8e186"
            ],
            [
             0.8,
             "#7fbc41"
            ],
            [
             0.9,
             "#4d9221"
            ],
            [
             1,
             "#276419"
            ]
           ]
          },
          "xaxis": {
           "gridcolor": "#283442",
           "linecolor": "#506784",
           "ticks": "",
           "title": {
            "standoff": 15
           },
           "zerolinecolor": "#283442",
           "automargin": true,
           "zerolinewidth": 2
          },
          "yaxis": {
           "gridcolor": "#283442",
           "linecolor": "#506784",
           "ticks": "",
           "title": {
            "standoff": 15
           },
           "zerolinecolor": "#283442",
           "automargin": true,
           "zerolinewidth": 2
          },
          "scene": {
           "xaxis": {
            "backgroundcolor": "rgb(17,17,17)",
            "gridcolor": "#506784",
            "linecolor": "#506784",
            "showbackground": true,
            "ticks": "",
            "zerolinecolor": "#C8D4E3",
            "gridwidth": 2
           },
           "yaxis": {
            "backgroundcolor": "rgb(17,17,17)",
            "gridcolor": "#506784",
            "linecolor": "#506784",
            "showbackground": true,
            "ticks": "",
            "zerolinecolor": "#C8D4E3",
            "gridwidth": 2
           },
           "zaxis": {
            "backgroundcolor": "rgb(17,17,17)",
            "gridcolor": "#506784",
            "linecolor": "#506784",
            "showbackground": true,
            "ticks": "",
            "zerolinecolor": "#C8D4E3",
            "gridwidth": 2
           }
          },
          "shapedefaults": {
           "line": {
            "color": "#f2f5fa"
           }
          },
          "annotationdefaults": {
           "arrowcolor": "#f2f5fa",
           "arrowhead": 0,
           "arrowwidth": 1
          },
          "geo": {
           "bgcolor": "rgb(17,17,17)",
           "landcolor": "rgb(17,17,17)",
           "subunitcolor": "#506784",
           "showland": true,
           "showlakes": true,
           "lakecolor": "rgb(17,17,17)"
          },
          "title": {
           "x": 0.05
          },
          "updatemenudefaults": {
           "bgcolor": "#506784",
           "borderwidth": 0
          },
          "sliderdefaults": {
           "bgcolor": "#C8D4E3",
           "borderwidth": 1,
           "bordercolor": "rgb(17,17,17)",
           "tickwidth": 0
          },
          "mapbox": {
           "style": "dark"
          }
         }
        },
        "xaxis": {
         "anchor": "y",
         "domain": [
          0.0,
          1.0
         ],
         "title": {
          "text": "Submission Date"
         }
        },
        "yaxis": {
         "anchor": "x",
         "domain": [
          0.0,
          1.0
         ],
         "title": {
          "text": "Count"
         }
        },
        "legend": {
         "tracegroupgap": 0
        },
        "title": {
         "text": "Number of Daily Submissions"
        },
        "height": 300
       },
       "config": {
        "plotlyServerURL": "https://plot.ly"
       }
      },
      "text/html": "<div>                            <div id=\"040e78ab-c29f-4244-82fc-4cec38b3d2ea\" class=\"plotly-graph-div\" style=\"height:300px; width:100%;\"></div>            <script type=\"text/javascript\">                require([\"plotly\"], function(Plotly) {                    window.PLOTLYENV=window.PLOTLYENV || {};                                    if (document.getElementById(\"040e78ab-c29f-4244-82fc-4cec38b3d2ea\")) {                    Plotly.newPlot(                        \"040e78ab-c29f-4244-82fc-4cec38b3d2ea\",                        [{\"hovertemplate\":\"Submission Date=%{x}\\u003cbr\\u003eCount=%{y}\\u003cextra\\u003e\\u003c\\u002fextra\\u003e\",\"legendgroup\":\"\",\"line\":{\"color\":\"skyblue\",\"dash\":\"solid\"},\"marker\":{\"symbol\":\"circle\"},\"mode\":\"lines+markers\",\"name\":\"\",\"orientation\":\"v\",\"showlegend\":false,\"x\":[\"2024-04-18T00:00:00+00:00\",\"2024-04-19T00:00:00+00:00\",\"2024-04-20T00:00:00+00:00\",\"2024-04-21T00:00:00+00:00\",\"2024-04-22T00:00:00+00:00\",\"2024-04-23T00:00:00+00:00\",\"2024-04-24T00:00:00+00:00\",\"2024-04-25T00:00:00+00:00\",\"2024-04-26T00:00:00+00:00\",\"2024-04-27T00:00:00+00:00\",\"2024-04-28T00:00:00+00:00\",\"2024-04-29T00:00:00+00:00\",\"2024-04-30T00:00:00+00:00\",\"2024-05-01T00:00:00+00:00\",\"2024-05-02T00:00:00+00:00\",\"2024-05-03T00:00:00+00:00\",\"2024-05-04T00:00:00+00:00\",\"2024-05-05T00:00:00+00:00\",\"2024-05-06T00:00:00+00:00\",\"2024-05-07T00:00:00+00:00\",\"2024-05-08T00:00:00+00:00\",\"2024-05-09T00:00:00+00:00\",\"2024-05-10T00:00:00+00:00\",\"2024-05-11T00:00:00+00:00\",\"2024-05-12T00:00:00+00:00\",\"2024-05-13T00:00:00+00:00\",\"2024-05-14T00:00:00+00:00\",\"2024-05-15T00:00:00+00:00\",\"2024-05-16T00:00:00+00:00\",\"2024-05-17T00:00:00+00:00\",\"2024-05-18T00:00:00+00:00\",\"2024-05-19T00:00:00+00:00\",\"2024-05-20T00:00:00+00:00\",\"2024-05-21T00:00:00+00:00\",\"2024-05-22T00:00:00+00:00\",\"2024-05-23T00:00:00+00:00\",\"2024-05-24T00:00:00+00:00\",\"2024-05-25T00:00:00+00:00\",\"2024-05-26T00:00:00+00:00\",\"2024-05-27T00:00:00+00:00\",\"2024-05-28T00:00:00+00:00\",\"2024-05-29T00:00:00+00:00\",\"2024-05-30T00:00:00+00:00\",\"2024-05-31T00:00:00+00:00\",\"2024-06-01T00:00:00+00:00\",\"2024-06-02T00:00:00+00:00\",\"2024-06-03T00:00:00+00:00\",\"2024-06-04T00:00:00+00:00\",\"2024-06-05T00:00:00+00:00\",\"2024-06-06T00:00:00+00:00\"],\"xaxis\":\"x\",\"y\":[1,3,1,0,7,16,26,38,42,0,0,2,3,0,0,2,0,0,0,0,0,0,0,0,0,0,0,0,0,0,0,0,0,0,0,1,1,0,0,4,8,43,70,194,5,6,10,3,0,1],\"yaxis\":\"y\",\"type\":\"scatter\"}],                        {\"template\":{\"data\":{\"histogram2dcontour\":[{\"type\":\"histogram2dcontour\",\"colorbar\":{\"outlinewidth\":0,\"ticks\":\"\"},\"colorscale\":[[0.0,\"#0d0887\"],[0.1111111111111111,\"#46039f\"],[0.2222222222222222,\"#7201a8\"],[0.3333333333333333,\"#9c179e\"],[0.4444444444444444,\"#bd3786\"],[0.5555555555555556,\"#d8576b\"],[0.6666666666666666,\"#ed7953\"],[0.7777777777777778,\"#fb9f3a\"],[0.8888888888888888,\"#fdca26\"],[1.0,\"#f0f921\"]]}],\"choropleth\":[{\"type\":\"choropleth\",\"colorbar\":{\"outlinewidth\":0,\"ticks\":\"\"}}],\"histogram2d\":[{\"type\":\"histogram2d\",\"colorbar\":{\"outlinewidth\":0,\"ticks\":\"\"},\"colorscale\":[[0.0,\"#0d0887\"],[0.1111111111111111,\"#46039f\"],[0.2222222222222222,\"#7201a8\"],[0.3333333333333333,\"#9c179e\"],[0.4444444444444444,\"#bd3786\"],[0.5555555555555556,\"#d8576b\"],[0.6666666666666666,\"#ed7953\"],[0.7777777777777778,\"#fb9f3a\"],[0.8888888888888888,\"#fdca26\"],[1.0,\"#f0f921\"]]}],\"heatmap\":[{\"type\":\"heatmap\",\"colorbar\":{\"outlinewidth\":0,\"ticks\":\"\"},\"colorscale\":[[0.0,\"#0d0887\"],[0.1111111111111111,\"#46039f\"],[0.2222222222222222,\"#7201a8\"],[0.3333333333333333,\"#9c179e\"],[0.4444444444444444,\"#bd3786\"],[0.5555555555555556,\"#d8576b\"],[0.6666666666666666,\"#ed7953\"],[0.7777777777777778,\"#fb9f3a\"],[0.8888888888888888,\"#fdca26\"],[1.0,\"#f0f921\"]]}],\"heatmapgl\":[{\"type\":\"heatmapgl\",\"colorbar\":{\"outlinewidth\":0,\"ticks\":\"\"},\"colorscale\":[[0.0,\"#0d0887\"],[0.1111111111111111,\"#46039f\"],[0.2222222222222222,\"#7201a8\"],[0.3333333333333333,\"#9c179e\"],[0.4444444444444444,\"#bd3786\"],[0.5555555555555556,\"#d8576b\"],[0.6666666666666666,\"#ed7953\"],[0.7777777777777778,\"#fb9f3a\"],[0.8888888888888888,\"#fdca26\"],[1.0,\"#f0f921\"]]}],\"contourcarpet\":[{\"type\":\"contourcarpet\",\"colorbar\":{\"outlinewidth\":0,\"ticks\":\"\"}}],\"contour\":[{\"type\":\"contour\",\"colorbar\":{\"outlinewidth\":0,\"ticks\":\"\"},\"colorscale\":[[0.0,\"#0d0887\"],[0.1111111111111111,\"#46039f\"],[0.2222222222222222,\"#7201a8\"],[0.3333333333333333,\"#9c179e\"],[0.4444444444444444,\"#bd3786\"],[0.5555555555555556,\"#d8576b\"],[0.6666666666666666,\"#ed7953\"],[0.7777777777777778,\"#fb9f3a\"],[0.8888888888888888,\"#fdca26\"],[1.0,\"#f0f921\"]]}],\"surface\":[{\"type\":\"surface\",\"colorbar\":{\"outlinewidth\":0,\"ticks\":\"\"},\"colorscale\":[[0.0,\"#0d0887\"],[0.1111111111111111,\"#46039f\"],[0.2222222222222222,\"#7201a8\"],[0.3333333333333333,\"#9c179e\"],[0.4444444444444444,\"#bd3786\"],[0.5555555555555556,\"#d8576b\"],[0.6666666666666666,\"#ed7953\"],[0.7777777777777778,\"#fb9f3a\"],[0.8888888888888888,\"#fdca26\"],[1.0,\"#f0f921\"]]}],\"mesh3d\":[{\"type\":\"mesh3d\",\"colorbar\":{\"outlinewidth\":0,\"ticks\":\"\"}}],\"scatter\":[{\"marker\":{\"line\":{\"color\":\"#283442\"}},\"type\":\"scatter\"}],\"parcoords\":[{\"type\":\"parcoords\",\"line\":{\"colorbar\":{\"outlinewidth\":0,\"ticks\":\"\"}}}],\"scatterpolargl\":[{\"type\":\"scatterpolargl\",\"marker\":{\"colorbar\":{\"outlinewidth\":0,\"ticks\":\"\"}}}],\"bar\":[{\"error_x\":{\"color\":\"#f2f5fa\"},\"error_y\":{\"color\":\"#f2f5fa\"},\"marker\":{\"line\":{\"color\":\"rgb(17,17,17)\",\"width\":0.5},\"pattern\":{\"fillmode\":\"overlay\",\"size\":10,\"solidity\":0.2}},\"type\":\"bar\"}],\"scattergeo\":[{\"type\":\"scattergeo\",\"marker\":{\"colorbar\":{\"outlinewidth\":0,\"ticks\":\"\"}}}],\"scatterpolar\":[{\"type\":\"scatterpolar\",\"marker\":{\"colorbar\":{\"outlinewidth\":0,\"ticks\":\"\"}}}],\"histogram\":[{\"marker\":{\"pattern\":{\"fillmode\":\"overlay\",\"size\":10,\"solidity\":0.2}},\"type\":\"histogram\"}],\"scattergl\":[{\"marker\":{\"line\":{\"color\":\"#283442\"}},\"type\":\"scattergl\"}],\"scatter3d\":[{\"type\":\"scatter3d\",\"line\":{\"colorbar\":{\"outlinewidth\":0,\"ticks\":\"\"}},\"marker\":{\"colorbar\":{\"outlinewidth\":0,\"ticks\":\"\"}}}],\"scattermapbox\":[{\"type\":\"scattermapbox\",\"marker\":{\"colorbar\":{\"outlinewidth\":0,\"ticks\":\"\"}}}],\"scatterternary\":[{\"type\":\"scatterternary\",\"marker\":{\"colorbar\":{\"outlinewidth\":0,\"ticks\":\"\"}}}],\"scattercarpet\":[{\"type\":\"scattercarpet\",\"marker\":{\"colorbar\":{\"outlinewidth\":0,\"ticks\":\"\"}}}],\"carpet\":[{\"aaxis\":{\"endlinecolor\":\"#A2B1C6\",\"gridcolor\":\"#506784\",\"linecolor\":\"#506784\",\"minorgridcolor\":\"#506784\",\"startlinecolor\":\"#A2B1C6\"},\"baxis\":{\"endlinecolor\":\"#A2B1C6\",\"gridcolor\":\"#506784\",\"linecolor\":\"#506784\",\"minorgridcolor\":\"#506784\",\"startlinecolor\":\"#A2B1C6\"},\"type\":\"carpet\"}],\"table\":[{\"cells\":{\"fill\":{\"color\":\"#506784\"},\"line\":{\"color\":\"rgb(17,17,17)\"}},\"header\":{\"fill\":{\"color\":\"#2a3f5f\"},\"line\":{\"color\":\"rgb(17,17,17)\"}},\"type\":\"table\"}],\"barpolar\":[{\"marker\":{\"line\":{\"color\":\"rgb(17,17,17)\",\"width\":0.5},\"pattern\":{\"fillmode\":\"overlay\",\"size\":10,\"solidity\":0.2}},\"type\":\"barpolar\"}],\"pie\":[{\"automargin\":true,\"type\":\"pie\"}]},\"layout\":{\"autotypenumbers\":\"strict\",\"colorway\":[\"#636efa\",\"#EF553B\",\"#00cc96\",\"#ab63fa\",\"#FFA15A\",\"#19d3f3\",\"#FF6692\",\"#B6E880\",\"#FF97FF\",\"#FECB52\"],\"font\":{\"color\":\"#f2f5fa\"},\"hovermode\":\"closest\",\"hoverlabel\":{\"align\":\"left\"},\"paper_bgcolor\":\"rgb(17,17,17)\",\"plot_bgcolor\":\"rgb(17,17,17)\",\"polar\":{\"bgcolor\":\"rgb(17,17,17)\",\"angularaxis\":{\"gridcolor\":\"#506784\",\"linecolor\":\"#506784\",\"ticks\":\"\"},\"radialaxis\":{\"gridcolor\":\"#506784\",\"linecolor\":\"#506784\",\"ticks\":\"\"}},\"ternary\":{\"bgcolor\":\"rgb(17,17,17)\",\"aaxis\":{\"gridcolor\":\"#506784\",\"linecolor\":\"#506784\",\"ticks\":\"\"},\"baxis\":{\"gridcolor\":\"#506784\",\"linecolor\":\"#506784\",\"ticks\":\"\"},\"caxis\":{\"gridcolor\":\"#506784\",\"linecolor\":\"#506784\",\"ticks\":\"\"}},\"coloraxis\":{\"colorbar\":{\"outlinewidth\":0,\"ticks\":\"\"}},\"colorscale\":{\"sequential\":[[0.0,\"#0d0887\"],[0.1111111111111111,\"#46039f\"],[0.2222222222222222,\"#7201a8\"],[0.3333333333333333,\"#9c179e\"],[0.4444444444444444,\"#bd3786\"],[0.5555555555555556,\"#d8576b\"],[0.6666666666666666,\"#ed7953\"],[0.7777777777777778,\"#fb9f3a\"],[0.8888888888888888,\"#fdca26\"],[1.0,\"#f0f921\"]],\"sequentialminus\":[[0.0,\"#0d0887\"],[0.1111111111111111,\"#46039f\"],[0.2222222222222222,\"#7201a8\"],[0.3333333333333333,\"#9c179e\"],[0.4444444444444444,\"#bd3786\"],[0.5555555555555556,\"#d8576b\"],[0.6666666666666666,\"#ed7953\"],[0.7777777777777778,\"#fb9f3a\"],[0.8888888888888888,\"#fdca26\"],[1.0,\"#f0f921\"]],\"diverging\":[[0,\"#8e0152\"],[0.1,\"#c51b7d\"],[0.2,\"#de77ae\"],[0.3,\"#f1b6da\"],[0.4,\"#fde0ef\"],[0.5,\"#f7f7f7\"],[0.6,\"#e6f5d0\"],[0.7,\"#b8e186\"],[0.8,\"#7fbc41\"],[0.9,\"#4d9221\"],[1,\"#276419\"]]},\"xaxis\":{\"gridcolor\":\"#283442\",\"linecolor\":\"#506784\",\"ticks\":\"\",\"title\":{\"standoff\":15},\"zerolinecolor\":\"#283442\",\"automargin\":true,\"zerolinewidth\":2},\"yaxis\":{\"gridcolor\":\"#283442\",\"linecolor\":\"#506784\",\"ticks\":\"\",\"title\":{\"standoff\":15},\"zerolinecolor\":\"#283442\",\"automargin\":true,\"zerolinewidth\":2},\"scene\":{\"xaxis\":{\"backgroundcolor\":\"rgb(17,17,17)\",\"gridcolor\":\"#506784\",\"linecolor\":\"#506784\",\"showbackground\":true,\"ticks\":\"\",\"zerolinecolor\":\"#C8D4E3\",\"gridwidth\":2},\"yaxis\":{\"backgroundcolor\":\"rgb(17,17,17)\",\"gridcolor\":\"#506784\",\"linecolor\":\"#506784\",\"showbackground\":true,\"ticks\":\"\",\"zerolinecolor\":\"#C8D4E3\",\"gridwidth\":2},\"zaxis\":{\"backgroundcolor\":\"rgb(17,17,17)\",\"gridcolor\":\"#506784\",\"linecolor\":\"#506784\",\"showbackground\":true,\"ticks\":\"\",\"zerolinecolor\":\"#C8D4E3\",\"gridwidth\":2}},\"shapedefaults\":{\"line\":{\"color\":\"#f2f5fa\"}},\"annotationdefaults\":{\"arrowcolor\":\"#f2f5fa\",\"arrowhead\":0,\"arrowwidth\":1},\"geo\":{\"bgcolor\":\"rgb(17,17,17)\",\"landcolor\":\"rgb(17,17,17)\",\"subunitcolor\":\"#506784\",\"showland\":true,\"showlakes\":true,\"lakecolor\":\"rgb(17,17,17)\"},\"title\":{\"x\":0.05},\"updatemenudefaults\":{\"bgcolor\":\"#506784\",\"borderwidth\":0},\"sliderdefaults\":{\"bgcolor\":\"#C8D4E3\",\"borderwidth\":1,\"bordercolor\":\"rgb(17,17,17)\",\"tickwidth\":0},\"mapbox\":{\"style\":\"dark\"}}},\"xaxis\":{\"anchor\":\"y\",\"domain\":[0.0,1.0],\"title\":{\"text\":\"Submission Date\"}},\"yaxis\":{\"anchor\":\"x\",\"domain\":[0.0,1.0],\"title\":{\"text\":\"Count\"}},\"legend\":{\"tracegroupgap\":0},\"title\":{\"text\":\"Number of Daily Submissions\"},\"height\":300},                        {\"responsive\": true}                    ).then(function(){\n                            \nvar gd = document.getElementById('040e78ab-c29f-4244-82fc-4cec38b3d2ea');\nvar x = new MutationObserver(function (mutations, observer) {{\n        var display = window.getComputedStyle(gd).display;\n        if (!display || display === 'none') {{\n            console.log([gd, 'removed!']);\n            Plotly.purge(gd);\n            observer.disconnect();\n        }}\n}});\n\n// Listen for the removal of the full notebook cells\nvar notebookContainer = gd.closest('#notebook-container');\nif (notebookContainer) {{\n    x.observe(notebookContainer, {childList: true});\n}}\n\n// Listen for the clearing of the current output cell\nvar outputEl = gd.closest('.output');\nif (outputEl) {{\n    x.observe(outputEl, {childList: true});\n}}\n\n                        })                };                });            </script>        </div>"
     },
     "metadata": {},
     "output_type": "display_data"
    }
   ],
   "source": [
    "# Create time-series figure\n",
    "time_series_fig = px.line(\n",
    "    submissions_raw_df.groupby(pd.Grouper(key='submission_date', freq='D')).size().reset_index(name='count'),\n",
    "    x='submission_date',\n",
    "    y='count',\n",
    "    title='Number of Daily Submissions',\n",
    "    height=LINEPLOT_HEIGHT,\n",
    "    markers=True,\n",
    "    labels={\n",
    "        'submission_date': 'Submission Date',\n",
    "        'count': 'Count'\n",
    "    },\n",
    ")\n",
    "time_series_fig.data[0].line.color = 'skyblue'\n",
    "time_series_fig.show()"
   ],
   "metadata": {
    "collapsed": false,
    "ExecuteTime": {
     "end_time": "2024-08-01T15:03:49.377760Z",
     "start_time": "2024-08-01T15:03:49.217605Z"
    }
   }
  },
  {
   "cell_type": "code",
   "execution_count": 254,
   "outputs": [],
   "source": [
    "# Create Annotations section\n",
    "annotations_section_status = html.Div([\n",
    "    html.H3(\"Annotations\", style={'font-weight': 'bold'}),\n",
    "    html.P(\"This plot shows the distribution of submissions by status for financing educational facilities. \"\n",
    "           \"The data is provided by the DREAM API. Below are the categories of submission status with their respective colors:\"),\n",
    "    html.Ul([\n",
    "        html.Li([html.Span(\"■ \", style={'color': PLOTLY_STATUS_BARPLOT_COLOR_MAP[\"approval\"]}), \"Approval - Submission has been approved.\"]),\n",
    "        html.Li([html.Span(\"■ \", style={'color': PLOTLY_STATUS_BARPLOT_COLOR_MAP[\"active\"]}), \"Active - Submission is currently active.\"]),\n",
    "        html.Li([html.Span(\"■ \", style={'color': PLOTLY_STATUS_BARPLOT_COLOR_MAP[\"pending\"]}), \"Pending - Submission is awaiting review.\"]),\n",
    "        html.Li([html.Span(\"■ \", style={'color': PLOTLY_STATUS_BARPLOT_COLOR_MAP[\"withdrawn\"]}), \"Withdrawn - Submission was withdrawn by the applicant.\"]),\n",
    "        html.Li([html.Span(\"■ \", style={'color': PLOTLY_STATUS_BARPLOT_COLOR_MAP[\"unsuccessful\"]}), \"Unsuccessful - Submission was not successful.\"]),\n",
    "        html.Li([html.Span(\"■ \", style={'color': PLOTLY_STATUS_BARPLOT_COLOR_MAP[\"declined\"]}), \"Declined - Submission was declined.\"])\n",
    "    ], style={'list-style-type': 'none', 'padding-left': '20px'}),\n",
    "    html.Div([\n",
    "    html.P(\"Moreover, we split the submissions by two groups as a gradation: from more successful, and green, like active (\", style={'display': 'inline'}),\n",
    "    html.Span('■', style={'color': PLOTLY_STATUS_BARPLOT_COLOR_MAP['approval'], 'display': 'inline'}),\n",
    "    html.P(\") to more red, as for example declined: (\", style={'display': 'inline'}),\n",
    "    html.Span('■', style={'color': PLOTLY_STATUS_BARPLOT_COLOR_MAP['declined'], 'display': 'inline'}),\n",
    "    html.P(\")\", style={'display': 'inline'})\n",
    "]),\n",
    "], style={'color': 'white', 'font-family': 'Arial', 'font-size': '14px', 'padding': '20px', 'background-color': 'black', 'position': 'relative'})\n",
    "annotations_section_classification = html.Div([\n",
    "    html.H3(\"Annotations\", style={'font-weight': 'bold'}),\n",
    "    html.P(\"This plot shows the distribution of submissions by type for financing educational facilities. \"\n",
    "           \"The data is provided by the DREAM API. Below are the categories of submission type with their respective colors:\"),\n",
    "    html.Ul([\n",
    "        html.Li([html.Span(\"■ \", style={'color': PLOTLY_ITEM_CLASSIFICATION_COLOR_MAP[\"kitchen\"]}), \"Kitchen - Submission for kitchen facilities.\"]),\n",
    "        html.Li([html.Span(\"■ \", style={'color': PLOTLY_ITEM_CLASSIFICATION_COLOR_MAP[\"shelter\"]}), \"Shelter - Submission for shelter facilities.\"])\n",
    "    ], style={'list-style-type': 'none', 'padding-left': '20px'}),\n",
    "], style={'color': 'white', 'font-family': 'Arial', 'font-size': '14px', 'padding': '20px', 'background-color': 'black', 'position': 'relative'})\n"
   ],
   "metadata": {
    "collapsed": false,
    "ExecuteTime": {
     "end_time": "2024-08-01T15:03:49.386566Z",
     "start_time": "2024-08-01T15:03:49.314956Z"
    }
   }
  },
  {
   "cell_type": "code",
   "execution_count": 255,
   "outputs": [
    {
     "data": {
      "text/plain": "<IPython.lib.display.IFrame at 0x136a5f860>",
      "text/html": "\n        <iframe\n            width=\"100%\"\n            height=\"650\"\n            src=\"http://127.0.0.1:8051/\"\n            frameborder=\"0\"\n            allowfullscreen\n            \n        ></iframe>\n        "
     },
     "metadata": {},
     "output_type": "display_data"
    }
   ],
   "source": [
    "def adjust_color(color, alpha=50):\n",
    "    \"\"\"Adjust alpha of given color.\"\"\"\n",
    "\n",
    "    return color[:3] + [alpha]\n",
    "\n",
    "# Create the Dash app\n",
    "app = dash.Dash(__name__, external_stylesheets=[dbc.themes.BOOTSTRAP])\n",
    "\n",
    "# Define App Layout\n",
    "app.layout = dbc.Container([\n",
    "    dbc.Row([\n",
    "        dbc.Col([\n",
    "            html.Div([\n",
    "                html.H1(\"DREAM Dashboard\"),\n",
    "                html.H3(\"Submissions Grouped by Region\"),\n",
    "                html.Hr(),\n",
    "            ], style={'background-color': 'black', 'color': 'white', 'padding-left': '20px', 'padding-top': '10px'}),\n",
    "        ], md=12),\n",
    "        dbc.Col([\n",
    "            html.Div([\n",
    "                html.H4(\"Select Group By Option:\", style={\"color\": \"white\"}),\n",
    "                dcc.Dropdown(\n",
    "                    id='groupby-dropdown',\n",
    "                    options=[\n",
    "                        {'label': 'Item Classification', 'value': 'item_classification'},\n",
    "                        {'label': 'Submission Status', 'value': 'submission_status'},\n",
    "                    ],\n",
    "                    value='item_classification',\n",
    "                    clearable=False,\n",
    "                ),\n",
    "            ], style={'background-color': 'black', 'color': 'black', 'padding-left': '20px'}),\n",
    "            # Annotations\n",
    "            html.Div(id='annotations-container'),\n",
    "        ], md=5),\n",
    "        dbc.Col([\n",
    "            # BarPlot\n",
    "            dcc.Graph(id='barplot'),\n",
    "        ], md=7),\n",
    "        dbc.Col([\n",
    "            html.Div(\n",
    "                deck_component,\n",
    "                #style={'width': '100%', 'height': '10vh'}\n",
    "            )\n",
    "        ], md=12),\n",
    "        dbc.Col([\n",
    "            # Time-Series Selector\n",
    "            dcc.Graph(figure=time_series_fig),\n",
    "        ], md=12),\n",
    "    ])\n",
    "], fluid=True, style={\"background-color\": \"black\"})\n",
    "\n",
    "@app.callback(\n",
    "    [Output('annotations-container', 'children'),\n",
    "     Output('barplot', 'figure')],\n",
    "    [Input('groupby-dropdown', 'value')]\n",
    ")\n",
    "def update_layout(group_by):\n",
    "    if group_by == 'item_classification':\n",
    "        annotations = annotations_section_classification\n",
    "\n",
    "        # Prepare Bar Plot for Item Classification\n",
    "        item_classification_counts = submissions_golden_df['item_classification'].value_counts().reset_index()\n",
    "        item_classification_counts.columns = ['item_classification', 'count']\n",
    "\n",
    "        # Create the bar plot\n",
    "        fig = px.bar(\n",
    "            item_classification_counts,\n",
    "            x='item_classification',\n",
    "            y='count',\n",
    "            title='Distribution of Submissions by Item Classification',\n",
    "            labels={\n",
    "                'item_classification': 'Item Classification',\n",
    "                'count': 'Count'\n",
    "            },\n",
    "            color='item_classification',\n",
    "            color_discrete_map={\n",
    "                'kitchen': 'rgb(124, 198, 116)',\n",
    "                'shelter': 'rgb(115, 197, 197)'\n",
    "            },\n",
    "            height=BARPLOT_HEIGHT,\n",
    "            template='plotly_dark',\n",
    "        )\n",
    "        fig.update_layout(\n",
    "            legend_title_text='Item Classification',\n",
    "            legend=dict(\n",
    "                x=1.05,\n",
    "                y=1,\n",
    "                traceorder='normal',\n",
    "                bgcolor='rgba(255, 255, 255, 0)',\n",
    "                bordercolor='rgba(255, 255, 255, 0)'\n",
    "            ),\n",
    "            margin=dict(r=150),\n",
    "            font=dict(\n",
    "                family=\"Helvetica\",\n",
    "                size=14,\n",
    "                color=\"white\"\n",
    "            )\n",
    "        )\n",
    "\n",
    "    elif group_by == 'submission_status':\n",
    "        annotations = annotations_section_status\n",
    "\n",
    "        # Prepare Bar Plot for Submission Status\n",
    "        status_counts = submissions_golden_df['submission_status'].value_counts().reset_index()\n",
    "        status_counts.columns = ['submission_status', 'count']\n",
    "\n",
    "        # Create the bar plot\n",
    "        fig = px.bar(\n",
    "            status_counts,\n",
    "            x='submission_status',\n",
    "            y='count',\n",
    "            title='Distribution of Submissions by Status',\n",
    "            labels={\n",
    "                'submission_status': 'Submission Status',\n",
    "                'count': 'Count'\n",
    "            },\n",
    "            color='submission_status',\n",
    "            color_discrete_map=PLOTLY_STATUS_BARPLOT_COLOR_MAP,\n",
    "            height=BARPLOT_HEIGHT,\n",
    "            template='plotly_dark',\n",
    "        )\n",
    "        fig.update_layout(\n",
    "            legend_title_text='Submission Status',\n",
    "            legend=dict(\n",
    "                x=1.05,\n",
    "                y=1,\n",
    "                traceorder='normal',\n",
    "                bgcolor='rgba(255, 255, 255, 0)',\n",
    "                bordercolor='rgba(255, 255, 255, 0)'\n",
    "            ),\n",
    "            margin=dict(r=150),\n",
    "            font=dict(\n",
    "                family=\"Helvetica\",\n",
    "                size=14,\n",
    "                color=\"white\"\n",
    "            )\n",
    "        )\n",
    "\n",
    "    return annotations, fig\n",
    "\n",
    "@app.callback(\n",
    "Output('deck-gl', 'data'),\n",
    "Input('groupby-dropdown', 'value')\n",
    ")\n",
    "def update_map(group_by):\n",
    "    if group_by == 'item_classification':\n",
    "        lat_col = f'latitude_grid_{group_by}'\n",
    "        long_col = f'longitude_grid_{group_by}'\n",
    "        grouped_df = submissions_golden_df.groupby(\n",
    "            ['initiator_region', group_by],\n",
    "            as_index=False\n",
    "        ).agg({\n",
    "            'number_of_submissions': 'count',\n",
    "            lat_col: 'first',\n",
    "            long_col: 'first',\n",
    "            'color': 'first'\n",
    "        })\n",
    "        color_map = PYDECK_ITEM_CLASSIFICATION_COLOR_MAP\n",
    "        grouped_df['color'] = grouped_df.apply(\n",
    "            lambda row: adjust_color(\n",
    "                color_map[row['item_classification']],\n",
    "                alpha=75\n",
    "            ) if row['number_of_submissions'] == 0 else color_map[row['item_classification']],\n",
    "            axis=1\n",
    "        )\n",
    "\n",
    "    elif group_by == 'submission_status':\n",
    "        lat_col = f'latitude_grid_{group_by}'\n",
    "        long_col = f'longitude_grid_{group_by}'\n",
    "        grouped_df = submissions_golden_df.groupby(\n",
    "        ['initiator_region', group_by],\n",
    "        as_index=False\n",
    "        ).agg({\n",
    "        'number_of_submissions': 'count',\n",
    "        lat_col: 'first',\n",
    "        long_col: 'first',\n",
    "        'color': 'first'\n",
    "        })\n",
    "        color_map = PYDECK_STATUS_MAP_COLOR_MAP\n",
    "        grouped_df['color'] = grouped_df.apply(\n",
    "            lambda row: adjust_color(\n",
    "                color_map[row['submission_status']],\n",
    "                alpha=75\n",
    "            ) if row['number_of_submissions'] == 0 else color_map[row['submission_status']],\n",
    "            axis=1\n",
    "        )\n",
    "\n",
    "    grouped_df = grouped_df.loc[:, [\n",
    "        \"initiator_region\",\n",
    "        \"number_of_submissions\",\n",
    "        \"color\",\n",
    "        lat_col,\n",
    "        long_col\n",
    "    ] + [group_by]].dropna()\n",
    "    grouped_df.loc[:, \"tooltip_title\"] = group_by.replace(\"_\", \" \").title()\n",
    "    grouped_df.loc[:, \"tooltip_category\"] = grouped_df.loc[:, group_by].str.title()\n",
    "\n",
    "    # Create the layer\n",
    "    layer = pdk.Layer(\n",
    "        'ColumnLayer',\n",
    "        elevation_scale=5000,\n",
    "        data=grouped_df,\n",
    "        get_position=[long_col, lat_col],\n",
    "        get_fill_color='color',\n",
    "        get_elevation=\"number_of_submissions\",\n",
    "        radius=800,\n",
    "        radius_scale=3000,\n",
    "        radius_min_pixels=1,\n",
    "        radius_max_pixels=500,\n",
    "        pickable=True,\n",
    "        auto_highlight=True,\n",
    "        extruded=True,\n",
    "        coverage=7,\n",
    "        elevation_range=[0, 5000],\n",
    "        tooltip=tooltip,\n",
    "    )\n",
    "\n",
    "    deck = pdk.Deck(\n",
    "        layers=[layer, geojson_layer],\n",
    "        initial_view_state=view_state,\n",
    "        tooltip=tooltip,\n",
    "        map_style='mapbox://styles/mapbox/dark-v10',\n",
    "    )\n",
    "\n",
    "    return deck.to_json()\n",
    "\n",
    "if __name__ == '__main__':\n",
    "    app.run_server(debug=True, port=8051)"
   ],
   "metadata": {
    "collapsed": false,
    "ExecuteTime": {
     "end_time": "2024-08-01T15:03:50.051921Z",
     "start_time": "2024-08-01T15:03:49.365226Z"
    }
   }
  },
  {
   "cell_type": "code",
   "execution_count": 256,
   "outputs": [
    {
     "data": {
      "text/plain": "Empty DataFrame\nColumns: [initiator_region, item_classification, submission_status, number_of_submissions, latitude, longitude, latitude_grid_item_classification, longitude_grid_item_classification, color, latitude_grid_submission_status, longitude_grid_submission_status]\nIndex: []",
      "text/html": "<div>\n<style scoped>\n    .dataframe tbody tr th:only-of-type {\n        vertical-align: middle;\n    }\n\n    .dataframe tbody tr th {\n        vertical-align: top;\n    }\n\n    .dataframe thead th {\n        text-align: right;\n    }\n</style>\n<table border=\"1\" class=\"dataframe\">\n  <thead>\n    <tr style=\"text-align: right;\">\n      <th></th>\n      <th>initiator_region</th>\n      <th>item_classification</th>\n      <th>submission_status</th>\n      <th>number_of_submissions</th>\n      <th>latitude</th>\n      <th>longitude</th>\n      <th>latitude_grid_item_classification</th>\n      <th>longitude_grid_item_classification</th>\n      <th>color</th>\n      <th>latitude_grid_submission_status</th>\n      <th>longitude_grid_submission_status</th>\n    </tr>\n  </thead>\n  <tbody>\n  </tbody>\n</table>\n</div>"
     },
     "execution_count": 256,
     "metadata": {},
     "output_type": "execute_result"
    }
   ],
   "source": [
    "submissions_golden_df.loc[submissions_golden_df.loc[:, \"initiator_region\"] == \"Херсонська\"]"
   ],
   "metadata": {
    "collapsed": false,
    "ExecuteTime": {
     "end_time": "2024-08-01T15:03:50.106249Z",
     "start_time": "2024-08-01T15:03:50.061272Z"
    }
   }
  },
  {
   "cell_type": "code",
   "execution_count": 257,
   "outputs": [
    {
     "data": {
      "text/plain": "    initiator_region submission_status  number_of_submissions  \\\n0           Cherkasy            active                      1   \n1           Cherkasy          approval                      1   \n2           Cherkasy          declined                      1   \n3           Cherkasy           pending                      4   \n4           Cherkasy      unsuccessful                      1   \n..               ...               ...                    ...   \n127         Zhytomyr          approval                      2   \n128         Zhytomyr          declined                      1   \n129         Zhytomyr           pending                      3   \n130         Zhytomyr      unsuccessful                      1   \n131         Zhytomyr         withdrawn                      2   \n\n     latitude_grid_item_classification  longitude_grid_item_classification  \n0                                  NaN                                 NaN  \n1                                  NaN                                 NaN  \n2                                  NaN                                 NaN  \n3                            49.604433                           31.899767  \n4                                  NaN                                 NaN  \n..                                 ...                                 ...  \n127                          50.414650                           28.498667  \n128                                NaN                                 NaN  \n129                          50.414650                           28.498667  \n130                                NaN                                 NaN  \n131                          50.414650                           28.498667  \n\n[132 rows x 5 columns]",
      "text/html": "<div>\n<style scoped>\n    .dataframe tbody tr th:only-of-type {\n        vertical-align: middle;\n    }\n\n    .dataframe tbody tr th {\n        vertical-align: top;\n    }\n\n    .dataframe thead th {\n        text-align: right;\n    }\n</style>\n<table border=\"1\" class=\"dataframe\">\n  <thead>\n    <tr style=\"text-align: right;\">\n      <th></th>\n      <th>initiator_region</th>\n      <th>submission_status</th>\n      <th>number_of_submissions</th>\n      <th>latitude_grid_item_classification</th>\n      <th>longitude_grid_item_classification</th>\n    </tr>\n  </thead>\n  <tbody>\n    <tr>\n      <th>0</th>\n      <td>Cherkasy</td>\n      <td>active</td>\n      <td>1</td>\n      <td>NaN</td>\n      <td>NaN</td>\n    </tr>\n    <tr>\n      <th>1</th>\n      <td>Cherkasy</td>\n      <td>approval</td>\n      <td>1</td>\n      <td>NaN</td>\n      <td>NaN</td>\n    </tr>\n    <tr>\n      <th>2</th>\n      <td>Cherkasy</td>\n      <td>declined</td>\n      <td>1</td>\n      <td>NaN</td>\n      <td>NaN</td>\n    </tr>\n    <tr>\n      <th>3</th>\n      <td>Cherkasy</td>\n      <td>pending</td>\n      <td>4</td>\n      <td>49.604433</td>\n      <td>31.899767</td>\n    </tr>\n    <tr>\n      <th>4</th>\n      <td>Cherkasy</td>\n      <td>unsuccessful</td>\n      <td>1</td>\n      <td>NaN</td>\n      <td>NaN</td>\n    </tr>\n    <tr>\n      <th>...</th>\n      <td>...</td>\n      <td>...</td>\n      <td>...</td>\n      <td>...</td>\n      <td>...</td>\n    </tr>\n    <tr>\n      <th>127</th>\n      <td>Zhytomyr</td>\n      <td>approval</td>\n      <td>2</td>\n      <td>50.414650</td>\n      <td>28.498667</td>\n    </tr>\n    <tr>\n      <th>128</th>\n      <td>Zhytomyr</td>\n      <td>declined</td>\n      <td>1</td>\n      <td>NaN</td>\n      <td>NaN</td>\n    </tr>\n    <tr>\n      <th>129</th>\n      <td>Zhytomyr</td>\n      <td>pending</td>\n      <td>3</td>\n      <td>50.414650</td>\n      <td>28.498667</td>\n    </tr>\n    <tr>\n      <th>130</th>\n      <td>Zhytomyr</td>\n      <td>unsuccessful</td>\n      <td>1</td>\n      <td>NaN</td>\n      <td>NaN</td>\n    </tr>\n    <tr>\n      <th>131</th>\n      <td>Zhytomyr</td>\n      <td>withdrawn</td>\n      <td>2</td>\n      <td>50.414650</td>\n      <td>28.498667</td>\n    </tr>\n  </tbody>\n</table>\n<p>132 rows × 5 columns</p>\n</div>"
     },
     "execution_count": 257,
     "metadata": {},
     "output_type": "execute_result"
    }
   ],
   "source": [
    "group_by = \"submission_status\"\n",
    "lat_col = \"latitude_grid_item_classification\"\n",
    "long_col = \"longitude_grid_item_classification\"\n",
    "\n",
    "submissions_golden_df.groupby(\n",
    "            ['initiator_region', group_by],\n",
    "            as_index=False\n",
    "            ).agg({\n",
    "            'number_of_submissions': 'count',\n",
    "            lat_col: 'first',\n",
    "            long_col: 'first',\n",
    "        })"
   ],
   "metadata": {
    "collapsed": false,
    "ExecuteTime": {
     "end_time": "2024-08-01T15:03:50.185007Z",
     "start_time": "2024-08-01T15:03:50.110478Z"
    }
   }
  },
  {
   "cell_type": "code",
   "execution_count": 258,
   "outputs": [
    {
     "data": {
      "text/plain": "Empty DataFrame\nColumns: [initiator_region, item_classification, submission_status, number_of_submissions, latitude, longitude, latitude_grid_item_classification, longitude_grid_item_classification, color, latitude_grid_submission_status, longitude_grid_submission_status]\nIndex: []",
      "text/html": "<div>\n<style scoped>\n    .dataframe tbody tr th:only-of-type {\n        vertical-align: middle;\n    }\n\n    .dataframe tbody tr th {\n        vertical-align: top;\n    }\n\n    .dataframe thead th {\n        text-align: right;\n    }\n</style>\n<table border=\"1\" class=\"dataframe\">\n  <thead>\n    <tr style=\"text-align: right;\">\n      <th></th>\n      <th>initiator_region</th>\n      <th>item_classification</th>\n      <th>submission_status</th>\n      <th>number_of_submissions</th>\n      <th>latitude</th>\n      <th>longitude</th>\n      <th>latitude_grid_item_classification</th>\n      <th>longitude_grid_item_classification</th>\n      <th>color</th>\n      <th>latitude_grid_submission_status</th>\n      <th>longitude_grid_submission_status</th>\n    </tr>\n  </thead>\n  <tbody>\n  </tbody>\n</table>\n</div>"
     },
     "execution_count": 258,
     "metadata": {},
     "output_type": "execute_result"
    }
   ],
   "source": [
    "submissions_golden_df.loc[submissions_golden_df.loc[:, 'initiator_region'] == 'Рівненська']"
   ],
   "metadata": {
    "collapsed": false,
    "ExecuteTime": {
     "end_time": "2024-08-01T15:03:50.351158Z",
     "start_time": "2024-08-01T15:03:50.179919Z"
    }
   }
  }
 ],
 "metadata": {
  "kernelspec": {
   "display_name": "Python 3",
   "language": "python",
   "name": "python3"
  },
  "language_info": {
   "codemirror_mode": {
    "name": "ipython",
    "version": 2
   },
   "file_extension": ".py",
   "mimetype": "text/x-python",
   "name": "python",
   "nbconvert_exporter": "python",
   "pygments_lexer": "ipython2",
   "version": "2.7.6"
  }
 },
 "nbformat": 4,
 "nbformat_minor": 0
}
