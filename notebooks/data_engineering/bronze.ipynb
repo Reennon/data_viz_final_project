{
 "cells": [
  {
   "cell_type": "code",
   "execution_count": 1,
   "metadata": {
    "collapsed": true,
    "ExecuteTime": {
     "end_time": "2024-08-01T07:16:03.714395Z",
     "start_time": "2024-08-01T07:16:02.944067Z"
    }
   },
   "outputs": [],
   "source": [
    "# Define Imports\n",
    "import os\n",
    "import googlemaps\n",
    "import pandas as pd\n",
    "import plotly.express as px\n",
    "import dash_bootstrap_components as dbc\n",
    "import pydeck as pdk\n",
    "from dash import Dash, dcc, html\n",
    "from dotenv import load_dotenv"
   ]
  },
  {
   "cell_type": "code",
   "execution_count": 2,
   "outputs": [
    {
     "data": {
      "text/plain": "   submission_code              submission_date submission_status  \\\n0  010624-040A8668  2024-06-01T17:36:27.658298Z           pending   \n1  020624-2C34FAB7  2024-06-02T16:32:18.130273Z           pending   \n2  020624-9F163A6A  2024-06-02T18:06:32.388695Z           pending   \n3  020624-D8610EBB  2024-06-02T17:09:51.508281Z           pending   \n4  020624-E1B2F3B0  2024-06-02T16:20:55.533024Z           pending   \n\n    submission_description initiator_id  \\\n0  Харчоблок базової кухні      4394869   \n1                харчоблок      2146222   \n2                харчоблок      2146222   \n3                харчоблок      2146222   \n4                харчоблок      2146222   \n\n                                 initiator_legalname  \\\n0                      ВЕЛИКОБІРКІВСЬКА СЕЛИЩНА РАДА   \n1  УПРАВЛІННЯ ОСВІТИ, МОЛОДІ ТА СПОРТУ ЛОЗІВСЬКОЇ...   \n2  УПРАВЛІННЯ ОСВІТИ, МОЛОДІ ТА СПОРТУ ЛОЗІВСЬКОЇ...   \n3  УПРАВЛІННЯ ОСВІТИ, МОЛОДІ ТА СПОРТУ ЛОЗІВСЬКОЇ...   \n4  УПРАВЛІННЯ ОСВІТИ, МОЛОДІ ТА СПОРТУ ЛОЗІВСЬКОЇ...   \n\n                                   initiator_address initiator_region  \\\n0  Тернопільська обл., Тернопільський р-н, селище...    Тернопільська   \n1  Харківська обл., місто Лозова, МІКРОРАЙОН 1, б...       Харківська   \n2  Харківська обл., місто Лозова, МІКРОРАЙОН 1, б...       Харківська   \n3  Харківська обл., місто Лозова, МІКРОРАЙОН 1, б...       Харківська   \n4  Харківська обл., місто Лозова, МІКРОРАЙОН 1, б...       Харківська   \n\n   item_amount item_classification  \n0    3967203.0             kitchen  \n1    9607874.0             kitchen  \n2   16569763.0             kitchen  \n3   20051019.0             kitchen  \n4   16166182.0             kitchen  ",
      "text/html": "<div>\n<style scoped>\n    .dataframe tbody tr th:only-of-type {\n        vertical-align: middle;\n    }\n\n    .dataframe tbody tr th {\n        vertical-align: top;\n    }\n\n    .dataframe thead th {\n        text-align: right;\n    }\n</style>\n<table border=\"1\" class=\"dataframe\">\n  <thead>\n    <tr style=\"text-align: right;\">\n      <th></th>\n      <th>submission_code</th>\n      <th>submission_date</th>\n      <th>submission_status</th>\n      <th>submission_description</th>\n      <th>initiator_id</th>\n      <th>initiator_legalname</th>\n      <th>initiator_address</th>\n      <th>initiator_region</th>\n      <th>item_amount</th>\n      <th>item_classification</th>\n    </tr>\n  </thead>\n  <tbody>\n    <tr>\n      <th>0</th>\n      <td>010624-040A8668</td>\n      <td>2024-06-01T17:36:27.658298Z</td>\n      <td>pending</td>\n      <td>Харчоблок базової кухні</td>\n      <td>4394869</td>\n      <td>ВЕЛИКОБІРКІВСЬКА СЕЛИЩНА РАДА</td>\n      <td>Тернопільська обл., Тернопільський р-н, селище...</td>\n      <td>Тернопільська</td>\n      <td>3967203.0</td>\n      <td>kitchen</td>\n    </tr>\n    <tr>\n      <th>1</th>\n      <td>020624-2C34FAB7</td>\n      <td>2024-06-02T16:32:18.130273Z</td>\n      <td>pending</td>\n      <td>харчоблок</td>\n      <td>2146222</td>\n      <td>УПРАВЛІННЯ ОСВІТИ, МОЛОДІ ТА СПОРТУ ЛОЗІВСЬКОЇ...</td>\n      <td>Харківська обл., місто Лозова, МІКРОРАЙОН 1, б...</td>\n      <td>Харківська</td>\n      <td>9607874.0</td>\n      <td>kitchen</td>\n    </tr>\n    <tr>\n      <th>2</th>\n      <td>020624-9F163A6A</td>\n      <td>2024-06-02T18:06:32.388695Z</td>\n      <td>pending</td>\n      <td>харчоблок</td>\n      <td>2146222</td>\n      <td>УПРАВЛІННЯ ОСВІТИ, МОЛОДІ ТА СПОРТУ ЛОЗІВСЬКОЇ...</td>\n      <td>Харківська обл., місто Лозова, МІКРОРАЙОН 1, б...</td>\n      <td>Харківська</td>\n      <td>16569763.0</td>\n      <td>kitchen</td>\n    </tr>\n    <tr>\n      <th>3</th>\n      <td>020624-D8610EBB</td>\n      <td>2024-06-02T17:09:51.508281Z</td>\n      <td>pending</td>\n      <td>харчоблок</td>\n      <td>2146222</td>\n      <td>УПРАВЛІННЯ ОСВІТИ, МОЛОДІ ТА СПОРТУ ЛОЗІВСЬКОЇ...</td>\n      <td>Харківська обл., місто Лозова, МІКРОРАЙОН 1, б...</td>\n      <td>Харківська</td>\n      <td>20051019.0</td>\n      <td>kitchen</td>\n    </tr>\n    <tr>\n      <th>4</th>\n      <td>020624-E1B2F3B0</td>\n      <td>2024-06-02T16:20:55.533024Z</td>\n      <td>pending</td>\n      <td>харчоблок</td>\n      <td>2146222</td>\n      <td>УПРАВЛІННЯ ОСВІТИ, МОЛОДІ ТА СПОРТУ ЛОЗІВСЬКОЇ...</td>\n      <td>Харківська обл., місто Лозова, МІКРОРАЙОН 1, б...</td>\n      <td>Харківська</td>\n      <td>16166182.0</td>\n      <td>kitchen</td>\n    </tr>\n  </tbody>\n</table>\n</div>"
     },
     "execution_count": 2,
     "metadata": {},
     "output_type": "execute_result"
    }
   ],
   "source": [
    "# Read and explore raw data\n",
    "df = pd.read_csv(\"../../data/submissions.csv\")\n",
    "df.head()"
   ],
   "metadata": {
    "collapsed": false,
    "ExecuteTime": {
     "end_time": "2024-08-01T07:16:08.213239Z",
     "start_time": "2024-08-01T07:16:08.196865Z"
    }
   }
  },
  {
   "cell_type": "code",
   "execution_count": 3,
   "outputs": [
    {
     "data": {
      "text/plain": "True"
     },
     "execution_count": 3,
     "metadata": {},
     "output_type": "execute_result"
    }
   ],
   "source": [
    "# Load ENV variables\n",
    "load_dotenv(dotenv_path='../../.env')"
   ],
   "metadata": {
    "collapsed": false,
    "ExecuteTime": {
     "end_time": "2024-08-01T07:17:36.599671Z",
     "start_time": "2024-08-01T07:17:36.590874Z"
    }
   }
  },
  {
   "cell_type": "code",
   "execution_count": 4,
   "outputs": [],
   "source": [
    "# Get the Google Maps API key from the environment variables\n",
    "gmaps_api_key = os.getenv('GMAPS_API_KEY')\n",
    "\n",
    "# Initialize the Google Maps client with the API key\n",
    "gmaps = googlemaps.Client(key=gmaps_api_key)\n",
    "\n",
    "# Function to geocode an address\n",
    "def geocode_address(address):\n",
    "    try:\n",
    "        geocode_result = gmaps.geocode(address)\n",
    "        if geocode_result:\n",
    "            location = geocode_result[0]['geometry']['location']\n",
    "            return location['lat'], location['lng']\n",
    "        else:\n",
    "            return None, None\n",
    "    except Exception as e:\n",
    "        print(f\"Error geocoding {address}: {e}\")\n",
    "        return None, None"
   ],
   "metadata": {
    "collapsed": false,
    "ExecuteTime": {
     "end_time": "2024-08-01T07:17:37.802264Z",
     "start_time": "2024-08-01T07:17:37.793843Z"
    }
   }
  },
  {
   "cell_type": "code",
   "execution_count": 5,
   "outputs": [
    {
     "data": {
      "text/plain": "     initiator_region   latitude  longitude\n0   Івано-Франківська  48.920062  24.708916\n1           Волинська  50.747233  25.325383\n2           Вінницька  49.233083  28.468217\n3    Дніпропетровська  48.464717  35.046183\n4         Житомирська  50.254650  28.658667\n5        Закарпатська  48.620800  22.287883\n6          Запорізька  47.838800  35.139567\n7            Київська  50.052951  30.766713\n8      Кіровоградська  48.507933  32.262317\n9           Львівська  49.839683  24.029717\n10       Миколаївська  46.975033  31.994583\n11            Одеська  46.484583  30.732600\n12         Полтавська  49.588267  34.551417\n13         Рівненська  50.619900  26.251617\n14            Сумська        NaN        NaN\n15      Тернопільська  49.551044  25.595218\n16         Харківська  50.002013  36.307399\n17         Херсонська  46.635417  32.616867\n18        Хмельницька  49.422983  26.987133\n19          Черкаська  49.444433  32.059767\n20        Чернівецька  48.291683  25.935217\n21       Чернігівська  51.498200  31.289350",
      "text/html": "<div>\n<style scoped>\n    .dataframe tbody tr th:only-of-type {\n        vertical-align: middle;\n    }\n\n    .dataframe tbody tr th {\n        vertical-align: top;\n    }\n\n    .dataframe thead th {\n        text-align: right;\n    }\n</style>\n<table border=\"1\" class=\"dataframe\">\n  <thead>\n    <tr style=\"text-align: right;\">\n      <th></th>\n      <th>initiator_region</th>\n      <th>latitude</th>\n      <th>longitude</th>\n    </tr>\n  </thead>\n  <tbody>\n    <tr>\n      <th>0</th>\n      <td>Івано-Франківська</td>\n      <td>48.920062</td>\n      <td>24.708916</td>\n    </tr>\n    <tr>\n      <th>1</th>\n      <td>Волинська</td>\n      <td>50.747233</td>\n      <td>25.325383</td>\n    </tr>\n    <tr>\n      <th>2</th>\n      <td>Вінницька</td>\n      <td>49.233083</td>\n      <td>28.468217</td>\n    </tr>\n    <tr>\n      <th>3</th>\n      <td>Дніпропетровська</td>\n      <td>48.464717</td>\n      <td>35.046183</td>\n    </tr>\n    <tr>\n      <th>4</th>\n      <td>Житомирська</td>\n      <td>50.254650</td>\n      <td>28.658667</td>\n    </tr>\n    <tr>\n      <th>5</th>\n      <td>Закарпатська</td>\n      <td>48.620800</td>\n      <td>22.287883</td>\n    </tr>\n    <tr>\n      <th>6</th>\n      <td>Запорізька</td>\n      <td>47.838800</td>\n      <td>35.139567</td>\n    </tr>\n    <tr>\n      <th>7</th>\n      <td>Київська</td>\n      <td>50.052951</td>\n      <td>30.766713</td>\n    </tr>\n    <tr>\n      <th>8</th>\n      <td>Кіровоградська</td>\n      <td>48.507933</td>\n      <td>32.262317</td>\n    </tr>\n    <tr>\n      <th>9</th>\n      <td>Львівська</td>\n      <td>49.839683</td>\n      <td>24.029717</td>\n    </tr>\n    <tr>\n      <th>10</th>\n      <td>Миколаївська</td>\n      <td>46.975033</td>\n      <td>31.994583</td>\n    </tr>\n    <tr>\n      <th>11</th>\n      <td>Одеська</td>\n      <td>46.484583</td>\n      <td>30.732600</td>\n    </tr>\n    <tr>\n      <th>12</th>\n      <td>Полтавська</td>\n      <td>49.588267</td>\n      <td>34.551417</td>\n    </tr>\n    <tr>\n      <th>13</th>\n      <td>Рівненська</td>\n      <td>50.619900</td>\n      <td>26.251617</td>\n    </tr>\n    <tr>\n      <th>14</th>\n      <td>Сумська</td>\n      <td>NaN</td>\n      <td>NaN</td>\n    </tr>\n    <tr>\n      <th>15</th>\n      <td>Тернопільська</td>\n      <td>49.551044</td>\n      <td>25.595218</td>\n    </tr>\n    <tr>\n      <th>16</th>\n      <td>Харківська</td>\n      <td>50.002013</td>\n      <td>36.307399</td>\n    </tr>\n    <tr>\n      <th>17</th>\n      <td>Херсонська</td>\n      <td>46.635417</td>\n      <td>32.616867</td>\n    </tr>\n    <tr>\n      <th>18</th>\n      <td>Хмельницька</td>\n      <td>49.422983</td>\n      <td>26.987133</td>\n    </tr>\n    <tr>\n      <th>19</th>\n      <td>Черкаська</td>\n      <td>49.444433</td>\n      <td>32.059767</td>\n    </tr>\n    <tr>\n      <th>20</th>\n      <td>Чернівецька</td>\n      <td>48.291683</td>\n      <td>25.935217</td>\n    </tr>\n    <tr>\n      <th>21</th>\n      <td>Чернігівська</td>\n      <td>51.498200</td>\n      <td>31.289350</td>\n    </tr>\n  </tbody>\n</table>\n</div>"
     },
     "execution_count": 5,
     "metadata": {},
     "output_type": "execute_result"
    }
   ],
   "source": [
    "# Geocode Regions in Dataset to have Lat and Long\n",
    "regions = pd.DataFrame(df.groupby('initiator_region', as_index=False).first()['initiator_region'])\n",
    "regions[['latitude', 'longitude']] = regions['initiator_region'].apply(lambda x: pd.Series(geocode_address(x)))\n",
    "regions"
   ],
   "metadata": {
    "collapsed": false,
    "ExecuteTime": {
     "end_time": "2024-08-01T07:17:46.518194Z",
     "start_time": "2024-08-01T07:17:40.276140Z"
    }
   }
  },
  {
   "cell_type": "code",
   "execution_count": null,
   "outputs": [],
   "source": [
    "# Save geocoded Regions\n",
    "regions.to_csv(\"../../data/regions_geocoded.csv\", index=False)"
   ],
   "metadata": {
    "collapsed": false
   }
  }
 ],
 "metadata": {
  "kernelspec": {
   "display_name": "Python 3",
   "language": "python",
   "name": "python3"
  },
  "language_info": {
   "codemirror_mode": {
    "name": "ipython",
    "version": 2
   },
   "file_extension": ".py",
   "mimetype": "text/x-python",
   "name": "python",
   "nbconvert_exporter": "python",
   "pygments_lexer": "ipython2",
   "version": "2.7.6"
  }
 },
 "nbformat": 4,
 "nbformat_minor": 0
}
