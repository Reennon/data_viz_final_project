{
 "cells": [
  {
   "cell_type": "code",
   "execution_count": 2,
   "outputs": [],
   "source": [
    "# Define Imports\n",
    "import os\n",
    "import googlemaps\n",
    "import pandas as pd\n",
    "import plotly.express as px\n",
    "import dash_bootstrap_components as dbc\n",
    "import pydeck as pdk\n",
    "from dash import Dash, dcc, html\n",
    "from dotenv import load_dotenv\n",
    "import numpy as np"
   ],
   "metadata": {
    "collapsed": false,
    "ExecuteTime": {
     "end_time": "2024-08-01T07:28:16.823250Z",
     "start_time": "2024-08-01T07:28:16.038288Z"
    }
   }
  },
  {
   "cell_type": "code",
   "execution_count": 2,
   "outputs": [
    {
     "data": {
      "text/plain": "True"
     },
     "execution_count": 2,
     "metadata": {},
     "output_type": "execute_result"
    }
   ],
   "source": [
    "# Load ENV variables\n",
    "load_dotenv(dotenv_path='../../.env')"
   ],
   "metadata": {
    "collapsed": false
   }
  },
  {
   "cell_type": "code",
   "execution_count": 3,
   "outputs": [
    {
     "data": {
      "text/plain": "     initiator_region item_classification submission_status  \\\n0           Львівська             kitchen           pending   \n1      Кіровоградська             kitchen           pending   \n2          Харківська             shelter          approval   \n3            Київська             kitchen           pending   \n4             Одеська             kitchen           pending   \n..                ...                 ...               ...   \n75          Львівська             kitchen          declined   \n76  Івано-Франківська             kitchen          approval   \n77        Житомирська             kitchen          approval   \n78           Київська             kitchen          approval   \n79      Тернопільська             kitchen          approval   \n\n    number_of_submissions   latitude  longitude  \n0                      21  49.839683  24.029717  \n1                      17  48.507933  32.262317  \n2                      16  50.002013  36.307399  \n3                      16  50.052951  30.766713  \n4                      16  46.484583  30.732600  \n..                    ...        ...        ...  \n75                      1  49.839683  24.029717  \n76                      1  48.920062  24.708916  \n77                      1  50.254650  28.658667  \n78                      1  50.052951  30.766713  \n79                      1  49.551044  25.595218  \n\n[80 rows x 6 columns]",
      "text/html": "<div>\n<style scoped>\n    .dataframe tbody tr th:only-of-type {\n        vertical-align: middle;\n    }\n\n    .dataframe tbody tr th {\n        vertical-align: top;\n    }\n\n    .dataframe thead th {\n        text-align: right;\n    }\n</style>\n<table border=\"1\" class=\"dataframe\">\n  <thead>\n    <tr style=\"text-align: right;\">\n      <th></th>\n      <th>initiator_region</th>\n      <th>item_classification</th>\n      <th>submission_status</th>\n      <th>number_of_submissions</th>\n      <th>latitude</th>\n      <th>longitude</th>\n    </tr>\n  </thead>\n  <tbody>\n    <tr>\n      <th>0</th>\n      <td>Львівська</td>\n      <td>kitchen</td>\n      <td>pending</td>\n      <td>21</td>\n      <td>49.839683</td>\n      <td>24.029717</td>\n    </tr>\n    <tr>\n      <th>1</th>\n      <td>Кіровоградська</td>\n      <td>kitchen</td>\n      <td>pending</td>\n      <td>17</td>\n      <td>48.507933</td>\n      <td>32.262317</td>\n    </tr>\n    <tr>\n      <th>2</th>\n      <td>Харківська</td>\n      <td>shelter</td>\n      <td>approval</td>\n      <td>16</td>\n      <td>50.002013</td>\n      <td>36.307399</td>\n    </tr>\n    <tr>\n      <th>3</th>\n      <td>Київська</td>\n      <td>kitchen</td>\n      <td>pending</td>\n      <td>16</td>\n      <td>50.052951</td>\n      <td>30.766713</td>\n    </tr>\n    <tr>\n      <th>4</th>\n      <td>Одеська</td>\n      <td>kitchen</td>\n      <td>pending</td>\n      <td>16</td>\n      <td>46.484583</td>\n      <td>30.732600</td>\n    </tr>\n    <tr>\n      <th>...</th>\n      <td>...</td>\n      <td>...</td>\n      <td>...</td>\n      <td>...</td>\n      <td>...</td>\n      <td>...</td>\n    </tr>\n    <tr>\n      <th>75</th>\n      <td>Львівська</td>\n      <td>kitchen</td>\n      <td>declined</td>\n      <td>1</td>\n      <td>49.839683</td>\n      <td>24.029717</td>\n    </tr>\n    <tr>\n      <th>76</th>\n      <td>Івано-Франківська</td>\n      <td>kitchen</td>\n      <td>approval</td>\n      <td>1</td>\n      <td>48.920062</td>\n      <td>24.708916</td>\n    </tr>\n    <tr>\n      <th>77</th>\n      <td>Житомирська</td>\n      <td>kitchen</td>\n      <td>approval</td>\n      <td>1</td>\n      <td>50.254650</td>\n      <td>28.658667</td>\n    </tr>\n    <tr>\n      <th>78</th>\n      <td>Київська</td>\n      <td>kitchen</td>\n      <td>approval</td>\n      <td>1</td>\n      <td>50.052951</td>\n      <td>30.766713</td>\n    </tr>\n    <tr>\n      <th>79</th>\n      <td>Тернопільська</td>\n      <td>kitchen</td>\n      <td>approval</td>\n      <td>1</td>\n      <td>49.551044</td>\n      <td>25.595218</td>\n    </tr>\n  </tbody>\n</table>\n<p>80 rows × 6 columns</p>\n</div>"
     },
     "execution_count": 3,
     "metadata": {},
     "output_type": "execute_result"
    }
   ],
   "source": [
    "# Read Silver Submissions Dataset\n",
    "submissions_silver_df = pd.read_csv(\"../../data/submissions_silver.csv\")\n",
    "submissions_silver_df"
   ],
   "metadata": {
    "collapsed": false,
    "ExecuteTime": {
     "end_time": "2024-08-01T07:28:16.899707Z",
     "start_time": "2024-08-01T07:28:16.868898Z"
    }
   }
  },
  {
   "cell_type": "code",
   "execution_count": 6,
   "outputs": [
    {
     "data": {
      "text/plain": "   initiator_region item_classification submission_status  \\\n0         Львівська             kitchen           pending   \n32        Львівська             kitchen         withdrawn   \n38        Львівська             kitchen          approval   \n75        Львівська             kitchen          declined   \n0         Львівська             kitchen           pending   \n..              ...                 ...               ...   \n64     Закарпатська             shelter         withdrawn   \n49     Закарпатська             kitchen          approval   \n49     Закарпатська             kitchen          declined   \n49     Закарпатська             kitchen            active   \n49     Закарпатська             kitchen      unsuccessful   \n\n    number_of_submissions   latitude  longitude  \\\n0                      21  49.839683  24.029717   \n32                      5  49.839683  24.029717   \n38                      4  49.839683  24.029717   \n75                      1  49.839683  24.029717   \n0                      21  49.839683  24.029717   \n..                    ...        ...        ...   \n64                      1  48.620800  22.287883   \n49                      0  48.620800  22.287883   \n49                      0  48.620800  22.287883   \n49                      0  48.620800  22.287883   \n49                      0  48.620800  22.287883   \n\n    latitude_grid_item_classification  longitude_grid_item_classification  \\\n0                           49.999683                           23.869717   \n32                          49.999683                           23.869717   \n38                          49.999683                           23.869717   \n75                          49.999683                           23.869717   \n0                           49.999683                           23.869717   \n..                                ...                                 ...   \n64                                NaN                                 NaN   \n49                                NaN                                 NaN   \n49                                NaN                                 NaN   \n49                                NaN                                 NaN   \n49                                NaN                                 NaN   \n\n        color  latitude_grid_submission_status  \\\n0         NaN                              NaN   \n32        NaN                              NaN   \n38        NaN                              NaN   \n75        NaN                              NaN   \n0         NaN                        49.999683   \n..        ...                              ...   \n64        NaN                        48.780800   \n49  [0, 0, 0]                        48.780800   \n49  [0, 0, 0]                        48.780800   \n49  [0, 0, 0]                        48.780800   \n49  [0, 0, 0]                        48.780800   \n\n    longitude_grid_submission_status  \n0                                NaN  \n32                               NaN  \n38                               NaN  \n75                               NaN  \n0                          23.549717  \n..                               ...  \n64                         21.967883  \n49                         22.127883  \n49                         22.287883  \n49                         22.447883  \n49                         22.607883  \n\n[462 rows x 11 columns]",
      "text/html": "<div>\n<style scoped>\n    .dataframe tbody tr th:only-of-type {\n        vertical-align: middle;\n    }\n\n    .dataframe tbody tr th {\n        vertical-align: top;\n    }\n\n    .dataframe thead th {\n        text-align: right;\n    }\n</style>\n<table border=\"1\" class=\"dataframe\">\n  <thead>\n    <tr style=\"text-align: right;\">\n      <th></th>\n      <th>initiator_region</th>\n      <th>item_classification</th>\n      <th>submission_status</th>\n      <th>number_of_submissions</th>\n      <th>latitude</th>\n      <th>longitude</th>\n      <th>latitude_grid_item_classification</th>\n      <th>longitude_grid_item_classification</th>\n      <th>color</th>\n      <th>latitude_grid_submission_status</th>\n      <th>longitude_grid_submission_status</th>\n    </tr>\n  </thead>\n  <tbody>\n    <tr>\n      <th>0</th>\n      <td>Львівська</td>\n      <td>kitchen</td>\n      <td>pending</td>\n      <td>21</td>\n      <td>49.839683</td>\n      <td>24.029717</td>\n      <td>49.999683</td>\n      <td>23.869717</td>\n      <td>NaN</td>\n      <td>NaN</td>\n      <td>NaN</td>\n    </tr>\n    <tr>\n      <th>32</th>\n      <td>Львівська</td>\n      <td>kitchen</td>\n      <td>withdrawn</td>\n      <td>5</td>\n      <td>49.839683</td>\n      <td>24.029717</td>\n      <td>49.999683</td>\n      <td>23.869717</td>\n      <td>NaN</td>\n      <td>NaN</td>\n      <td>NaN</td>\n    </tr>\n    <tr>\n      <th>38</th>\n      <td>Львівська</td>\n      <td>kitchen</td>\n      <td>approval</td>\n      <td>4</td>\n      <td>49.839683</td>\n      <td>24.029717</td>\n      <td>49.999683</td>\n      <td>23.869717</td>\n      <td>NaN</td>\n      <td>NaN</td>\n      <td>NaN</td>\n    </tr>\n    <tr>\n      <th>75</th>\n      <td>Львівська</td>\n      <td>kitchen</td>\n      <td>declined</td>\n      <td>1</td>\n      <td>49.839683</td>\n      <td>24.029717</td>\n      <td>49.999683</td>\n      <td>23.869717</td>\n      <td>NaN</td>\n      <td>NaN</td>\n      <td>NaN</td>\n    </tr>\n    <tr>\n      <th>0</th>\n      <td>Львівська</td>\n      <td>kitchen</td>\n      <td>pending</td>\n      <td>21</td>\n      <td>49.839683</td>\n      <td>24.029717</td>\n      <td>49.999683</td>\n      <td>23.869717</td>\n      <td>NaN</td>\n      <td>49.999683</td>\n      <td>23.549717</td>\n    </tr>\n    <tr>\n      <th>...</th>\n      <td>...</td>\n      <td>...</td>\n      <td>...</td>\n      <td>...</td>\n      <td>...</td>\n      <td>...</td>\n      <td>...</td>\n      <td>...</td>\n      <td>...</td>\n      <td>...</td>\n      <td>...</td>\n    </tr>\n    <tr>\n      <th>64</th>\n      <td>Закарпатська</td>\n      <td>shelter</td>\n      <td>withdrawn</td>\n      <td>1</td>\n      <td>48.620800</td>\n      <td>22.287883</td>\n      <td>NaN</td>\n      <td>NaN</td>\n      <td>NaN</td>\n      <td>48.780800</td>\n      <td>21.967883</td>\n    </tr>\n    <tr>\n      <th>49</th>\n      <td>Закарпатська</td>\n      <td>kitchen</td>\n      <td>approval</td>\n      <td>0</td>\n      <td>48.620800</td>\n      <td>22.287883</td>\n      <td>NaN</td>\n      <td>NaN</td>\n      <td>[0, 0, 0]</td>\n      <td>48.780800</td>\n      <td>22.127883</td>\n    </tr>\n    <tr>\n      <th>49</th>\n      <td>Закарпатська</td>\n      <td>kitchen</td>\n      <td>declined</td>\n      <td>0</td>\n      <td>48.620800</td>\n      <td>22.287883</td>\n      <td>NaN</td>\n      <td>NaN</td>\n      <td>[0, 0, 0]</td>\n      <td>48.780800</td>\n      <td>22.287883</td>\n    </tr>\n    <tr>\n      <th>49</th>\n      <td>Закарпатська</td>\n      <td>kitchen</td>\n      <td>active</td>\n      <td>0</td>\n      <td>48.620800</td>\n      <td>22.287883</td>\n      <td>NaN</td>\n      <td>NaN</td>\n      <td>[0, 0, 0]</td>\n      <td>48.780800</td>\n      <td>22.447883</td>\n    </tr>\n    <tr>\n      <th>49</th>\n      <td>Закарпатська</td>\n      <td>kitchen</td>\n      <td>unsuccessful</td>\n      <td>0</td>\n      <td>48.620800</td>\n      <td>22.287883</td>\n      <td>NaN</td>\n      <td>NaN</td>\n      <td>[0, 0, 0]</td>\n      <td>48.780800</td>\n      <td>22.607883</td>\n    </tr>\n  </tbody>\n</table>\n<p>462 rows × 11 columns</p>\n</div>"
     },
     "execution_count": 6,
     "metadata": {},
     "output_type": "execute_result"
    }
   ],
   "source": [
    "# Add Data Augmentations Specific for the Plots\n",
    "# For instance, the function below will transform each sample's position\n",
    "#   so at the pydeck map it would look like a BarPlot.\n",
    "def create_vertical_bars(df, lat_col='latitude', long_col='longitude', step=0.001):\n",
    "    new_rows = []\n",
    "\n",
    "    # Determine unique values for each groupby option globally\n",
    "    unique_values = {\n",
    "        'item_classification': df['item_classification'].unique(),\n",
    "        'submission_status': df['submission_status'].unique()\n",
    "    }\n",
    "\n",
    "    for groupby, values in unique_values.items():\n",
    "        for region in df['initiator_region'].unique():\n",
    "            region_df = df[df['initiator_region'] == region]\n",
    "\n",
    "            # Calculate the initial offset to center the bar\n",
    "            n_points = len(values)\n",
    "            initial_offset = -(n_points // 2) * step\n",
    "\n",
    "            for i, value in enumerate(values):\n",
    "                relevant_rows = region_df[region_df[groupby] == value]\n",
    "\n",
    "                if relevant_rows.empty:\n",
    "                    # Create a placeholder row if the category is missing\n",
    "                    new_lat = region_df[lat_col].iloc[0] + step\n",
    "                    new_long = region_df[long_col].iloc[0] + initial_offset + i * step\n",
    "                    placeholder_row = region_df.iloc[0].copy()\n",
    "                    placeholder_row[groupby] = value\n",
    "                    placeholder_row[f'{lat_col}_grid_{groupby}'] = new_lat\n",
    "                    placeholder_row[f'{long_col}_grid_{groupby}'] = new_long\n",
    "                    placeholder_row['number_of_submissions'] = 0\n",
    "                    placeholder_row['color'] = [0, 0, 0]\n",
    "                    new_rows.append(placeholder_row)\n",
    "                else:\n",
    "                    for _, row in relevant_rows.iterrows():\n",
    "                        new_lat = row[lat_col] + step\n",
    "                        new_long = row[long_col] + initial_offset + i * step\n",
    "                        new_row = row.copy()\n",
    "                        new_row[f'{lat_col}_grid_{groupby}'] = new_lat\n",
    "                        new_row[f'{long_col}_grid_{groupby}'] = new_long\n",
    "                        new_rows.append(new_row)\n",
    "\n",
    "    return pd.DataFrame(new_rows)\n",
    "\n",
    "\n",
    "submissions_golden_df = create_vertical_bars(submissions_silver_df, step=0.2 * 0.8)\n",
    "submissions_golden_df"
   ],
   "metadata": {
    "collapsed": false,
    "ExecuteTime": {
     "end_time": "2024-08-01T07:32:46.614448Z",
     "start_time": "2024-08-01T07:32:46.565794Z"
    }
   }
  },
  {
   "cell_type": "code",
   "execution_count": 7,
   "outputs": [],
   "source": [
    "# Save Preprocessed Dataset\n",
    "submissions_golden_df.to_csv(\"../../data/submissions_golden.csv\", index=False)"
   ],
   "metadata": {
    "collapsed": false,
    "ExecuteTime": {
     "end_time": "2024-08-01T07:32:49.086911Z",
     "start_time": "2024-08-01T07:32:49.080483Z"
    }
   }
  }
 ],
 "metadata": {
  "kernelspec": {
   "display_name": "Python 3",
   "language": "python",
   "name": "python3"
  },
  "language_info": {
   "codemirror_mode": {
    "name": "ipython",
    "version": 2
   },
   "file_extension": ".py",
   "mimetype": "text/x-python",
   "name": "python",
   "nbconvert_exporter": "python",
   "pygments_lexer": "ipython2",
   "version": "2.7.6"
  }
 },
 "nbformat": 4,
 "nbformat_minor": 0
}
