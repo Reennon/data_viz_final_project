{
 "cells": [
  {
   "cell_type": "code",
   "execution_count": 1,
   "metadata": {
    "collapsed": true,
    "ExecuteTime": {
     "end_time": "2024-08-01T07:19:40.944108Z",
     "start_time": "2024-08-01T07:19:40.183656Z"
    }
   },
   "outputs": [],
   "source": [
    "# Define Imports\n",
    "import os\n",
    "import googlemaps\n",
    "import pandas as pd\n",
    "import plotly.express as px\n",
    "import dash_bootstrap_components as dbc\n",
    "import pydeck as pdk\n",
    "from dash import Dash, dcc, html\n",
    "from dotenv import load_dotenv\n",
    "import numpy as np"
   ]
  },
  {
   "cell_type": "code",
   "execution_count": 2,
   "outputs": [
    {
     "data": {
      "text/plain": "True"
     },
     "execution_count": 2,
     "metadata": {},
     "output_type": "execute_result"
    }
   ],
   "source": [
    "# Load ENV variables\n",
    "load_dotenv(dotenv_path='../../.env')"
   ],
   "metadata": {
    "collapsed": false,
    "ExecuteTime": {
     "end_time": "2024-08-01T07:19:40.944610Z",
     "start_time": "2024-08-01T07:19:40.926607Z"
    }
   }
  },
  {
   "cell_type": "code",
   "execution_count": 4,
   "outputs": [
    {
     "data": {
      "text/plain": "     submission_code              submission_date submission_status  \\\n0    010624-040A8668  2024-06-01T17:36:27.658298Z           pending   \n1    020624-2C34FAB7  2024-06-02T16:32:18.130273Z           pending   \n2    020624-9F163A6A  2024-06-02T18:06:32.388695Z           pending   \n3    020624-D8610EBB  2024-06-02T17:09:51.508281Z           pending   \n4    020624-E1B2F3B0  2024-06-02T16:20:55.533024Z           pending   \n..               ...                          ...               ...   \n483  310524-F8C525A4  2024-05-31T11:04:36.688246Z         withdrawn   \n484  310524-F9A91731  2024-05-31T15:20:47.521727Z          approval   \n485  310524-F9C0426D  2024-05-31T18:11:46.185941Z           pending   \n486  310524-FD0808D6  2024-05-31T11:34:02.120912Z         withdrawn   \n487  310524-FE2BD0D2  2024-05-31T13:15:55.786192Z           pending   \n\n                                submission_description initiator_id  \\\n0                              Харчоблок базової кухні      4394869   \n1                                            харчоблок      2146222   \n2                                            харчоблок      2146222   \n3                                            харчоблок      2146222   \n4                                            харчоблок      2146222   \n..                                                 ...          ...   \n483                    Харчоблок Сварицевицького ліцею     44153430   \n484  Капітальний ремонт харчоблоку (їдальні) ліцею ...     44084980   \n485  Капітальний ремонт харчоблоку Середньоберезівс...      4354255   \n486                      Капітальний ремонт харчоблоку      4412567   \n487  Харчоблок БОЛГРАДСЬКОГО ЛІЦЕЮ №2 БОЛГРАДСЬКОЇ ...      4057008   \n\n                                   initiator_legalname  \\\n0                        ВЕЛИКОБІРКІВСЬКА СЕЛИЩНА РАДА   \n1    УПРАВЛІННЯ ОСВІТИ, МОЛОДІ ТА СПОРТУ ЛОЗІВСЬКОЇ...   \n2    УПРАВЛІННЯ ОСВІТИ, МОЛОДІ ТА СПОРТУ ЛОЗІВСЬКОЇ...   \n3    УПРАВЛІННЯ ОСВІТИ, МОЛОДІ ТА СПОРТУ ЛОЗІВСЬКОЇ...   \n4    УПРАВЛІННЯ ОСВІТИ, МОЛОДІ ТА СПОРТУ ЛОЗІВСЬКОЇ...   \n..                                                 ...   \n483  ВІДДІЛ ОСВІТИ, КУЛЬТУРИ, ТУРИЗМУ, МОЛОДІ ТА СП...   \n484  ВІДДІЛ ОСВІТИ ПІДГОРОДНЕНСЬКОЇ МІСЬКОЇ РАДИ ДН...   \n485  ЯБЛУНІВСЬКА СЕЛИЩНА РАДА КОСІВСЬКОГО РАЙОНУ ІВ...   \n486                           ПОНОРНИЦЬКА СЕЛИЩНА РАДА   \n487           БОЛГРАДСЬКА МІСЬКА РАДА ОДЕСЬКОЇ ОБЛАСТІ   \n\n                                     initiator_address   initiator_region  \\\n0    Тернопільська обл., Тернопільський р-н, селище...      Тернопільська   \n1    Харківська обл., місто Лозова, МІКРОРАЙОН 1, б...         Харківська   \n2    Харківська обл., місто Лозова, МІКРОРАЙОН 1, б...         Харківська   \n3    Харківська обл., місто Лозова, МІКРОРАЙОН 1, б...         Харківська   \n4    Харківська обл., місто Лозова, МІКРОРАЙОН 1, б...         Харківська   \n..                                                 ...                ...   \n483  Рівненська обл., Дубровицький р-н, місто Дубро...         Рівненська   \n484  Дніпропетровська обл., Дніпровський р-н, місто...   Дніпропетровська   \n485  Івано-Франківська обл., Косівський р-н, селище...  Івано-Франківська   \n486  Чернігівська обл., Новгород-Сіверський р-н, се...       Чернігівська   \n487  Одеська обл., Болградський р-н, місто Болград,...            Одеська   \n\n     item_amount item_classification  \n0      3967203.0             kitchen  \n1      9607874.0             kitchen  \n2     16569763.0             kitchen  \n3     20051019.0             kitchen  \n4     16166182.0             kitchen  \n..           ...                 ...  \n483    8327800.0             kitchen  \n484   11745067.5             kitchen  \n485     870410.0             kitchen  \n486    3122988.0             kitchen  \n487    1908485.0             kitchen  \n\n[487 rows x 10 columns]",
      "text/html": "<div>\n<style scoped>\n    .dataframe tbody tr th:only-of-type {\n        vertical-align: middle;\n    }\n\n    .dataframe tbody tr th {\n        vertical-align: top;\n    }\n\n    .dataframe thead th {\n        text-align: right;\n    }\n</style>\n<table border=\"1\" class=\"dataframe\">\n  <thead>\n    <tr style=\"text-align: right;\">\n      <th></th>\n      <th>submission_code</th>\n      <th>submission_date</th>\n      <th>submission_status</th>\n      <th>submission_description</th>\n      <th>initiator_id</th>\n      <th>initiator_legalname</th>\n      <th>initiator_address</th>\n      <th>initiator_region</th>\n      <th>item_amount</th>\n      <th>item_classification</th>\n    </tr>\n  </thead>\n  <tbody>\n    <tr>\n      <th>0</th>\n      <td>010624-040A8668</td>\n      <td>2024-06-01T17:36:27.658298Z</td>\n      <td>pending</td>\n      <td>Харчоблок базової кухні</td>\n      <td>4394869</td>\n      <td>ВЕЛИКОБІРКІВСЬКА СЕЛИЩНА РАДА</td>\n      <td>Тернопільська обл., Тернопільський р-н, селище...</td>\n      <td>Тернопільська</td>\n      <td>3967203.0</td>\n      <td>kitchen</td>\n    </tr>\n    <tr>\n      <th>1</th>\n      <td>020624-2C34FAB7</td>\n      <td>2024-06-02T16:32:18.130273Z</td>\n      <td>pending</td>\n      <td>харчоблок</td>\n      <td>2146222</td>\n      <td>УПРАВЛІННЯ ОСВІТИ, МОЛОДІ ТА СПОРТУ ЛОЗІВСЬКОЇ...</td>\n      <td>Харківська обл., місто Лозова, МІКРОРАЙОН 1, б...</td>\n      <td>Харківська</td>\n      <td>9607874.0</td>\n      <td>kitchen</td>\n    </tr>\n    <tr>\n      <th>2</th>\n      <td>020624-9F163A6A</td>\n      <td>2024-06-02T18:06:32.388695Z</td>\n      <td>pending</td>\n      <td>харчоблок</td>\n      <td>2146222</td>\n      <td>УПРАВЛІННЯ ОСВІТИ, МОЛОДІ ТА СПОРТУ ЛОЗІВСЬКОЇ...</td>\n      <td>Харківська обл., місто Лозова, МІКРОРАЙОН 1, б...</td>\n      <td>Харківська</td>\n      <td>16569763.0</td>\n      <td>kitchen</td>\n    </tr>\n    <tr>\n      <th>3</th>\n      <td>020624-D8610EBB</td>\n      <td>2024-06-02T17:09:51.508281Z</td>\n      <td>pending</td>\n      <td>харчоблок</td>\n      <td>2146222</td>\n      <td>УПРАВЛІННЯ ОСВІТИ, МОЛОДІ ТА СПОРТУ ЛОЗІВСЬКОЇ...</td>\n      <td>Харківська обл., місто Лозова, МІКРОРАЙОН 1, б...</td>\n      <td>Харківська</td>\n      <td>20051019.0</td>\n      <td>kitchen</td>\n    </tr>\n    <tr>\n      <th>4</th>\n      <td>020624-E1B2F3B0</td>\n      <td>2024-06-02T16:20:55.533024Z</td>\n      <td>pending</td>\n      <td>харчоблок</td>\n      <td>2146222</td>\n      <td>УПРАВЛІННЯ ОСВІТИ, МОЛОДІ ТА СПОРТУ ЛОЗІВСЬКОЇ...</td>\n      <td>Харківська обл., місто Лозова, МІКРОРАЙОН 1, б...</td>\n      <td>Харківська</td>\n      <td>16166182.0</td>\n      <td>kitchen</td>\n    </tr>\n    <tr>\n      <th>...</th>\n      <td>...</td>\n      <td>...</td>\n      <td>...</td>\n      <td>...</td>\n      <td>...</td>\n      <td>...</td>\n      <td>...</td>\n      <td>...</td>\n      <td>...</td>\n      <td>...</td>\n    </tr>\n    <tr>\n      <th>483</th>\n      <td>310524-F8C525A4</td>\n      <td>2024-05-31T11:04:36.688246Z</td>\n      <td>withdrawn</td>\n      <td>Харчоблок Сварицевицького ліцею</td>\n      <td>44153430</td>\n      <td>ВІДДІЛ ОСВІТИ, КУЛЬТУРИ, ТУРИЗМУ, МОЛОДІ ТА СП...</td>\n      <td>Рівненська обл., Дубровицький р-н, місто Дубро...</td>\n      <td>Рівненська</td>\n      <td>8327800.0</td>\n      <td>kitchen</td>\n    </tr>\n    <tr>\n      <th>484</th>\n      <td>310524-F9A91731</td>\n      <td>2024-05-31T15:20:47.521727Z</td>\n      <td>approval</td>\n      <td>Капітальний ремонт харчоблоку (їдальні) ліцею ...</td>\n      <td>44084980</td>\n      <td>ВІДДІЛ ОСВІТИ ПІДГОРОДНЕНСЬКОЇ МІСЬКОЇ РАДИ ДН...</td>\n      <td>Дніпропетровська обл., Дніпровський р-н, місто...</td>\n      <td>Дніпропетровська</td>\n      <td>11745067.5</td>\n      <td>kitchen</td>\n    </tr>\n    <tr>\n      <th>485</th>\n      <td>310524-F9C0426D</td>\n      <td>2024-05-31T18:11:46.185941Z</td>\n      <td>pending</td>\n      <td>Капітальний ремонт харчоблоку Середньоберезівс...</td>\n      <td>4354255</td>\n      <td>ЯБЛУНІВСЬКА СЕЛИЩНА РАДА КОСІВСЬКОГО РАЙОНУ ІВ...</td>\n      <td>Івано-Франківська обл., Косівський р-н, селище...</td>\n      <td>Івано-Франківська</td>\n      <td>870410.0</td>\n      <td>kitchen</td>\n    </tr>\n    <tr>\n      <th>486</th>\n      <td>310524-FD0808D6</td>\n      <td>2024-05-31T11:34:02.120912Z</td>\n      <td>withdrawn</td>\n      <td>Капітальний ремонт харчоблоку</td>\n      <td>4412567</td>\n      <td>ПОНОРНИЦЬКА СЕЛИЩНА РАДА</td>\n      <td>Чернігівська обл., Новгород-Сіверський р-н, се...</td>\n      <td>Чернігівська</td>\n      <td>3122988.0</td>\n      <td>kitchen</td>\n    </tr>\n    <tr>\n      <th>487</th>\n      <td>310524-FE2BD0D2</td>\n      <td>2024-05-31T13:15:55.786192Z</td>\n      <td>pending</td>\n      <td>Харчоблок БОЛГРАДСЬКОГО ЛІЦЕЮ №2 БОЛГРАДСЬКОЇ ...</td>\n      <td>4057008</td>\n      <td>БОЛГРАДСЬКА МІСЬКА РАДА ОДЕСЬКОЇ ОБЛАСТІ</td>\n      <td>Одеська обл., Болградський р-н, місто Болград,...</td>\n      <td>Одеська</td>\n      <td>1908485.0</td>\n      <td>kitchen</td>\n    </tr>\n  </tbody>\n</table>\n<p>487 rows × 10 columns</p>\n</div>"
     },
     "execution_count": 4,
     "metadata": {},
     "output_type": "execute_result"
    }
   ],
   "source": [
    "# Preprocess the Submissions Dataset\n",
    "df = pd.read_csv(\"../../data/submissions.csv\")\n",
    "df = df.loc[~df.loc[:, \"initiator_address\"].isna()]\n",
    "df"
   ],
   "metadata": {
    "collapsed": false,
    "ExecuteTime": {
     "end_time": "2024-08-01T07:19:45.526261Z",
     "start_time": "2024-08-01T07:19:45.509550Z"
    }
   }
  },
  {
   "cell_type": "code",
   "execution_count": 6,
   "outputs": [
    {
     "data": {
      "text/plain": "     initiator_region item_classification submission_status  \\\n37          Львівська             kitchen           pending   \n32     Кіровоградська             kitchen           pending   \n71         Харківська             shelter          approval   \n28           Київська             kitchen           pending   \n46            Одеська             kitchen           pending   \n..                ...                 ...               ...   \n36          Львівська             kitchen          declined   \n0   Івано-Франківська             kitchen          approval   \n17        Житомирська             kitchen          approval   \n27           Київська             kitchen          approval   \n65      Тернопільська             kitchen          approval   \n\n    number_of_submissions   latitude  longitude  \n37                     21  49.839683  24.029717  \n32                     17  48.507933  32.262317  \n71                     16  50.002013  36.307399  \n28                     16  50.052951  30.766713  \n46                     16  46.484583  30.732600  \n..                    ...        ...        ...  \n36                      1  49.839683  24.029717  \n0                       1  48.920062  24.708916  \n17                      1  50.254650  28.658667  \n27                      1  50.052951  30.766713  \n65                      1  49.551044  25.595218  \n\n[80 rows x 6 columns]",
      "text/html": "<div>\n<style scoped>\n    .dataframe tbody tr th:only-of-type {\n        vertical-align: middle;\n    }\n\n    .dataframe tbody tr th {\n        vertical-align: top;\n    }\n\n    .dataframe thead th {\n        text-align: right;\n    }\n</style>\n<table border=\"1\" class=\"dataframe\">\n  <thead>\n    <tr style=\"text-align: right;\">\n      <th></th>\n      <th>initiator_region</th>\n      <th>item_classification</th>\n      <th>submission_status</th>\n      <th>number_of_submissions</th>\n      <th>latitude</th>\n      <th>longitude</th>\n    </tr>\n  </thead>\n  <tbody>\n    <tr>\n      <th>37</th>\n      <td>Львівська</td>\n      <td>kitchen</td>\n      <td>pending</td>\n      <td>21</td>\n      <td>49.839683</td>\n      <td>24.029717</td>\n    </tr>\n    <tr>\n      <th>32</th>\n      <td>Кіровоградська</td>\n      <td>kitchen</td>\n      <td>pending</td>\n      <td>17</td>\n      <td>48.507933</td>\n      <td>32.262317</td>\n    </tr>\n    <tr>\n      <th>71</th>\n      <td>Харківська</td>\n      <td>shelter</td>\n      <td>approval</td>\n      <td>16</td>\n      <td>50.002013</td>\n      <td>36.307399</td>\n    </tr>\n    <tr>\n      <th>28</th>\n      <td>Київська</td>\n      <td>kitchen</td>\n      <td>pending</td>\n      <td>16</td>\n      <td>50.052951</td>\n      <td>30.766713</td>\n    </tr>\n    <tr>\n      <th>46</th>\n      <td>Одеська</td>\n      <td>kitchen</td>\n      <td>pending</td>\n      <td>16</td>\n      <td>46.484583</td>\n      <td>30.732600</td>\n    </tr>\n    <tr>\n      <th>...</th>\n      <td>...</td>\n      <td>...</td>\n      <td>...</td>\n      <td>...</td>\n      <td>...</td>\n      <td>...</td>\n    </tr>\n    <tr>\n      <th>36</th>\n      <td>Львівська</td>\n      <td>kitchen</td>\n      <td>declined</td>\n      <td>1</td>\n      <td>49.839683</td>\n      <td>24.029717</td>\n    </tr>\n    <tr>\n      <th>0</th>\n      <td>Івано-Франківська</td>\n      <td>kitchen</td>\n      <td>approval</td>\n      <td>1</td>\n      <td>48.920062</td>\n      <td>24.708916</td>\n    </tr>\n    <tr>\n      <th>17</th>\n      <td>Житомирська</td>\n      <td>kitchen</td>\n      <td>approval</td>\n      <td>1</td>\n      <td>50.254650</td>\n      <td>28.658667</td>\n    </tr>\n    <tr>\n      <th>27</th>\n      <td>Київська</td>\n      <td>kitchen</td>\n      <td>approval</td>\n      <td>1</td>\n      <td>50.052951</td>\n      <td>30.766713</td>\n    </tr>\n    <tr>\n      <th>65</th>\n      <td>Тернопільська</td>\n      <td>kitchen</td>\n      <td>approval</td>\n      <td>1</td>\n      <td>49.551044</td>\n      <td>25.595218</td>\n    </tr>\n  </tbody>\n</table>\n<p>80 rows × 6 columns</p>\n</div>"
     },
     "execution_count": 6,
     "metadata": {},
     "output_type": "execute_result"
    }
   ],
   "source": [
    "# Load Geocoded Regions\n",
    "regions_geocoded_df = pd.read_csv('../../data/regions_geocoded.csv')\n",
    "# Group by the specified columns and count submissions\n",
    "groupby_columns = [\n",
    "    'initiator_region',\n",
    "    'item_classification',\n",
    "    'submission_status'\n",
    "]\n",
    "grouper_count_column = 'number_of_submissions'\n",
    "submissions_grouped_df = df.groupby(\n",
    "        groupby_columns,\n",
    "        as_index=False\n",
    "    ).count(\n",
    "    ).rename(\n",
    "        columns={'submission_code': grouper_count_column}\n",
    "    )\n",
    "submissions_grouped_df = submissions_grouped_df.loc[\n",
    "    :,\n",
    "    submissions_grouped_df.columns.isin(\n",
    "        groupby_columns + [grouper_count_column]\n",
    "    )]\n",
    "submissions_grouped_df = submissions_grouped_df.merge(regions_geocoded_df, on='initiator_region', how='left')\n",
    "submissions_grouped_df = submissions_grouped_df.sort_values(by=[\"number_of_submissions\", \"item_classification\", \"submission_status\"], ascending=False)\n",
    "submissions_grouped_df = submissions_grouped_df.dropna()\n",
    "submissions_grouped_df"
   ],
   "metadata": {
    "collapsed": false,
    "ExecuteTime": {
     "end_time": "2024-08-01T07:20:56.745196Z",
     "start_time": "2024-08-01T07:20:56.733803Z"
    }
   }
  },
  {
   "cell_type": "code",
   "execution_count": 7,
   "outputs": [],
   "source": [
    "# Save Preprocessed Dataset\n",
    "submissions_grouped_df.to_csv(\"../../data/submissions_silver.csv\", index=False)"
   ],
   "metadata": {
    "collapsed": false,
    "ExecuteTime": {
     "end_time": "2024-08-01T07:27:33.302804Z",
     "start_time": "2024-08-01T07:27:33.293654Z"
    }
   }
  }
 ],
 "metadata": {
  "kernelspec": {
   "display_name": "Python 3",
   "language": "python",
   "name": "python3"
  },
  "language_info": {
   "codemirror_mode": {
    "name": "ipython",
    "version": 2
   },
   "file_extension": ".py",
   "mimetype": "text/x-python",
   "name": "python",
   "nbconvert_exporter": "python",
   "pygments_lexer": "ipython2",
   "version": "2.7.6"
  }
 },
 "nbformat": 4,
 "nbformat_minor": 0
}
